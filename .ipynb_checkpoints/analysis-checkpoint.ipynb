{
 "cells": [
  {
   "cell_type": "code",
   "execution_count": 8,
   "metadata": {},
   "outputs": [],
   "source": [
    "from utils import engine\n",
    "import pandas as pd\n",
    "from sqlalchemy.exc import ResourceClosedError"
   ]
  },
  {
   "cell_type": "code",
   "execution_count": 33,
   "metadata": {
    "collapsed": false,
    "jupyter": {
     "outputs_hidden": false
    },
    "pycharm": {
     "name": "#%%\n"
    }
   },
   "outputs": [],
   "source": [
    "end_date = '20191231'\n",
    "report_date = '20200710'\n"
   ]
  },
  {
   "cell_type": "code",
   "execution_count": 34,
   "metadata": {},
   "outputs": [],
   "source": [
    "def execute(sql):\n",
    "    try:\n",
    "        df = pd.read_sql(sql, engine)\n",
    "        return df\n",
    "    except ResourceClosedError:\n",
    "        print(\"No data return!\")"
   ]
  },
  {
   "cell_type": "code",
   "execution_count": 35,
   "metadata": {
    "collapsed": false,
    "jupyter": {
     "outputs_hidden": false
    },
    "pycharm": {
     "name": "#%%\n"
    }
   },
   "outputs": [
    {
     "name": "stdout",
     "output_type": "stream",
     "text": [
      "No data return!\n",
      "No data return!\n"
     ]
    }
   ],
   "source": [
    "## 行业PE\n",
    "execute('''drop table if exists pe_industry''')\n",
    "execute(f'''\n",
    "create table pe_industry as\n",
    "select trade_date,industry, round(avg(pe_ttm),2) pe_ttm_ind from stock_basic sb\n",
    "join daily_basic d on sb.ts_code = d.ts_code\n",
    "where d.trade_date='{report_date}'\n",
    "group by industry\n",
    "''')"
   ]
  },
  {
   "cell_type": "code",
   "execution_count": 36,
   "metadata": {
    "collapsed": false,
    "jupyter": {
     "outputs_hidden": false
    },
    "pycharm": {
     "name": "#%%\n"
    }
   },
   "outputs": [
    {
     "name": "stdout",
     "output_type": "stream",
     "text": [
      "No data return!\n",
      "No data return!\n"
     ]
    }
   ],
   "source": [
    "## 个股PE\n",
    "execute('''drop table if exists pe_history''')\n",
    "execute(f'''\n",
    "create table pe_history as\n",
    "select '{report_date}' report_date, sb.ts_code, sb.name, round(avg(pe),2) pe_his, round(avg(pe_ttm),2) pe_ttm_his \n",
    "from stock_basic sb\n",
    "join daily_basic db on sb.ts_code=db.ts_code\n",
    "where trade_date < '{report_date}'\n",
    "and trade_date > replace(date_sub('{report_date}' , INTERVAL 360 DAY),'-','')\n",
    "and trade_date > replace(date_add(sb.list_date , INTERVAL 60 DAY),'-','')\n",
    "group by sb.ts_code\n",
    "''')"
   ]
  },
  {
   "cell_type": "code",
   "execution_count": 37,
   "metadata": {},
   "outputs": [
    {
     "name": "stdout",
     "output_type": "stream",
     "text": [
      "No data return!\n",
      "No data return!\n"
     ]
    }
   ],
   "source": [
    "## 分析\n",
    "execute('''drop table if exists tmp_results''')\n",
    "execute(f'''\n",
    "create table tmp_results as\n",
    "SELECT A.ts_code, sb.industry, sb.name, \n",
    "\t   dt_roe_ttm, \n",
    "       avg_roe, \n",
    "       pe, pe_ttm,\n",
    "       pe_ttm_ind,\n",
    "       pe_his,\n",
    "       pe_ttm_his,\n",
    "       netprofit_yoy_ttm,\n",
    "       dt_netprofit_yoy_ttm,\n",
    "       grossprofit_margin_ttm,\n",
    "       netprofit_margin_ttm\n",
    "FROM (\n",
    "\tSELECT *, \n",
    "        row_number() over (partition by ts_code order by end_date desc) rn\n",
    "    FROM tmp_ttm\n",
    "    where end_date < '{report_date}'\n",
    "    ) A\n",
    "JOIN (\n",
    "\t\tSELECT name, round(AVG(dt_roe_ttm),2) AS avg_roe\n",
    "\t\tFROM tmp_ttm\n",
    "\t\twhere end_date > replace(date_sub('{report_date}' , INTERVAL 540 DAY),'-','')\n",
    "        and end_date < '{report_date}'\n",
    "\t\tGROUP BY name\n",
    "\t) B ON A.name = B.name\n",
    "JOIN daily_basic C ON A.ts_code = C.ts_code\n",
    "join stock_basic sb on A.ts_code = sb.ts_code\n",
    "join pe_industry pi on sb.industry = pi.industry\n",
    "join pe_history ph on A.ts_code = ph.ts_code\n",
    "WHERE rn = 1\n",
    "    and C.trade_date = '{report_date}'\n",
    "    and dt_roe_ttm > 15\n",
    "\tAND avg_roe > 15\n",
    "\tAND pe < 20\n",
    "\tAND pe_ttm < 20\n",
    "    and netprofit_yoy_ttm > 10\n",
    "ORDER BY dt_roe_ttm DESC\n",
    "''')\n"
   ]
  },
  {
   "cell_type": "code",
   "execution_count": 41,
   "metadata": {},
   "outputs": [],
   "source": [
    "df_label = execute(f'''\n",
    "select tr.*, f_tm/total_mv y\n",
    "from(\n",
    "\tselect *\n",
    "    from daily_basic\n",
    "\twhere ts_code in (select distinct ts_code from tmp_results) \n",
    "\t\tand trade_date='{report_date}' \n",
    ") base\n",
    "join (\n",
    "\tselect ts_code, max(total_mv) f_tm from daily_basic\n",
    "    where ts_code in (select distinct ts_code from tmp_results) \n",
    "\t\tand trade_date > '{report_date}' and trade_date < replace(date_add('{report_date}', interval 90 day),\"-\",\"\")\n",
    "\tgroup by ts_code\n",
    ") F on base.ts_code=F.ts_code\n",
    "join stock_basic sb\n",
    "on base.ts_code=sb.ts_code\n",
    "join tmp_results tr on base.ts_code=tr.ts_code\n",
    "''')"
   ]
  },
  {
   "cell_type": "code",
   "execution_count": 45,
   "metadata": {},
   "outputs": [],
   "source": [
    "x = df_label.drop(['ts_code','industry','name', 'y'],axis=1)\n",
    "y = df_label.loc[:,'y']"
   ]
  },
  {
   "cell_type": "code",
   "execution_count": 60,
   "metadata": {},
   "outputs": [],
   "source": [
    "y = y>1.05"
   ]
  },
  {
   "cell_type": "code",
   "execution_count": 61,
   "metadata": {},
   "outputs": [],
   "source": [
    "import lightgbm as lgb"
   ]
  },
  {
   "cell_type": "code",
   "execution_count": 62,
   "metadata": {},
   "outputs": [],
   "source": [
    "lgr = lgb.LGBMClassifier()"
   ]
  },
  {
   "cell_type": "code",
   "execution_count": 63,
   "metadata": {},
   "outputs": [
    {
     "name": "stdout",
     "output_type": "stream",
     "text": [
      "[1]\ttraining's binary_logloss: 0.591039\n",
      "[2]\ttraining's binary_logloss: 0.579846\n",
      "[3]\ttraining's binary_logloss: 0.569707\n",
      "[4]\ttraining's binary_logloss: 0.551139\n",
      "[5]\ttraining's binary_logloss: 0.541116\n",
      "[6]\ttraining's binary_logloss: 0.527099\n",
      "[7]\ttraining's binary_logloss: 0.519571\n",
      "[8]\ttraining's binary_logloss: 0.507838\n",
      "[9]\ttraining's binary_logloss: 0.500205\n",
      "[10]\ttraining's binary_logloss: 0.491352\n",
      "[11]\ttraining's binary_logloss: 0.485089\n",
      "[12]\ttraining's binary_logloss: 0.475252\n",
      "[13]\ttraining's binary_logloss: 0.469172\n",
      "[14]\ttraining's binary_logloss: 0.461613\n",
      "[15]\ttraining's binary_logloss: 0.456493\n",
      "[16]\ttraining's binary_logloss: 0.451752\n",
      "[17]\ttraining's binary_logloss: 0.446663\n",
      "[18]\ttraining's binary_logloss: 0.439612\n",
      "[19]\ttraining's binary_logloss: 0.432922\n",
      "[20]\ttraining's binary_logloss: 0.42956\n",
      "[21]\ttraining's binary_logloss: 0.425188\n",
      "[22]\ttraining's binary_logloss: 0.419044\n",
      "[23]\ttraining's binary_logloss: 0.413443\n",
      "[24]\ttraining's binary_logloss: 0.409956\n",
      "[25]\ttraining's binary_logloss: 0.405029\n",
      "[26]\ttraining's binary_logloss: 0.401271\n",
      "[27]\ttraining's binary_logloss: 0.398192\n",
      "[28]\ttraining's binary_logloss: 0.393309\n",
      "[29]\ttraining's binary_logloss: 0.390552\n",
      "[30]\ttraining's binary_logloss: 0.386438\n",
      "[31]\ttraining's binary_logloss: 0.383628\n",
      "[32]\ttraining's binary_logloss: 0.381125\n",
      "[33]\ttraining's binary_logloss: 0.376452\n",
      "[34]\ttraining's binary_logloss: 0.373901\n",
      "[35]\ttraining's binary_logloss: 0.370597\n",
      "[36]\ttraining's binary_logloss: 0.366332\n",
      "[37]\ttraining's binary_logloss: 0.36327\n",
      "[38]\ttraining's binary_logloss: 0.361047\n",
      "[39]\ttraining's binary_logloss: 0.356967\n",
      "[40]\ttraining's binary_logloss: 0.352327\n",
      "[41]\ttraining's binary_logloss: 0.348635\n",
      "[42]\ttraining's binary_logloss: 0.345572\n",
      "[43]\ttraining's binary_logloss: 0.342692\n",
      "[44]\ttraining's binary_logloss: 0.339975\n",
      "[45]\ttraining's binary_logloss: 0.336525\n",
      "[46]\ttraining's binary_logloss: 0.332679\n",
      "[47]\ttraining's binary_logloss: 0.329747\n",
      "[48]\ttraining's binary_logloss: 0.327212\n",
      "[49]\ttraining's binary_logloss: 0.324749\n",
      "[50]\ttraining's binary_logloss: 0.321563\n",
      "[51]\ttraining's binary_logloss: 0.319255\n",
      "[52]\ttraining's binary_logloss: 0.31679\n",
      "[53]\ttraining's binary_logloss: 0.314628\n",
      "[54]\ttraining's binary_logloss: 0.311439\n",
      "[55]\ttraining's binary_logloss: 0.308478\n",
      "[56]\ttraining's binary_logloss: 0.306349\n",
      "[57]\ttraining's binary_logloss: 0.303687\n",
      "[58]\ttraining's binary_logloss: 0.301618\n",
      "[59]\ttraining's binary_logloss: 0.298818\n",
      "[60]\ttraining's binary_logloss: 0.296948\n",
      "[61]\ttraining's binary_logloss: 0.294882\n",
      "[62]\ttraining's binary_logloss: 0.292483\n",
      "[63]\ttraining's binary_logloss: 0.2901\n",
      "[64]\ttraining's binary_logloss: 0.287134\n",
      "[65]\ttraining's binary_logloss: 0.285002\n",
      "[66]\ttraining's binary_logloss: 0.282601\n",
      "[67]\ttraining's binary_logloss: 0.279745\n",
      "[68]\ttraining's binary_logloss: 0.277771\n",
      "[69]\ttraining's binary_logloss: 0.275781\n",
      "[70]\ttraining's binary_logloss: 0.273742\n",
      "[71]\ttraining's binary_logloss: 0.270741\n",
      "[72]\ttraining's binary_logloss: 0.269313\n",
      "[73]\ttraining's binary_logloss: 0.266407\n",
      "[74]\ttraining's binary_logloss: 0.264579\n",
      "[75]\ttraining's binary_logloss: 0.262589\n",
      "[76]\ttraining's binary_logloss: 0.260927\n",
      "[77]\ttraining's binary_logloss: 0.258556\n",
      "[78]\ttraining's binary_logloss: 0.257061\n",
      "[79]\ttraining's binary_logloss: 0.254315\n",
      "[80]\ttraining's binary_logloss: 0.252228\n",
      "[81]\ttraining's binary_logloss: 0.250484\n",
      "[82]\ttraining's binary_logloss: 0.249136\n",
      "[83]\ttraining's binary_logloss: 0.246333\n",
      "[84]\ttraining's binary_logloss: 0.244516\n",
      "[85]\ttraining's binary_logloss: 0.242205\n",
      "[86]\ttraining's binary_logloss: 0.240819\n",
      "[87]\ttraining's binary_logloss: 0.239325\n",
      "[88]\ttraining's binary_logloss: 0.237464\n",
      "[89]\ttraining's binary_logloss: 0.23522\n",
      "[90]\ttraining's binary_logloss: 0.233029\n",
      "[91]\ttraining's binary_logloss: 0.230997\n",
      "[92]\ttraining's binary_logloss: 0.229078\n",
      "[93]\ttraining's binary_logloss: 0.227302\n",
      "[94]\ttraining's binary_logloss: 0.225885\n",
      "[95]\ttraining's binary_logloss: 0.223922\n",
      "[96]\ttraining's binary_logloss: 0.221725\n",
      "[97]\ttraining's binary_logloss: 0.220477\n",
      "[98]\ttraining's binary_logloss: 0.219427\n",
      "[99]\ttraining's binary_logloss: 0.217872\n",
      "[100]\ttraining's binary_logloss: 0.216146\n"
     ]
    },
    {
     "data": {
      "text/plain": [
       "LGBMClassifier(boosting_type='gbdt', class_weight=None, colsample_bytree=1.0,\n",
       "               importance_type='split', learning_rate=0.1, max_depth=-1,\n",
       "               min_child_samples=20, min_child_weight=0.001, min_split_gain=0.0,\n",
       "               n_estimators=100, n_jobs=-1, num_leaves=31, objective=None,\n",
       "               random_state=None, reg_alpha=0.0, reg_lambda=0.0, silent=True,\n",
       "               subsample=1.0, subsample_for_bin=200000, subsample_freq=0)"
      ]
     },
     "execution_count": 63,
     "metadata": {},
     "output_type": "execute_result"
    }
   ],
   "source": [
    "lgr.fit(x,y,eval_set=(x,y))"
   ]
  },
  {
   "cell_type": "code",
   "execution_count": 64,
   "metadata": {},
   "outputs": [],
   "source": [
    "y_ = lgr.predict(x)"
   ]
  },
  {
   "cell_type": "code",
   "execution_count": 65,
   "metadata": {},
   "outputs": [
    {
     "name": "stderr",
     "output_type": "stream",
     "text": [
      "C:\\Anaconda3\\lib\\site-packages\\pandas\\core\\computation\\expressions.py:183: UserWarning: evaluating in Python space because the '-' operator is not supported by numexpr for the bool dtype, use '^' instead\n",
      "  .format(op=op_str, alt_op=unsupported[op_str]))\n"
     ]
    },
    {
     "ename": "TypeError",
     "evalue": "numpy boolean subtract, the `-` operator, is not supported, use the bitwise_xor, the `^` operator, or the logical_xor function instead.",
     "output_type": "error",
     "traceback": [
      "\u001b[1;31m---------------------------------------------------------------------------\u001b[0m",
      "\u001b[1;31mTypeError\u001b[0m                                 Traceback (most recent call last)",
      "\u001b[1;32mC:\\Anaconda3\\lib\\site-packages\\pandas\\core\\ops.py\u001b[0m in \u001b[0;36mna_op\u001b[1;34m(x, y)\u001b[0m\n\u001b[0;32m   1504\u001b[0m         \u001b[1;32mtry\u001b[0m\u001b[1;33m:\u001b[0m\u001b[1;33m\u001b[0m\u001b[1;33m\u001b[0m\u001b[0m\n\u001b[1;32m-> 1505\u001b[1;33m             \u001b[0mresult\u001b[0m \u001b[1;33m=\u001b[0m \u001b[0mexpressions\u001b[0m\u001b[1;33m.\u001b[0m\u001b[0mevaluate\u001b[0m\u001b[1;33m(\u001b[0m\u001b[0mop\u001b[0m\u001b[1;33m,\u001b[0m \u001b[0mstr_rep\u001b[0m\u001b[1;33m,\u001b[0m \u001b[0mx\u001b[0m\u001b[1;33m,\u001b[0m \u001b[0my\u001b[0m\u001b[1;33m,\u001b[0m \u001b[1;33m**\u001b[0m\u001b[0meval_kwargs\u001b[0m\u001b[1;33m)\u001b[0m\u001b[1;33m\u001b[0m\u001b[1;33m\u001b[0m\u001b[0m\n\u001b[0m\u001b[0;32m   1506\u001b[0m         \u001b[1;32mexcept\u001b[0m \u001b[0mTypeError\u001b[0m\u001b[1;33m:\u001b[0m\u001b[1;33m\u001b[0m\u001b[1;33m\u001b[0m\u001b[0m\n",
      "\u001b[1;32mC:\\Anaconda3\\lib\\site-packages\\pandas\\core\\computation\\expressions.py\u001b[0m in \u001b[0;36mevaluate\u001b[1;34m(op, op_str, a, b, use_numexpr, **eval_kwargs)\u001b[0m\n\u001b[0;32m    208\u001b[0m         \u001b[1;32mreturn\u001b[0m \u001b[0m_evaluate\u001b[0m\u001b[1;33m(\u001b[0m\u001b[0mop\u001b[0m\u001b[1;33m,\u001b[0m \u001b[0mop_str\u001b[0m\u001b[1;33m,\u001b[0m \u001b[0ma\u001b[0m\u001b[1;33m,\u001b[0m \u001b[0mb\u001b[0m\u001b[1;33m,\u001b[0m \u001b[1;33m**\u001b[0m\u001b[0meval_kwargs\u001b[0m\u001b[1;33m)\u001b[0m\u001b[1;33m\u001b[0m\u001b[1;33m\u001b[0m\u001b[0m\n\u001b[1;32m--> 209\u001b[1;33m     \u001b[1;32mreturn\u001b[0m \u001b[0m_evaluate_standard\u001b[0m\u001b[1;33m(\u001b[0m\u001b[0mop\u001b[0m\u001b[1;33m,\u001b[0m \u001b[0mop_str\u001b[0m\u001b[1;33m,\u001b[0m \u001b[0ma\u001b[0m\u001b[1;33m,\u001b[0m \u001b[0mb\u001b[0m\u001b[1;33m)\u001b[0m\u001b[1;33m\u001b[0m\u001b[1;33m\u001b[0m\u001b[0m\n\u001b[0m\u001b[0;32m    210\u001b[0m \u001b[1;33m\u001b[0m\u001b[0m\n",
      "\u001b[1;32mC:\\Anaconda3\\lib\\site-packages\\pandas\\core\\computation\\expressions.py\u001b[0m in \u001b[0;36m_evaluate_standard\u001b[1;34m(op, op_str, a, b, **eval_kwargs)\u001b[0m\n\u001b[0;32m     67\u001b[0m     \u001b[1;32mwith\u001b[0m \u001b[0mnp\u001b[0m\u001b[1;33m.\u001b[0m\u001b[0merrstate\u001b[0m\u001b[1;33m(\u001b[0m\u001b[0mall\u001b[0m\u001b[1;33m=\u001b[0m\u001b[1;34m'ignore'\u001b[0m\u001b[1;33m)\u001b[0m\u001b[1;33m:\u001b[0m\u001b[1;33m\u001b[0m\u001b[1;33m\u001b[0m\u001b[0m\n\u001b[1;32m---> 68\u001b[1;33m         \u001b[1;32mreturn\u001b[0m \u001b[0mop\u001b[0m\u001b[1;33m(\u001b[0m\u001b[0ma\u001b[0m\u001b[1;33m,\u001b[0m \u001b[0mb\u001b[0m\u001b[1;33m)\u001b[0m\u001b[1;33m\u001b[0m\u001b[1;33m\u001b[0m\u001b[0m\n\u001b[0m\u001b[0;32m     69\u001b[0m \u001b[1;33m\u001b[0m\u001b[0m\n",
      "\u001b[1;31mTypeError\u001b[0m: numpy boolean subtract, the `-` operator, is not supported, use the bitwise_xor, the `^` operator, or the logical_xor function instead.",
      "\nDuring handling of the above exception, another exception occurred:\n",
      "\u001b[1;31mTypeError\u001b[0m                                 Traceback (most recent call last)",
      "\u001b[1;32m<ipython-input-65-46da746d7292>\u001b[0m in \u001b[0;36m<module>\u001b[1;34m\u001b[0m\n\u001b[1;32m----> 1\u001b[1;33m \u001b[0msum\u001b[0m\u001b[1;33m(\u001b[0m\u001b[0mabs\u001b[0m\u001b[1;33m(\u001b[0m\u001b[0my\u001b[0m \u001b[1;33m-\u001b[0m \u001b[0my_\u001b[0m\u001b[1;33m)\u001b[0m\u001b[1;33m<\u001b[0m\u001b[1;36m0.01\u001b[0m\u001b[1;33m)\u001b[0m\u001b[1;33m/\u001b[0m\u001b[0mlen\u001b[0m\u001b[1;33m(\u001b[0m\u001b[0my_\u001b[0m\u001b[1;33m)\u001b[0m\u001b[1;33m\u001b[0m\u001b[1;33m\u001b[0m\u001b[0m\n\u001b[0m",
      "\u001b[1;32mC:\\Anaconda3\\lib\\site-packages\\pandas\\core\\ops.py\u001b[0m in \u001b[0;36mwrapper\u001b[1;34m(left, right)\u001b[0m\n\u001b[0;32m   1581\u001b[0m             \u001b[0mrvalues\u001b[0m \u001b[1;33m=\u001b[0m \u001b[0mrvalues\u001b[0m\u001b[1;33m.\u001b[0m\u001b[0mvalues\u001b[0m\u001b[1;33m\u001b[0m\u001b[1;33m\u001b[0m\u001b[0m\n\u001b[0;32m   1582\u001b[0m \u001b[1;33m\u001b[0m\u001b[0m\n\u001b[1;32m-> 1583\u001b[1;33m         \u001b[0mresult\u001b[0m \u001b[1;33m=\u001b[0m \u001b[0msafe_na_op\u001b[0m\u001b[1;33m(\u001b[0m\u001b[0mlvalues\u001b[0m\u001b[1;33m,\u001b[0m \u001b[0mrvalues\u001b[0m\u001b[1;33m)\u001b[0m\u001b[1;33m\u001b[0m\u001b[1;33m\u001b[0m\u001b[0m\n\u001b[0m\u001b[0;32m   1584\u001b[0m         return construct_result(left, result,\n\u001b[0;32m   1585\u001b[0m                                 index=left.index, name=res_name, dtype=None)\n",
      "\u001b[1;32mC:\\Anaconda3\\lib\\site-packages\\pandas\\core\\ops.py\u001b[0m in \u001b[0;36msafe_na_op\u001b[1;34m(lvalues, rvalues)\u001b[0m\n\u001b[0;32m   1527\u001b[0m         \u001b[1;32mtry\u001b[0m\u001b[1;33m:\u001b[0m\u001b[1;33m\u001b[0m\u001b[1;33m\u001b[0m\u001b[0m\n\u001b[0;32m   1528\u001b[0m             \u001b[1;32mwith\u001b[0m \u001b[0mnp\u001b[0m\u001b[1;33m.\u001b[0m\u001b[0merrstate\u001b[0m\u001b[1;33m(\u001b[0m\u001b[0mall\u001b[0m\u001b[1;33m=\u001b[0m\u001b[1;34m'ignore'\u001b[0m\u001b[1;33m)\u001b[0m\u001b[1;33m:\u001b[0m\u001b[1;33m\u001b[0m\u001b[1;33m\u001b[0m\u001b[0m\n\u001b[1;32m-> 1529\u001b[1;33m                 \u001b[1;32mreturn\u001b[0m \u001b[0mna_op\u001b[0m\u001b[1;33m(\u001b[0m\u001b[0mlvalues\u001b[0m\u001b[1;33m,\u001b[0m \u001b[0mrvalues\u001b[0m\u001b[1;33m)\u001b[0m\u001b[1;33m\u001b[0m\u001b[1;33m\u001b[0m\u001b[0m\n\u001b[0m\u001b[0;32m   1530\u001b[0m         \u001b[1;32mexcept\u001b[0m \u001b[0mException\u001b[0m\u001b[1;33m:\u001b[0m\u001b[1;33m\u001b[0m\u001b[1;33m\u001b[0m\u001b[0m\n\u001b[0;32m   1531\u001b[0m             \u001b[1;32mif\u001b[0m \u001b[0mis_object_dtype\u001b[0m\u001b[1;33m(\u001b[0m\u001b[0mlvalues\u001b[0m\u001b[1;33m)\u001b[0m\u001b[1;33m:\u001b[0m\u001b[1;33m\u001b[0m\u001b[1;33m\u001b[0m\u001b[0m\n",
      "\u001b[1;32mC:\\Anaconda3\\lib\\site-packages\\pandas\\core\\ops.py\u001b[0m in \u001b[0;36mna_op\u001b[1;34m(x, y)\u001b[0m\n\u001b[0;32m   1505\u001b[0m             \u001b[0mresult\u001b[0m \u001b[1;33m=\u001b[0m \u001b[0mexpressions\u001b[0m\u001b[1;33m.\u001b[0m\u001b[0mevaluate\u001b[0m\u001b[1;33m(\u001b[0m\u001b[0mop\u001b[0m\u001b[1;33m,\u001b[0m \u001b[0mstr_rep\u001b[0m\u001b[1;33m,\u001b[0m \u001b[0mx\u001b[0m\u001b[1;33m,\u001b[0m \u001b[0my\u001b[0m\u001b[1;33m,\u001b[0m \u001b[1;33m**\u001b[0m\u001b[0meval_kwargs\u001b[0m\u001b[1;33m)\u001b[0m\u001b[1;33m\u001b[0m\u001b[1;33m\u001b[0m\u001b[0m\n\u001b[0;32m   1506\u001b[0m         \u001b[1;32mexcept\u001b[0m \u001b[0mTypeError\u001b[0m\u001b[1;33m:\u001b[0m\u001b[1;33m\u001b[0m\u001b[1;33m\u001b[0m\u001b[0m\n\u001b[1;32m-> 1507\u001b[1;33m             \u001b[0mresult\u001b[0m \u001b[1;33m=\u001b[0m \u001b[0mmasked_arith_op\u001b[0m\u001b[1;33m(\u001b[0m\u001b[0mx\u001b[0m\u001b[1;33m,\u001b[0m \u001b[0my\u001b[0m\u001b[1;33m,\u001b[0m \u001b[0mop\u001b[0m\u001b[1;33m)\u001b[0m\u001b[1;33m\u001b[0m\u001b[1;33m\u001b[0m\u001b[0m\n\u001b[0m\u001b[0;32m   1508\u001b[0m \u001b[1;33m\u001b[0m\u001b[0m\n\u001b[0;32m   1509\u001b[0m         \u001b[0mresult\u001b[0m \u001b[1;33m=\u001b[0m \u001b[0mmissing\u001b[0m\u001b[1;33m.\u001b[0m\u001b[0mfill_zeros\u001b[0m\u001b[1;33m(\u001b[0m\u001b[0mresult\u001b[0m\u001b[1;33m,\u001b[0m \u001b[0mx\u001b[0m\u001b[1;33m,\u001b[0m \u001b[0my\u001b[0m\u001b[1;33m,\u001b[0m \u001b[0mop_name\u001b[0m\u001b[1;33m,\u001b[0m \u001b[0mfill_zeros\u001b[0m\u001b[1;33m)\u001b[0m\u001b[1;33m\u001b[0m\u001b[1;33m\u001b[0m\u001b[0m\n",
      "\u001b[1;32mC:\\Anaconda3\\lib\\site-packages\\pandas\\core\\ops.py\u001b[0m in \u001b[0;36mmasked_arith_op\u001b[1;34m(x, y, op)\u001b[0m\n\u001b[0;32m   1007\u001b[0m             \u001b[1;32mwith\u001b[0m \u001b[0mnp\u001b[0m\u001b[1;33m.\u001b[0m\u001b[0merrstate\u001b[0m\u001b[1;33m(\u001b[0m\u001b[0mall\u001b[0m\u001b[1;33m=\u001b[0m\u001b[1;34m'ignore'\u001b[0m\u001b[1;33m)\u001b[0m\u001b[1;33m:\u001b[0m\u001b[1;33m\u001b[0m\u001b[1;33m\u001b[0m\u001b[0m\n\u001b[0;32m   1008\u001b[0m                 result[mask] = op(xrav[mask],\n\u001b[1;32m-> 1009\u001b[1;33m                                   com.values_from_object(yrav[mask]))\n\u001b[0m\u001b[0;32m   1010\u001b[0m \u001b[1;33m\u001b[0m\u001b[0m\n\u001b[0;32m   1011\u001b[0m     \u001b[1;32melse\u001b[0m\u001b[1;33m:\u001b[0m\u001b[1;33m\u001b[0m\u001b[1;33m\u001b[0m\u001b[0m\n",
      "\u001b[1;31mTypeError\u001b[0m: numpy boolean subtract, the `-` operator, is not supported, use the bitwise_xor, the `^` operator, or the logical_xor function instead."
     ]
    }
   ],
   "source": [
    "sum(abs(y - y_)<0.01)/len(y_)"
   ]
  },
  {
   "cell_type": "code",
   "execution_count": 70,
   "metadata": {},
   "outputs": [
    {
     "data": {
      "text/plain": [
       "0.9568965517241379"
      ]
     },
     "execution_count": 70,
     "metadata": {},
     "output_type": "execute_result"
    }
   ],
   "source": [
    "sum(y_ == y)/len(y)"
   ]
  },
  {
   "cell_type": "code",
   "execution_count": null,
   "metadata": {},
   "outputs": [],
   "source": []
  }
 ],
 "metadata": {
  "kernelspec": {
   "display_name": "Python 3",
   "language": "python",
   "name": "python3"
  },
  "language_info": {
   "codemirror_mode": {
    "name": "ipython",
    "version": 3
   },
   "file_extension": ".py",
   "mimetype": "text/x-python",
   "name": "python",
   "nbconvert_exporter": "python",
   "pygments_lexer": "ipython3",
   "version": "3.7.3"
  },
  "pycharm": {
   "stem_cell": {
    "cell_type": "raw",
    "source": [],
    "metadata": {
     "collapsed": false
    }
   }
  }
 },
 "nbformat": 4,
 "nbformat_minor": 4
}