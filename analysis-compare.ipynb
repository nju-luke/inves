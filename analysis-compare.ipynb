{
 "cells": [
  {
   "cell_type": "code",
   "execution_count": null,
   "metadata": {
    "pycharm": {
     "is_executing": false
    }
   },
   "outputs": [],
   "source": [
    "import pandas as pd\n",
    "import numpy as np\n",
    "import tushare as ts\n",
    "import plotly.express as px\n",
    "import plotly.graph_objects as go\n",
    "from plotly.subplots import make_subplots\n",
    "from plotly.colors import DEFAULT_PLOTLY_COLORS\n",
    "from utils import get_data\n",
    "import datetime\n",
    "pro = ts.pro_api()\n",
    "today = datetime.datetime.today()\n",
    "cur_year = str(today.year)"
   ]
  },
  {
   "cell_type": "markdown",
   "metadata": {},
   "source": [
    "# 设置参数"
   ]
  },
  {
   "cell_type": "code",
   "execution_count": null,
   "metadata": {
    "pycharm": {
     "is_executing": false
    }
   },
   "outputs": [],
   "source": [
    "comp_dicts = {\n",
    "    \"000672\":\"上峰水泥\",\n",
    "    \"600585\":\"海螺水泥\",\n",
    "    \n",
    "#     \"300552\":\"万集科技\",\n",
    "#     \"002869\":\"金溢科技\",\n",
    "    \n",
    "#     \"601318\":\"中国平安\",\n",
    "#     '603589':'口子窖',\n",
    "#     '000596':'古井贡酒',\n",
    "#     '603189':'迎驾贡酒',\n",
    "#     '600199':'金种子酒',\n",
    "#     \"002304\":'洋河股份'\n",
    "}\n",
    "\n",
    "\n",
    "# target_code = '002304' # y洋河"
   ]
  },
  {
   "cell_type": "code",
   "execution_count": null,
   "metadata": {},
   "outputs": [],
   "source": [
    "is_ann_report = True  ## True:年报   False:季度\n",
    "start_year = '2010'"
   ]
  },
  {
   "cell_type": "code",
   "execution_count": null,
   "metadata": {
    "pycharm": {
     "is_executing": false
    }
   },
   "outputs": [],
   "source": [
    "for k,v in list(comp_dicts.items()):\n",
    "    if \".\" in k: continue\n",
    "    surfix = '.SH' if k.startswith('6') else '.SZ'\n",
    "    comp_dicts.pop(k)\n",
    "    comp_dicts[k+surfix] = v"
   ]
  },
  {
   "cell_type": "code",
   "execution_count": null,
   "metadata": {
    "pycharm": {
     "is_executing": false
    }
   },
   "outputs": [],
   "source": [
    "if is_ann_report:\n",
    "    report_type = 1\n",
    "    date_filter = lambda x:(x.endswith('1231')) and x>start_year\n",
    "else:\n",
    "    report_type = 2\n",
    "    date_filter = lambda x:x>start_year\n"
   ]
  },
  {
   "cell_type": "code",
   "execution_count": null,
   "metadata": {
    "pycharm": {
     "is_executing": false
    }
   },
   "outputs": [],
   "source": [
    "data_dfs = {}\n",
    "for k in comp_dicts:\n",
    "    data_dfs[comp_dicts[k]] = get_data(k, date_filter)"
   ]
  },
  {
   "cell_type": "markdown",
   "metadata": {},
   "source": [
    "# ROE 分析"
   ]
  },
  {
   "cell_type": "markdown",
   "metadata": {},
   "source": [
    "## ROE & ROA"
   ]
  },
  {
   "cell_type": "code",
   "execution_count": null,
   "metadata": {},
   "outputs": [],
   "source": [
    "fig = make_subplots(1,2, subplot_titles=['ROE','ROA'])\n",
    "\n",
    "for i,k in enumerate(data_dfs.keys()):\n",
    "    line_ = dict(color=DEFAULT_PLOTLY_COLORS[i])\n",
    "    fig.append_trace(go.Scatter(x=data_dfs[k].index, y=data_dfs[k].roe,name=k,line=line_,legendgroup=k),1,1)\n",
    "    fig.append_trace(go.Scatter(x=data_dfs[k].index, y=data_dfs[k].roa,name=k,line=line_,legendgroup=k, showlegend=False),1,2)\n",
    "\n",
    "# for k in data_dfs:\n",
    "fig.show()"
   ]
  },
  {
   "cell_type": "markdown",
   "metadata": {},
   "source": [
    "## 杜邦分析"
   ]
  },
  {
   "cell_type": "code",
   "execution_count": null,
   "metadata": {},
   "outputs": [],
   "source": [
    "fig = make_subplots(2,2, subplot_titles=['ROE','净利率&毛利率','周转率','资产负债率'])\n",
    "\n",
    "for i,k in enumerate(data_dfs.keys()):\n",
    "    line_ = dict(color=DEFAULT_PLOTLY_COLORS[i])\n",
    "    data_df = data_dfs[k]\n",
    "    \n",
    "    fig.append_trace(go.Scatter(x=data_df.index, y=data_df.roe,name=k,line=line_,legendgroup=k),1,1)\n",
    "    fig.append_trace(go.Scatter(x=data_df.index, y=data_df.netprofit_margin,name=k,line=line_,legendgroup=k, showlegend=False),1,2)\n",
    "    fig.append_trace(go.Scatter(x=data_df.index, y=data_df.assets_turn,name=k,line=line_,legendgroup=k, showlegend=False),2,1)\n",
    "    fig.append_trace(go.Scatter(x=data_df.index, y=data_df.debt_to_assets,name=k,line=line_,legendgroup=k, showlegend=False),2,2)\n",
    "    \n",
    "fig.show()"
   ]
  },
  {
   "cell_type": "markdown",
   "metadata": {},
   "source": [
    "# 风险分析-结构"
   ]
  },
  {
   "cell_type": "markdown",
   "metadata": {},
   "source": [
    "## 应收"
   ]
  },
  {
   "cell_type": "code",
   "execution_count": null,
   "metadata": {},
   "outputs": [],
   "source": [
    "cols_rec = {\"notes_receiv\":\"应收票据\",\n",
    "\"accounts_receiv\":\"应收账款\",\n",
    "\"oth_receiv\":\"其他应收款\",\n",
    "\"lt_amor_exp\":\"长期待摊费用\"}"
   ]
  },
  {
   "cell_type": "code",
   "execution_count": null,
   "metadata": {},
   "outputs": [],
   "source": [
    "fig = make_subplots(2,2, subplot_titles=['应收票据','应收账款','其他应收款','长期待摊费用',])\n",
    "\n",
    "for i,k in enumerate(data_dfs.keys()):\n",
    "    line_ = dict(color=DEFAULT_PLOTLY_COLORS[i])\n",
    "    data_df = data_dfs[k]\n",
    "    \n",
    "    fig.append_trace(go.Scatter(x=data_df.index, y=data_df.notes_receiv/data_df.total_revenue,name=k,line=line_,legendgroup=k),1,1)\n",
    "    fig.append_trace(go.Scatter(x=data_df.index, y=data_df.accounts_receiv/data_df.total_revenue,name=k,line=line_,legendgroup=k, showlegend=False),1,2)\n",
    "    fig.append_trace(go.Scatter(x=data_df.index, y=data_df.oth_receiv/data_df.total_revenue,name=k,line=line_,legendgroup=k, showlegend=False),2,1)\n",
    "    fig.append_trace(go.Scatter(x=data_df.index, y=data_df.lt_amor_exp/data_df.total_revenue,name=k,line=line_,legendgroup=k, showlegend=False),2,2)\n",
    "    \n",
    "fig.show()"
   ]
  },
  {
   "cell_type": "markdown",
   "metadata": {},
   "source": [
    "## 应付"
   ]
  },
  {
   "cell_type": "code",
   "execution_count": null,
   "metadata": {},
   "outputs": [],
   "source": [
    "cols_pay = {\"notes_payable\":\"应付票据\",\n",
    "\"acct_payable\":\"应付账款\",\n",
    "\"oth_payable\":\"其他应付款\",\n",
    "\"st_borr\":\"短期借款\",}"
   ]
  },
  {
   "cell_type": "code",
   "execution_count": null,
   "metadata": {},
   "outputs": [],
   "source": [
    "fig = make_subplots(2,2, subplot_titles=['应付票据','应付账款','其他应付款','短期借款',])\n",
    "\n",
    "for i,k in enumerate(data_dfs.keys()):\n",
    "    line_ = dict(color=DEFAULT_PLOTLY_COLORS[i])\n",
    "    data_df = data_dfs[k]\n",
    "    \n",
    "    fig.append_trace(go.Scatter(x=data_df.index, y=data_df.notes_payable/data_df.total_revenue,name=k,line=line_,legendgroup=k),1,1)\n",
    "    fig.append_trace(go.Scatter(x=data_df.index, y=data_df.acct_payable/data_df.total_revenue,name=k,line=line_,legendgroup=k, showlegend=False),1,2)\n",
    "    fig.append_trace(go.Scatter(x=data_df.index, y=data_df.oth_payable/data_df.total_revenue,name=k,line=line_,legendgroup=k, showlegend=False),2,1)\n",
    "    fig.append_trace(go.Scatter(x=data_df.index, y=data_df.st_borr/data_df.total_revenue,name=k,line=line_,legendgroup=k, showlegend=False),2,2)\n",
    "    \n",
    "fig.show()"
   ]
  },
  {
   "cell_type": "markdown",
   "metadata": {},
   "source": [
    "## 核心利润&营业利润"
   ]
  },
  {
   "cell_type": "code",
   "execution_count": null,
   "metadata": {},
   "outputs": [],
   "source": [
    "for i,k in enumerate(data_dfs.keys()):\n",
    "    data_df = data_dfs[k]\n",
    "    \n",
    "    data_df['oper_profit'] = data_df['revenue'] - (\n",
    "            data_df[[\"oper_cost\", \"int_exp\", \"comm_exp\", \"biz_tax_surchg\", \"sell_exp\", \"admin_exp\", \"prem_refund\",\n",
    "                     \"compens_payout\", \"reser_insur_liab\", \"div_payt\", \"reins_exp\", \"compens_payout_refu\",\n",
    "                     \"insur_reser_refu\", \"reins_cost_refund\", \"other_bus_cost\"]].sum(axis=1) + \n",
    "        data_df['fin_exp'].apply(lambda x: x if x > 0 else 0) + \n",
    "        data_df['assets_impair_loss'].apply(lambda x: x if x > 0 else 0)\n",
    "    )\n",
    "    ## 暂时可能不适用于金融类公司\n",
    "    data_df['oper_profit_ratio'] = data_df['oper_profit']/data_df['revenue']*100\n",
    "\n",
    "    ## 公允、投资、减值\n",
    "    data_df['gtj_to_oper'] = data_df[['fv_value_chg_gain','invest_income','assets_impair_loss']].sum(axis=1) / data_df['operate_profit'] *100\n",
    "\n",
    "    ## 净利/营业利润\n",
    "    data_df['n_to_oper'] = data_df['n_income'] / data_df['operate_profit'] *100"
   ]
  },
  {
   "cell_type": "code",
   "execution_count": null,
   "metadata": {},
   "outputs": [],
   "source": [
    "fig = make_subplots(2,2, subplot_titles=['核心利润率','营业利润率','公投减/营业利润','净利率/营业利润',])\n",
    "\n",
    "for i,k in enumerate(data_dfs.keys()):\n",
    "    line_ = dict(color=DEFAULT_PLOTLY_COLORS[i])\n",
    "    data_df = data_dfs[k]\n",
    "    \n",
    "    fig.append_trace(go.Scatter(x=data_df.index, y=data_df.oper_profit_ratio,name=k,line=line_,legendgroup=k),1,1)\n",
    "    fig.append_trace(go.Scatter(x=data_df.index, y=data_df.op_of_gr,name=k,line=line_,legendgroup=k, showlegend=False),1,2)\n",
    "    fig.append_trace(go.Scatter(x=data_df.index, y=data_df.gtj_to_oper,name=k,line=line_,legendgroup=k, showlegend=False),2,1)\n",
    "    fig.append_trace(go.Scatter(x=data_df.index, y=data_df.n_to_oper,name=k,line=line_,legendgroup=k, showlegend=False),2,2)\n",
    "    \n",
    "fig.show()"
   ]
  },
  {
   "cell_type": "markdown",
   "metadata": {
    "pycharm": {
     "is_executing": false
    }
   },
   "source": [
    "# 安全性"
   ]
  },
  {
   "cell_type": "markdown",
   "metadata": {},
   "source": [
    "## 有息负债率"
   ]
  },
  {
   "cell_type": "code",
   "execution_count": null,
   "metadata": {},
   "outputs": [],
   "source": [
    "cols_yx_debts = {\n",
    "    \"lt_borr\":\"长期借款\",\n",
    "\"st_borr\":\"短期借款\",\n",
    "\"cb_borr\":\"向中央银行借款\",\n",
    "\"trading_fl\":\"交易性金融负债\",\n",
    "\"sold_for_repur_fa\":\"卖出回购金融资产款\",\n",
    "\"st_bonds_payable\":\"应付短期债券\",\n",
    "\"non_cur_liab_due_1y\":\"一年内到期的非流动负债\",\n",
    "\"oth_cur_liab\":\"其他流动负债\",\n",
    "\"bond_payable\":\"应付债券\",\n",
    "\"oth_ncl\":\"其他非流动负债\",\n",
    "}\n",
    "for k in data_dfs:\n",
    "    data_df = data_dfs[k]\n",
    "    data_df['debts_yx'] = data_df[cols_yx_debts.keys()].sum(axis=1)"
   ]
  },
  {
   "cell_type": "code",
   "execution_count": null,
   "metadata": {},
   "outputs": [],
   "source": [
    "fig = make_subplots(1,2, subplot_titles=['有息负债率','除商誉的有息负债率'])\n",
    "\n",
    "for i,k in enumerate(data_dfs.keys()):\n",
    "    line_ = dict(color=DEFAULT_PLOTLY_COLORS[i])\n",
    "    data_df = data_dfs[k]\n",
    "    \n",
    "    fig.append_trace(go.Scatter(x=data_df.index, y=data_df['debts_yx']/ data_df['total_assets'],name=k,line=line_,legendgroup=k),1,1)\n",
    "    fig.append_trace(go.Scatter(x=data_df.index, y=data_df['debts_yx'] / (data_df['total_assets'] - data_df['goodwill']),name=k,line=line_,legendgroup=k, showlegend=False),1,2)\n",
    "    \n",
    "fig.show()"
   ]
  },
  {
   "cell_type": "markdown",
   "metadata": {},
   "source": [
    "## 现金及等价物/有息负债"
   ]
  },
  {
   "cell_type": "code",
   "execution_count": null,
   "metadata": {},
   "outputs": [],
   "source": [
    "fig = go.Figure()\n",
    "for k in data_dfs:\n",
    "    data_df = data_dfs[k]\n",
    "    fig.add_trace(go.Scatter(x=data_df.index, y=data_df['money_cap']/data_df['debts_yx'],name=k))\n",
    "fig.show()\n"
   ]
  },
  {
   "cell_type": "markdown",
   "metadata": {},
   "source": [
    "# 盈利能力"
   ]
  },
  {
   "cell_type": "markdown",
   "metadata": {},
   "source": [
    "## 核心利润"
   ]
  },
  {
   "cell_type": "code",
   "execution_count": null,
   "metadata": {},
   "outputs": [],
   "source": [
    "fig = make_subplots(2,2, subplot_titles=['销售毛利率','销售净利率','销售成本率','销售期间费用率',])\n",
    "\n",
    "for i,k in enumerate(data_dfs.keys()):\n",
    "    line_ = dict(color=DEFAULT_PLOTLY_COLORS[i])\n",
    "    data_df = data_dfs[k]\n",
    "    \n",
    "    fig.append_trace(go.Scatter(x=data_df.index, y=data_df.grossprofit_margin,name=k,line=line_,legendgroup=k),1,1)\n",
    "    fig.append_trace(go.Scatter(x=data_df.index, y=data_df.netprofit_margin,name=k,line=line_,legendgroup=k, showlegend=False),1,2)\n",
    "    fig.append_trace(go.Scatter(x=data_df.index, y=data_df.gtj_to_oper,name=k,line=line_,legendgroup=k, showlegend=False),2,1)\n",
    "    fig.append_trace(go.Scatter(x=data_df.index, y=data_df.cogs_of_sales,name=k,line=line_,legendgroup=k, showlegend=False),2,2)\n",
    "    \n",
    "fig.show()"
   ]
  },
  {
   "cell_type": "markdown",
   "metadata": {},
   "source": [
    "## 费用占比"
   ]
  },
  {
   "cell_type": "code",
   "execution_count": null,
   "metadata": {},
   "outputs": [],
   "source": [
    "fig = make_subplots(2,2, subplot_titles=['营业收入','销售费用率','管理费用率','财务费用率',])\n",
    "\n",
    "for i,k in enumerate(data_dfs.keys()):\n",
    "    line_ = dict(color=DEFAULT_PLOTLY_COLORS[i])\n",
    "    data_df = data_dfs[k]\n",
    "    \n",
    "    fig.append_trace(go.Bar(x=data_df.index, y=data_df.revenue,name=k,legendgroup=k),1,1)\n",
    "    fig.append_trace(go.Scatter(x=data_df.index, y=data_df.saleexp_to_gr,name=k,line=line_,legendgroup=k, showlegend=False),1,2)\n",
    "    fig.append_trace(go.Scatter(x=data_df.index, y=data_df.adminexp_of_gr,name=k,line=line_,legendgroup=k, showlegend=False),2,1)\n",
    "    fig.append_trace(go.Scatter(x=data_df.index, y=data_df.finaexp_of_gr,name=k,line=line_,legendgroup=k, showlegend=False),2,2)\n",
    "\n",
    "fig.update_layout(barmode='stack')\n",
    "fig.show()"
   ]
  },
  {
   "cell_type": "markdown",
   "metadata": {},
   "source": [
    "# 成长性"
   ]
  },
  {
   "cell_type": "markdown",
   "metadata": {},
   "source": [
    "## 营收、扣非、净利润增长"
   ]
  },
  {
   "cell_type": "code",
   "execution_count": null,
   "metadata": {},
   "outputs": [],
   "source": [
    "for k in data_dfs:\n",
    "    data_df = data_dfs[k]\n",
    "    data_df['profit_dedt_yoy'] = data_df.profit_dedt/data_df.profit_dedt.shift(1)\n",
    "    data_df['revenue_yoy'] = data_df.revenue/data_df.revenue.shift(1)\n"
   ]
  },
  {
   "cell_type": "code",
   "execution_count": null,
   "metadata": {},
   "outputs": [],
   "source": [
    "fig = make_subplots(2,2, subplot_titles=['营业收入','扣非净利润','营收增长','扣非增长',])\n",
    "\n",
    "for i,k in enumerate(data_dfs.keys()):\n",
    "    line_ = dict(color=DEFAULT_PLOTLY_COLORS[i])\n",
    "    data_df = data_dfs[k]\n",
    "    \n",
    "    fig.append_trace(go.Bar(x=data_df.index, y=data_df.total_revenue, marker_color=DEFAULT_PLOTLY_COLORS[i],name=k,legendgroup=k),1,1)\n",
    "    fig.append_trace(go.Bar(x=data_df.index, y=data_df.n_income, marker_color=DEFAULT_PLOTLY_COLORS[i],name=k,legendgroup=k, showlegend=False),1,2)\n",
    "    fig.append_trace(go.Scatter(x=data_df.index, y=data_df.revenue_yoy,name=k,line=line_,legendgroup=k, showlegend=False),2,1)\n",
    "    fig.append_trace(go.Scatter(x=data_df.index, y=data_df.profit_dedt_yoy,name=k,line=line_,legendgroup=k, showlegend=False),2,2)\n",
    "\n",
    "fig.update_layout(barmode='stack')\n",
    "fig.show()"
   ]
  },
  {
   "cell_type": "markdown",
   "metadata": {},
   "source": [
    "## 总资产、净资产增长率"
   ]
  },
  {
   "cell_type": "code",
   "execution_count": null,
   "metadata": {},
   "outputs": [],
   "source": [
    "for k in data_dfs:\n",
    "    data_df = data_dfs[k]\n",
    "    data_df['total_ass_yoy'] = data_df.total_assets/data_df.total_assets.shift(1)\n",
    "    data_df['total_hldr_eqy_inc_min_int_yoy'] = data_df.total_hldr_eqy_inc_min_int/data_df.total_hldr_eqy_inc_min_int.shift(1)\n"
   ]
  },
  {
   "cell_type": "code",
   "execution_count": null,
   "metadata": {},
   "outputs": [],
   "source": [
    "## 这个对比的意义是？"
   ]
  },
  {
   "cell_type": "markdown",
   "metadata": {},
   "source": [
    "# 利润质量"
   ]
  },
  {
   "cell_type": "markdown",
   "metadata": {},
   "source": [
    "## 营业收入 vs 销售收现"
   ]
  },
  {
   "cell_type": "markdown",
   "metadata": {},
   "source": [
    "1. total_revenue\t营业总收入\n",
    "2. c_fr_sale_sg\t销售商品、提供劳务收到的现金\n",
    "3. salescash_to_or\t销售商品提供劳务收到的现金/营业收入"
   ]
  },
  {
   "cell_type": "code",
   "execution_count": null,
   "metadata": {},
   "outputs": [],
   "source": [
    "for k in data_dfs:\n",
    "    data_df = data_dfs[k]\n",
    "    data_df['salescash_to_or'] = data_df.c_fr_sale_sg / data_df.total_revenue"
   ]
  },
  {
   "cell_type": "code",
   "execution_count": null,
   "metadata": {},
   "outputs": [],
   "source": [
    "rows = int(np.ceil(len(data_dfs) / 2))\n",
    "fig = make_subplots(rows,2, subplot_titles=list(data_dfs.keys()))\n",
    "\n",
    "flag = True\n",
    "for i,k in enumerate(data_dfs.keys()):\n",
    "    r = i // 2 + 1\n",
    "    c = i % 2 + 1\n",
    "    data_df = data_dfs[k]\n",
    "    fig.add_trace(go.Scatter(x=data_df.index, y=data_df.total_revenue,line=dict(color=DEFAULT_PLOTLY_COLORS[0]),name='营业总收入',showlegend=flag),r,c)\n",
    "    fig.add_trace(go.Scatter(x=data_df.index, y=data_df.c_fr_sale_sg,line=dict(color=DEFAULT_PLOTLY_COLORS[1]),name='销售收现',showlegend=flag),r,c)\n",
    "    fig.add_trace(go.Scatter(x=data_df.index, y=data_df.total_ass_yoy ,line=dict(color=DEFAULT_PLOTLY_COLORS[2]),name='销售收现/营业收入',showlegend=flag),r,c)\n",
    "    flag = False\n",
    "\n",
    "comp_length = len(data_dfs)\n",
    "with fig.batch_update():\n",
    "    for i in range(comp_length):\n",
    "        fig.data[3*i+2]['yaxis'] = f'y{comp_length+i+1}'\n",
    "        fig.layout[f'yaxis{comp_length+i+1}'] = dict(overlaying=f\"y{'' if i==0 else i+1}\", anchor=f\"x{'' if i==0 else i+1}\", side='right', showgrid=False)\n",
    "fig.show()"
   ]
  },
  {
   "cell_type": "markdown",
   "metadata": {},
   "source": [
    "## 净利润 vs 经营现金流净额"
   ]
  },
  {
   "cell_type": "markdown",
   "metadata": {},
   "source": [
    "1. profit_dedt\t扣除非经常性损益后的净利润\n",
    "2. n_income\t净利润(含少数股东损益)\n",
    "3. n_cashflow_act\t经营活动产生的现金流量净额\n"
   ]
  },
  {
   "cell_type": "code",
   "execution_count": null,
   "metadata": {},
   "outputs": [],
   "source": [
    "for k in data_dfs:\n",
    "    data_df = data_dfs[k]\n",
    "    data_df['n_income_to_cha'] = data_df['n_cashflow_act']/data_df['n_income'] \n",
    "    data_df['profit_dedt_to_cha'] = data_df['n_cashflow_act']/data_df['profit_dedt'] "
   ]
  },
  {
   "cell_type": "code",
   "execution_count": null,
   "metadata": {},
   "outputs": [],
   "source": [
    "rows = int(np.ceil(len(data_dfs) / 2))\n",
    "fig = make_subplots(rows,2, subplot_titles=list(data_dfs.keys()))\n",
    "\n",
    "flag = True\n",
    "for i,k in enumerate(data_dfs.keys()):\n",
    "    r = i // 2 + 1\n",
    "    c = i % 2 + 1\n",
    "    data_df = data_dfs[k]\n",
    "    fig.add_trace(go.Scatter(x=data_df.index, y=data_df.profit_dedt,line=dict(color=DEFAULT_PLOTLY_COLORS[0]),name='扣非净利',showlegend=flag),r,c)\n",
    "    fig.add_trace(go.Scatter(x=data_df.index, y=data_df.n_cashflow_act,line=dict(color=DEFAULT_PLOTLY_COLORS[1]),name='经营现金净额',showlegend=flag),r,c)\n",
    "    fig.add_trace(go.Scatter(x=data_df.index, y=data_df.profit_dedt_to_cha ,line=dict(color=DEFAULT_PLOTLY_COLORS[2]),name='经营现金净额/扣非净利',showlegend=flag),r,c)\n",
    "    fig.update_layout(yaxis5=dict(anchor='x', overlaying='y', side='right',domain=[0,1]))#设置坐标轴的格式，一般次坐标轴在右侧\n",
    "    flag = False\n",
    "    \n",
    "comp_length = len(data_dfs)\n",
    "with fig.batch_update():\n",
    "    for i in range(comp_length):\n",
    "        fig.data[3*i+2]['yaxis'] = f'y{comp_length+i+1}'\n",
    "        fig.layout[f'yaxis{comp_length+i+1}'] = dict(overlaying=f\"y{'' if i==0 else i+1}\", anchor=f\"x{'' if i==0 else i+1}\", side='right', showgrid=False)\n",
    "fig.show()"
   ]
  },
  {
   "cell_type": "markdown",
   "metadata": {},
   "source": [
    "# 管理层能力"
   ]
  },
  {
   "cell_type": "markdown",
   "metadata": {},
   "source": [
    "## 应收账款周转率"
   ]
  },
  {
   "cell_type": "code",
   "execution_count": null,
   "metadata": {},
   "outputs": [],
   "source": [
    "fig = go.Figure(layout=dict(title='应收账款周转率'))\n",
    "for k in data_dfs:\n",
    "    data_df = data_dfs[k]\n",
    "    fig.add_trace(go.Scatter(x=data_df.index, y=data_df['ar_turn'],name=k))\n",
    "fig.show()\n"
   ]
  },
  {
   "cell_type": "markdown",
   "metadata": {},
   "source": [
    "## 资产周转率"
   ]
  },
  {
   "cell_type": "code",
   "execution_count": null,
   "metadata": {},
   "outputs": [],
   "source": [
    "cols_turn = {\"inv_turn\":\"存货周转率\",\n",
    "\"ca_turn\":\"流动资产周转率\",\n",
    "\"fa_turn\":\"固定资产周转率\",\n",
    "\"assets_turn\":\"总资产周转率\"}"
   ]
  },
  {
   "cell_type": "code",
   "execution_count": null,
   "metadata": {},
   "outputs": [],
   "source": [
    "rows = int(np.ceil(len(data_dfs) / 2))\n",
    "fig = make_subplots(rows,2, subplot_titles=list(data_dfs.keys()))\n",
    "\n",
    "flag = True\n",
    "for i,k in enumerate(data_dfs.keys()):\n",
    "    r = i // 2 + 1\n",
    "    c = i % 2 + 1\n",
    "    data_df = data_dfs[k]\n",
    "    data_df['inv_turn'] = data_df['revenue'] / data_df['inventories']\n",
    "    \n",
    "    for j,col in enumerate(cols_turn):\n",
    "        fig.add_trace(go.Scatter(x=data_df.index, y=data_df[col],line=dict(color=DEFAULT_PLOTLY_COLORS[j]),name=cols_turn[col],showlegend=flag),r,c)\n",
    "        \n",
    "    flag = False\n",
    "\n",
    "fig.show()"
   ]
  },
  {
   "cell_type": "markdown",
   "metadata": {},
   "source": [
    "# 资产负债表"
   ]
  },
  {
   "cell_type": "markdown",
   "metadata": {},
   "source": [
    "## 货币资金的比率"
   ]
  },
  {
   "cell_type": "code",
   "execution_count": null,
   "metadata": {
    "pycharm": {
     "is_executing": false
    }
   },
   "outputs": [],
   "source": [
    "fig = go.Figure(layout=dict(title='货币资金比率'))\n",
    "for k in data_dfs:\n",
    "    data_df = data_dfs[k]\n",
    "    data_df['money_cap_ratio'] = data_df['money_cap']/data_df['total_assets']\n",
    "    fig.add_trace(go.Scatter(x=data_df.index, y=data_df['money_cap_ratio'],name=k))\n",
    "fig.show()"
   ]
  },
  {
   "cell_type": "markdown",
   "metadata": {},
   "source": [
    "## 经营资产比率"
   ]
  },
  {
   "cell_type": "code",
   "execution_count": null,
   "metadata": {
    "pycharm": {
     "is_executing": false
    }
   },
   "outputs": [],
   "source": [
    "cols_op = {\"notes_receiv\":\"应收票据\",\n",
    "\"accounts_receiv\":\"应收账款\",\n",
    "\"oth_receiv\":\"其他应收款\",\n",
    "\"prepayment\":\"预付款项\",\n",
    "\"div_receiv\":\"应收股利\",\n",
    "\"int_receiv\":\"应收利息\",\n",
    "\"inventories\":\"存货\",\n",
    "\"produc_bio_assets\":\"生产性生物资产\"}"
   ]
  },
  {
   "cell_type": "code",
   "execution_count": null,
   "metadata": {
    "pycharm": {
     "is_executing": false
    }
   },
   "outputs": [],
   "source": [
    "fig = go.Figure()\n",
    "for k in data_dfs:\n",
    "    data_df = data_dfs[k]\n",
    "    data_df['op_ratio'] = data_df[cols_op.keys()].sum(axis=1)/data_df['total_assets']\n",
    "    fig.add_trace(go.Scatter(x=data_df.index, y=data_df['op_ratio'],name=k))\n",
    "fig.show()\n"
   ]
  },
  {
   "cell_type": "markdown",
   "metadata": {},
   "source": [
    "### 经营资产 vs 营收"
   ]
  },
  {
   "cell_type": "code",
   "execution_count": null,
   "metadata": {},
   "outputs": [],
   "source": [
    "fig = go.Figure()\n",
    "for k in data_dfs:\n",
    "    data_df = data_dfs[k]\n",
    "    data_df['op_ratio_to_revenue'] = data_df[cols_op.keys()].sum(axis=1)/data_df['total_revenue']\n",
    "    fig.add_trace(go.Scatter(x=data_df.index, y=data_df['op_ratio_to_revenue'],name=k))\n",
    "fig.show()\n",
    "# 越小越好"
   ]
  },
  {
   "cell_type": "markdown",
   "metadata": {},
   "source": [
    "## 生产资产"
   ]
  },
  {
   "cell_type": "code",
   "execution_count": null,
   "metadata": {
    "pycharm": {
     "is_executing": false
    }
   },
   "outputs": [],
   "source": [
    "cols_prod = {\"fix_assets\":\"固定资产\",\n",
    "\"cip\":\"在建工程\",\n",
    "\"const_materials\":\"工程物资\",\n",
    "\"intan_assets\":\"无形资产\",\n",
    "\"goodwill\":\"商誉\",\n",
    "\"lt_amor_exp\":\"长期待摊费用\",\n",
    "\"defer_tax_assets\":\"递延所得税资产\"}\n",
    "# ？递延所得税资产 or 负债？"
   ]
  },
  {
   "cell_type": "code",
   "execution_count": null,
   "metadata": {
    "pycharm": {
     "is_executing": false
    }
   },
   "outputs": [],
   "source": [
    "fig = go.Figure()\n",
    "for k in data_dfs:\n",
    "    data_df = data_dfs[k]\n",
    "    data_df['prod_ratio'] = data_df[cols_prod.keys()].sum(axis=1)/data_df['total_assets']\n",
    "    fig.add_trace(go.Scatter(x=data_df.index, y=data_df['prod_ratio'],name=k))\n",
    "fig.show()\n"
   ]
  },
  {
   "cell_type": "markdown",
   "metadata": {},
   "source": [
    "### 生产资产 vs 营收"
   ]
  },
  {
   "cell_type": "code",
   "execution_count": null,
   "metadata": {},
   "outputs": [],
   "source": [
    "fig = go.Figure()\n",
    "for k in data_dfs:\n",
    "    data_df = data_dfs[k]\n",
    "    data_df['prod_ratio_to_reve'] = data_df[cols_prod.keys()].sum(axis=1)/data_df['total_revenue']\n",
    "    fig.add_trace(go.Scatter(x=data_df.index, y=data_df['prod_ratio_to_reve'],name=k))\n",
    "fig.show()\n"
   ]
  },
  {
   "cell_type": "markdown",
   "metadata": {},
   "source": [
    "## 轻重比"
   ]
  },
  {
   "cell_type": "code",
   "execution_count": null,
   "metadata": {},
   "outputs": [],
   "source": [
    "fig = go.Figure()\n",
    "for k in data_dfs:\n",
    "    data_df = data_dfs[k]\n",
    "    data_df['opp_to_prodass'] = data_df['operate_profit']/data_df[cols_prod.keys()].sum(axis=1)\n",
    "    fig.add_trace(go.Scatter(x=data_df.index, y=data_df['opp_to_prodass'],name=k))\n",
    "fig.show()"
   ]
  },
  {
   "cell_type": "markdown",
   "metadata": {},
   "source": [
    "## 非主营相关资产"
   ]
  },
  {
   "cell_type": "code",
   "execution_count": null,
   "metadata": {
    "pycharm": {
     "is_executing": false
    }
   },
   "outputs": [],
   "source": [
    "cols_oth_ass = {\n",
    "\"trad_asset\":\"交易性金融资产\",\n",
    "\"pur_resale_fa\":\"买入返售金融资产\",\n",
    "\"oth_cur_assets\":\"其他流动资产\",\n",
    "\"fa_avail_for_sale\":\"可供出售金融资产\",\n",
    "\"htm_invest\":\"持有至到期投资\",\n",
    "\"lt_eqt_invest\":\"长期股权投资\",\n",
    "\"invest_real_estate\":\"投资性房地产\"}"
   ]
  },
  {
   "cell_type": "code",
   "execution_count": null,
   "metadata": {
    "pycharm": {
     "is_executing": false
    }
   },
   "outputs": [],
   "source": [
    "fig = go.Figure()\n",
    "for k in data_dfs:\n",
    "    data_df = data_dfs[k]\n",
    "    data_df['oth_ass_ratio'] = data_df[cols_oth_ass.keys()].sum(axis=1)/data_df['total_assets']\n",
    "    fig.add_trace(go.Scatter(x=data_df.index, y=data_df['oth_ass_ratio'],name=k))\n",
    "fig.show()\n"
   ]
  },
  {
   "cell_type": "markdown",
   "metadata": {},
   "source": [
    "# 现金流量表"
   ]
  },
  {
   "cell_type": "markdown",
   "metadata": {},
   "source": [
    "## 三种现金流量覆盖情况"
   ]
  },
  {
   "cell_type": "code",
   "execution_count": null,
   "metadata": {
    "pycharm": {
     "is_executing": false
    }
   },
   "outputs": [],
   "source": [
    "rows = int(np.ceil(len(data_dfs) / 2))\n",
    "fig = make_subplots(rows,2, subplot_titles=list(data_dfs.keys()))\n",
    "\n",
    "flag = True\n",
    "for i,k in enumerate(data_dfs.keys()):\n",
    "    r = i // 2 + 1\n",
    "    c = i % 2 + 1\n",
    "    data_df = data_dfs[k]\n",
    "    fig.add_trace(go.Bar(x=data_df.index, y=data_df.n_cashflow_act,marker_color=DEFAULT_PLOTLY_COLORS[0],offsetgroup=0, name='经营活动现金流净额',showlegend=flag),r,c)\n",
    "    fig.add_trace(go.Bar(x=data_df.index, y=-data_df.n_cashflow_inv_act,marker_color=DEFAULT_PLOTLY_COLORS[1],offsetgroup=1, name='投资活动现金流净额',showlegend=flag),r,c)\n",
    "    fig.add_trace(go.Bar(x=data_df.index, y=-data_df.n_cash_flows_fnc_act ,marker_color=DEFAULT_PLOTLY_COLORS[2],offsetgroup=1, name='融资活动现金流净额',showlegend=flag),r,c)\n",
    "\n",
    "    flag = False\n",
    "fig.show()\n",
    "\n",
    "## 经营活动现金流向上为正\n",
    "## 投资与融资向上代表负的，为的是体现出经营现金流是否可以覆盖投资、融资现金流支出\n",
    "## 向下代表正，投资表示收到前，融资表示在借钱\n"
   ]
  },
  {
   "cell_type": "code",
   "execution_count": null,
   "metadata": {},
   "outputs": [],
   "source": [
    "data_df[['n_cashflow_act','n_cashflow_inv_act','n_cash_flows_fnc_act']]"
   ]
  },
  {
   "cell_type": "markdown",
   "metadata": {},
   "source": [
    "# 字典转化"
   ]
  },
  {
   "cell_type": "code",
   "execution_count": null,
   "metadata": {
    "pycharm": {
     "is_executing": false
    }
   },
   "outputs": [],
   "source": [
    "text = \"\"\"\n",
    "000672 上峰水泥\n",
    "600585 海螺水泥\n",
    "300552 万集科技\n",
    "002869 金溢科技\n",
    "601318 中国平安\n",
    "\"\"\"\n",
    "for line in text.split(\"\\n\"):\n",
    "    if \"\\t\" not in line:continue\n",
    "    k,c = line.split(\"\\t\")\n",
    "    print(f'\"{k}\":\"{c}\",')"
   ]
  },
  {
   "cell_type": "code",
   "execution_count": null,
   "metadata": {},
   "outputs": [],
   "source": [
    "text = \"\"\"\n",
    "000672 上峰水泥\n",
    "600585 海螺水泥\n",
    "300552 万集科技\n",
    "002869 金溢科技\n",
    "601318 中国平安\n",
    "\"\"\"\n",
    "for line in text.split(\"\\n\"):\n",
    "    if len(line) < 3: continue\n",
    "    k,c = line.split()\n",
    "    print(f'\"{k}\":\"{c}\",')"
   ]
  }
 ],
 "metadata": {
  "kernelspec": {
   "display_name": "Python 3",
   "language": "python",
   "name": "python3"
  },
  "language_info": {
   "codemirror_mode": {
    "name": "ipython",
    "version": 3
   },
   "file_extension": ".py",
   "mimetype": "text/x-python",
   "name": "python",
   "nbconvert_exporter": "python",
   "pygments_lexer": "ipython3",
   "version": "3.7.3"
  },
  "pycharm": {
   "stem_cell": {
    "cell_type": "raw",
    "metadata": {
     "collapsed": false
    },
    "source": []
   }
  },
  "toc": {
   "base_numbering": 1,
   "nav_menu": {
    "height": "266px",
    "width": "500px"
   },
   "number_sections": true,
   "sideBar": true,
   "skip_h1_title": false,
   "title_cell": "Table of Contents",
   "title_sidebar": "Contents",
   "toc_cell": false,
   "toc_position": {
    "height": "calc(100% - 180px)",
    "left": "10px",
    "top": "150px",
    "width": "384px"
   },
   "toc_section_display": true,
   "toc_window_display": true
  },
  "toc-autonumbering": true,
  "toc-showcode": false,
  "toc-showmarkdowntxt": true,
  "toc-showtags": false
 },
 "nbformat": 4,
 "nbformat_minor": 4
}
