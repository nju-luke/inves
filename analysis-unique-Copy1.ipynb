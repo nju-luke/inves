{
 "cells": [
  {
   "cell_type": "code",
   "execution_count": 1,
   "metadata": {
    "pycharm": {
     "is_executing": false
    }
   },
   "outputs": [],
   "source": [
    "import pandas as pd\n",
    "import tushare as ts\n",
    "import plotly.express as px\n",
    "import plotly.graph_objects as go\n",
    "from plotly.subplots import make_subplots\n",
    "from plotly.colors import DEFAULT_PLOTLY_COLORS\n",
    "import datetime\n",
    "from get_data_163 import FinData\n",
    "\n",
    "today = datetime.datetime.today()\n",
    "cur_year = str(today.year)"
   ]
  },
  {
   "cell_type": "markdown",
   "metadata": {},
   "source": [
    "# 设置参数"
   ]
  },
  {
   "cell_type": "code",
   "execution_count": 2,
   "metadata": {
    "pycharm": {
     "is_executing": false
    }
   },
   "outputs": [],
   "source": [
    "target_code = '002304' # "
   ]
  },
  {
   "cell_type": "code",
   "execution_count": 3,
   "metadata": {},
   "outputs": [],
   "source": [
    "# is_ann_report = True  ## True:年报   False:季度\n",
    "start_year = '2016'\n",
    "date_filter = \"12-31\""
   ]
  },
  {
   "cell_type": "code",
   "execution_count": 4,
   "metadata": {},
   "outputs": [
    {
     "name": "stdout",
     "output_type": "stream",
     "text": [
      " save 利润表 of 002304 to lrb success.\n"
     ]
    },
    {
     "ename": "KeyError",
     "evalue": "'报告日期'",
     "output_type": "error",
     "traceback": [
      "\u001b[1;31m---------------------------------------------------------------------------\u001b[0m",
      "\u001b[1;31mKeyError\u001b[0m                                  Traceback (most recent call last)",
      "\u001b[1;32m<ipython-input-4-9f946bb034e9>\u001b[0m in \u001b[0;36m<module>\u001b[1;34m\u001b[0m\n\u001b[1;32m----> 1\u001b[1;33m \u001b[0mfd\u001b[0m \u001b[1;33m=\u001b[0m \u001b[0mFinData\u001b[0m\u001b[1;33m(\u001b[0m\u001b[0mtarget_code\u001b[0m\u001b[1;33m,\u001b[0m \u001b[0mdate_filter\u001b[0m\u001b[1;33m=\u001b[0m\u001b[0mdate_filter\u001b[0m\u001b[1;33m)\u001b[0m\u001b[1;33m\u001b[0m\u001b[1;33m\u001b[0m\u001b[0m\n\u001b[0m",
      "\u001b[1;32mD:\\Projects\\inves\\get_data_163.py\u001b[0m in \u001b[0;36m__init__\u001b[1;34m(self, code, end_date, date_filter)\u001b[0m\n\u001b[0;32m    158\u001b[0m         \u001b[0mself\u001b[0m\u001b[1;33m.\u001b[0m\u001b[0mcode\u001b[0m \u001b[1;33m=\u001b[0m \u001b[0mcode\u001b[0m\u001b[1;33m\u001b[0m\u001b[1;33m\u001b[0m\u001b[0m\n\u001b[0;32m    159\u001b[0m         \u001b[0mself\u001b[0m\u001b[1;33m.\u001b[0m\u001b[0mdate_filter\u001b[0m \u001b[1;33m=\u001b[0m \u001b[0mdate_filter\u001b[0m\u001b[1;33m\u001b[0m\u001b[1;33m\u001b[0m\u001b[0m\n\u001b[1;32m--> 160\u001b[1;33m         \u001b[0mself\u001b[0m\u001b[1;33m.\u001b[0m\u001b[0mget_data\u001b[0m\u001b[1;33m(\u001b[0m\u001b[0mend_date\u001b[0m\u001b[1;33m)\u001b[0m\u001b[1;33m\u001b[0m\u001b[1;33m\u001b[0m\u001b[0m\n\u001b[0m\u001b[0;32m    161\u001b[0m \u001b[1;33m\u001b[0m\u001b[0m\n\u001b[0;32m    162\u001b[0m     \u001b[1;32mdef\u001b[0m \u001b[0mget_data\u001b[0m\u001b[1;33m(\u001b[0m\u001b[0mself\u001b[0m\u001b[1;33m,\u001b[0m \u001b[0mend_date\u001b[0m\u001b[1;33m)\u001b[0m\u001b[1;33m:\u001b[0m\u001b[1;33m\u001b[0m\u001b[1;33m\u001b[0m\u001b[0m\n",
      "\u001b[1;32mD:\\Projects\\inves\\get_data_163.py\u001b[0m in \u001b[0;36mget_data\u001b[1;34m(self, end_date)\u001b[0m\n\u001b[0;32m    161\u001b[0m \u001b[1;33m\u001b[0m\u001b[0m\n\u001b[0;32m    162\u001b[0m     \u001b[1;32mdef\u001b[0m \u001b[0mget_data\u001b[0m\u001b[1;33m(\u001b[0m\u001b[0mself\u001b[0m\u001b[1;33m,\u001b[0m \u001b[0mend_date\u001b[0m\u001b[1;33m)\u001b[0m\u001b[1;33m:\u001b[0m\u001b[1;33m\u001b[0m\u001b[1;33m\u001b[0m\u001b[0m\n\u001b[1;32m--> 163\u001b[1;33m         \u001b[0mres\u001b[0m \u001b[1;33m=\u001b[0m \u001b[0mget_data\u001b[0m\u001b[1;33m(\u001b[0m\u001b[0mself\u001b[0m\u001b[1;33m.\u001b[0m\u001b[0mcode\u001b[0m\u001b[1;33m,\u001b[0m \u001b[0mend_date\u001b[0m\u001b[1;33m)\u001b[0m\u001b[1;33m\u001b[0m\u001b[1;33m\u001b[0m\u001b[0m\n\u001b[0m\u001b[0;32m    164\u001b[0m         \u001b[1;32mif\u001b[0m \u001b[0mself\u001b[0m\u001b[1;33m.\u001b[0m\u001b[0mdate_filter\u001b[0m\u001b[1;33m:\u001b[0m\u001b[1;33m\u001b[0m\u001b[1;33m\u001b[0m\u001b[0m\n\u001b[0;32m    165\u001b[0m             \u001b[1;32mfor\u001b[0m \u001b[0mi\u001b[0m\u001b[1;33m,\u001b[0m \u001b[0mdf\u001b[0m \u001b[1;32min\u001b[0m \u001b[0menumerate\u001b[0m\u001b[1;33m(\u001b[0m\u001b[0mres\u001b[0m\u001b[1;33m)\u001b[0m\u001b[1;33m:\u001b[0m\u001b[1;33m\u001b[0m\u001b[1;33m\u001b[0m\u001b[0m\n",
      "\u001b[1;32mD:\\Projects\\inves\\get_data_163.py\u001b[0m in \u001b[0;36mget_data\u001b[1;34m(code, end_date)\u001b[0m\n\u001b[0;32m    134\u001b[0m         \u001b[1;32mif\u001b[0m \u001b[1;32mnot\u001b[0m \u001b[0mflag\u001b[0m \u001b[1;32mor\u001b[0m \u001b[1;33m(\u001b[0m\u001b[0mlen\u001b[0m\u001b[1;33m(\u001b[0m\u001b[0mdf\u001b[0m\u001b[1;33m)\u001b[0m \u001b[1;33m==\u001b[0m \u001b[1;36m0\u001b[0m \u001b[1;32mor\u001b[0m \u001b[1;33m(\u001b[0m\u001b[0mend_date\u001b[0m \u001b[1;32mis\u001b[0m \u001b[1;32mnot\u001b[0m \u001b[1;32mNone\u001b[0m \u001b[1;32mand\u001b[0m \u001b[0mmax\u001b[0m\u001b[1;33m(\u001b[0m\u001b[0mdf\u001b[0m\u001b[1;33m[\u001b[0m\u001b[1;34m'date'\u001b[0m\u001b[1;33m]\u001b[0m\u001b[1;33m)\u001b[0m \u001b[1;33m<\u001b[0m \u001b[0mend_date\u001b[0m\u001b[1;33m)\u001b[0m\u001b[1;33m)\u001b[0m\u001b[1;33m:\u001b[0m\u001b[1;33m\u001b[0m\u001b[1;33m\u001b[0m\u001b[0m\n\u001b[0;32m    135\u001b[0m             \u001b[0mdf\u001b[0m \u001b[1;33m=\u001b[0m \u001b[0mdownload_data\u001b[0m\u001b[1;33m(\u001b[0m\u001b[0murl\u001b[0m\u001b[1;33m)\u001b[0m\u001b[1;33m\u001b[0m\u001b[1;33m\u001b[0m\u001b[0m\n\u001b[1;32m--> 136\u001b[1;33m             \u001b[0mdf\u001b[0m \u001b[1;33m=\u001b[0m \u001b[0msave_to_sql\u001b[0m\u001b[1;33m(\u001b[0m\u001b[0mcode\u001b[0m\u001b[1;33m,\u001b[0m \u001b[0mkey\u001b[0m\u001b[1;33m,\u001b[0m \u001b[0mdf\u001b[0m\u001b[1;33m,\u001b[0m \u001b[0mtable_name\u001b[0m\u001b[1;33m)\u001b[0m\u001b[1;33m\u001b[0m\u001b[1;33m\u001b[0m\u001b[0m\n\u001b[0m\u001b[0;32m    137\u001b[0m         \u001b[1;32melse\u001b[0m\u001b[1;33m:\u001b[0m\u001b[1;33m\u001b[0m\u001b[1;33m\u001b[0m\u001b[0m\n\u001b[0;32m    138\u001b[0m             \u001b[0mprint\u001b[0m\u001b[1;33m(\u001b[0m\u001b[1;34mf\"get {key} from mysql for {code} success.\"\u001b[0m\u001b[1;33m)\u001b[0m\u001b[1;33m\u001b[0m\u001b[1;33m\u001b[0m\u001b[0m\n",
      "\u001b[1;32mD:\\Projects\\inves\\get_data_163.py\u001b[0m in \u001b[0;36msave_to_sql\u001b[1;34m(code, key, df, table_name)\u001b[0m\n\u001b[0;32m     71\u001b[0m     \u001b[0mdf_names\u001b[0m \u001b[1;33m=\u001b[0m \u001b[0mpd\u001b[0m\u001b[1;33m.\u001b[0m\u001b[0mread_excel\u001b[0m\u001b[1;33m(\u001b[0m\u001b[1;34m\"网易财经数据字典.xlsx\"\u001b[0m\u001b[1;33m,\u001b[0m \u001b[0mkey\u001b[0m\u001b[1;33m)\u001b[0m\u001b[1;33m\u001b[0m\u001b[1;33m\u001b[0m\u001b[0m\n\u001b[0;32m     72\u001b[0m \u001b[1;33m\u001b[0m\u001b[0m\n\u001b[1;32m---> 73\u001b[1;33m     \u001b[0mdf\u001b[0m \u001b[1;33m=\u001b[0m \u001b[0mpd\u001b[0m\u001b[1;33m.\u001b[0m\u001b[0mmerge\u001b[0m\u001b[1;33m(\u001b[0m\u001b[0mdf_names\u001b[0m\u001b[1;33m,\u001b[0m \u001b[0mdf\u001b[0m\u001b[1;33m,\u001b[0m \u001b[0mleft_on\u001b[0m\u001b[1;33m=\u001b[0m\u001b[1;34m'ori_name'\u001b[0m\u001b[1;33m,\u001b[0m \u001b[0mright_on\u001b[0m\u001b[1;33m=\u001b[0m\u001b[1;34m'报告日期'\u001b[0m\u001b[1;33m)\u001b[0m\u001b[1;33m\u001b[0m\u001b[1;33m\u001b[0m\u001b[0m\n\u001b[0m\u001b[0;32m     74\u001b[0m     \u001b[0mdf1\u001b[0m \u001b[1;33m=\u001b[0m \u001b[0mdf\u001b[0m\u001b[1;33m.\u001b[0m\u001b[0mset_index\u001b[0m\u001b[1;33m(\u001b[0m\u001b[1;34m\"en_name\"\u001b[0m\u001b[1;33m,\u001b[0m \u001b[0mdrop\u001b[0m\u001b[1;33m=\u001b[0m\u001b[1;32mTrue\u001b[0m\u001b[1;33m)\u001b[0m\u001b[1;33m.\u001b[0m\u001b[0mdrop\u001b[0m\u001b[1;33m(\u001b[0m\u001b[1;33m[\u001b[0m\u001b[1;34m\"报告日期\"\u001b[0m\u001b[1;33m,\u001b[0m \u001b[1;34m\"zh_name\"\u001b[0m\u001b[1;33m,\u001b[0m \u001b[1;34m\"ori_name\"\u001b[0m\u001b[1;33m]\u001b[0m\u001b[1;33m,\u001b[0m \u001b[0maxis\u001b[0m\u001b[1;33m=\u001b[0m\u001b[1;36m1\u001b[0m\u001b[1;33m)\u001b[0m\u001b[1;33m.\u001b[0m\u001b[0mT\u001b[0m\u001b[1;33m\u001b[0m\u001b[1;33m\u001b[0m\u001b[0m\n\u001b[0;32m     75\u001b[0m \u001b[1;33m\u001b[0m\u001b[0m\n",
      "\u001b[1;32mC:\\Miniconda3\\lib\\site-packages\\pandas\\core\\reshape\\merge.py\u001b[0m in \u001b[0;36mmerge\u001b[1;34m(left, right, how, on, left_on, right_on, left_index, right_index, sort, suffixes, copy, indicator, validate)\u001b[0m\n\u001b[0;32m     72\u001b[0m     \u001b[0mvalidate\u001b[0m\u001b[1;33m=\u001b[0m\u001b[1;32mNone\u001b[0m\u001b[1;33m,\u001b[0m\u001b[1;33m\u001b[0m\u001b[1;33m\u001b[0m\u001b[0m\n\u001b[0;32m     73\u001b[0m ) -> \"DataFrame\":\n\u001b[1;32m---> 74\u001b[1;33m     op = _MergeOperation(\n\u001b[0m\u001b[0;32m     75\u001b[0m         \u001b[0mleft\u001b[0m\u001b[1;33m,\u001b[0m\u001b[1;33m\u001b[0m\u001b[1;33m\u001b[0m\u001b[0m\n\u001b[0;32m     76\u001b[0m         \u001b[0mright\u001b[0m\u001b[1;33m,\u001b[0m\u001b[1;33m\u001b[0m\u001b[1;33m\u001b[0m\u001b[0m\n",
      "\u001b[1;32mC:\\Miniconda3\\lib\\site-packages\\pandas\\core\\reshape\\merge.py\u001b[0m in \u001b[0;36m__init__\u001b[1;34m(self, left, right, how, on, left_on, right_on, axis, left_index, right_index, sort, suffixes, copy, indicator, validate)\u001b[0m\n\u001b[0;32m    650\u001b[0m             \u001b[0mself\u001b[0m\u001b[1;33m.\u001b[0m\u001b[0mright_join_keys\u001b[0m\u001b[1;33m,\u001b[0m\u001b[1;33m\u001b[0m\u001b[1;33m\u001b[0m\u001b[0m\n\u001b[0;32m    651\u001b[0m             \u001b[0mself\u001b[0m\u001b[1;33m.\u001b[0m\u001b[0mjoin_names\u001b[0m\u001b[1;33m,\u001b[0m\u001b[1;33m\u001b[0m\u001b[1;33m\u001b[0m\u001b[0m\n\u001b[1;32m--> 652\u001b[1;33m         ) = self._get_merge_keys()\n\u001b[0m\u001b[0;32m    653\u001b[0m \u001b[1;33m\u001b[0m\u001b[0m\n\u001b[0;32m    654\u001b[0m         \u001b[1;31m# validate the merge keys dtypes. We may need to coerce\u001b[0m\u001b[1;33m\u001b[0m\u001b[1;33m\u001b[0m\u001b[1;33m\u001b[0m\u001b[0m\n",
      "\u001b[1;32mC:\\Miniconda3\\lib\\site-packages\\pandas\\core\\reshape\\merge.py\u001b[0m in \u001b[0;36m_get_merge_keys\u001b[1;34m(self)\u001b[0m\n\u001b[0;32m   1003\u001b[0m                     \u001b[1;32mif\u001b[0m \u001b[1;32mnot\u001b[0m \u001b[0mis_rkey\u001b[0m\u001b[1;33m(\u001b[0m\u001b[0mrk\u001b[0m\u001b[1;33m)\u001b[0m\u001b[1;33m:\u001b[0m\u001b[1;33m\u001b[0m\u001b[1;33m\u001b[0m\u001b[0m\n\u001b[0;32m   1004\u001b[0m                         \u001b[1;32mif\u001b[0m \u001b[0mrk\u001b[0m \u001b[1;32mis\u001b[0m \u001b[1;32mnot\u001b[0m \u001b[1;32mNone\u001b[0m\u001b[1;33m:\u001b[0m\u001b[1;33m\u001b[0m\u001b[1;33m\u001b[0m\u001b[0m\n\u001b[1;32m-> 1005\u001b[1;33m                             \u001b[0mright_keys\u001b[0m\u001b[1;33m.\u001b[0m\u001b[0mappend\u001b[0m\u001b[1;33m(\u001b[0m\u001b[0mright\u001b[0m\u001b[1;33m.\u001b[0m\u001b[0m_get_label_or_level_values\u001b[0m\u001b[1;33m(\u001b[0m\u001b[0mrk\u001b[0m\u001b[1;33m)\u001b[0m\u001b[1;33m)\u001b[0m\u001b[1;33m\u001b[0m\u001b[1;33m\u001b[0m\u001b[0m\n\u001b[0m\u001b[0;32m   1006\u001b[0m                         \u001b[1;32melse\u001b[0m\u001b[1;33m:\u001b[0m\u001b[1;33m\u001b[0m\u001b[1;33m\u001b[0m\u001b[0m\n\u001b[0;32m   1007\u001b[0m                             \u001b[1;31m# work-around for merge_asof(right_index=True)\u001b[0m\u001b[1;33m\u001b[0m\u001b[1;33m\u001b[0m\u001b[1;33m\u001b[0m\u001b[0m\n",
      "\u001b[1;32mC:\\Miniconda3\\lib\\site-packages\\pandas\\core\\generic.py\u001b[0m in \u001b[0;36m_get_label_or_level_values\u001b[1;34m(self, key, axis)\u001b[0m\n\u001b[0;32m   1561\u001b[0m             \u001b[0mvalues\u001b[0m \u001b[1;33m=\u001b[0m \u001b[0mself\u001b[0m\u001b[1;33m.\u001b[0m\u001b[0maxes\u001b[0m\u001b[1;33m[\u001b[0m\u001b[0maxis\u001b[0m\u001b[1;33m]\u001b[0m\u001b[1;33m.\u001b[0m\u001b[0mget_level_values\u001b[0m\u001b[1;33m(\u001b[0m\u001b[0mkey\u001b[0m\u001b[1;33m)\u001b[0m\u001b[1;33m.\u001b[0m\u001b[0m_values\u001b[0m\u001b[1;33m\u001b[0m\u001b[1;33m\u001b[0m\u001b[0m\n\u001b[0;32m   1562\u001b[0m         \u001b[1;32melse\u001b[0m\u001b[1;33m:\u001b[0m\u001b[1;33m\u001b[0m\u001b[1;33m\u001b[0m\u001b[0m\n\u001b[1;32m-> 1563\u001b[1;33m             \u001b[1;32mraise\u001b[0m \u001b[0mKeyError\u001b[0m\u001b[1;33m(\u001b[0m\u001b[0mkey\u001b[0m\u001b[1;33m)\u001b[0m\u001b[1;33m\u001b[0m\u001b[1;33m\u001b[0m\u001b[0m\n\u001b[0m\u001b[0;32m   1564\u001b[0m \u001b[1;33m\u001b[0m\u001b[0m\n\u001b[0;32m   1565\u001b[0m         \u001b[1;31m# Check for duplicates\u001b[0m\u001b[1;33m\u001b[0m\u001b[1;33m\u001b[0m\u001b[1;33m\u001b[0m\u001b[0m\n",
      "\u001b[1;31mKeyError\u001b[0m: '报告日期'"
     ]
    }
   ],
   "source": [
    "fd = FinData(target_code, date_filter=date_filter)"
   ]
  },
  {
   "cell_type": "markdown",
   "metadata": {},
   "source": [
    "# ROE 分析"
   ]
  },
  {
   "cell_type": "markdown",
   "metadata": {},
   "source": [
    "## ROE & ROA"
   ]
  },
  {
   "cell_type": "code",
   "execution_count": null,
   "metadata": {},
   "outputs": [],
   "source": [
    "zycwzb = fd.zycwzb\n",
    "lrb = fd.lrb\n",
    "zcfzb = fd.zcfzb\n",
    "xjllb = fd.xjllb"
   ]
  },
  {
   "cell_type": "code",
   "execution_count": null,
   "metadata": {},
   "outputs": [],
   "source": [
    "data_df = pd.concat([zycwzb, zcfzb, lrb, xjllb], axis=1)"
   ]
  },
  {
   "cell_type": "code",
   "execution_count": null,
   "metadata": {},
   "outputs": [],
   "source": [
    "data_df['grossprofit_margin'] = 100 - data_df['main_cost_ratio'] "
   ]
  },
  {
   "cell_type": "code",
   "execution_count": null,
   "metadata": {},
   "outputs": [],
   "source": [
    "data_df['cogs_of_sales'] = data_df['main_cost_ratio']"
   ]
  },
  {
   "cell_type": "code",
   "execution_count": null,
   "metadata": {},
   "outputs": [],
   "source": [
    "data_df['saleexp_to_gr'] = data_df['sell_exp']/data_df['revenue']\n",
    "data_df['adminexp_of_gr'] = data_df['admin_exp']/data_df['revenue']\n",
    "data_df['finaexp_of_gr'] = data_df['fin_exp']/data_df['revenue']"
   ]
  },
  {
   "cell_type": "code",
   "execution_count": null,
   "metadata": {},
   "outputs": [],
   "source": [
    "data_df = data_df.iloc[:,~data_df.columns.duplicated()]"
   ]
  },
  {
   "cell_type": "code",
   "execution_count": null,
   "metadata": {
    "scrolled": false
   },
   "outputs": [],
   "source": [
    "fig = go.Figure()\n",
    "\n",
    "fig.add_trace(go.Scatter(x=data_df.index, y=data_df['roe'],name='roe'))\n",
    "fig.add_trace(go.Scatter(x=data_df.index, y=data_df['roa'],name='roe'))\n",
    "\n",
    "# fig.add_trace(go.Scatter(x=data_df.index, y=data_df.roa,name='roa'))\n",
    "# fig.add_trace(go.Scatter(x=data_df.index, y=data_df.roe_dt,name='roe_dt'))\n",
    "fig.show()"
   ]
  },
  {
   "cell_type": "markdown",
   "metadata": {},
   "source": [
    "## 杜邦分析"
   ]
  },
  {
   "cell_type": "code",
   "execution_count": null,
   "metadata": {},
   "outputs": [],
   "source": [
    "from plotly.subplots import make_subplots"
   ]
  },
  {
   "cell_type": "code",
   "execution_count": null,
   "metadata": {},
   "outputs": [],
   "source": [
    "fig = make_subplots(2,2,\n",
    "                   subplot_titles=['ROE','净利率&毛利率','周转率','资产负债率'])\n",
    "\n",
    "fig.append_trace(go.Scatter(x=data_df.index, y=data_df.roe,name='roe'),1,1)\n",
    "\n",
    "fig.append_trace(go.Scatter(x=data_df.index, y=data_df.netprofit_margin,name='netprofit_margin'),1,2)\n",
    "fig.append_trace(go.Scatter(x=data_df.index, y=data_df.grossprofit_margin,name='grossprofit_margin', yaxis='y2'),1,2)\n",
    "\n",
    "\n",
    "fig.append_trace(go.Scatter(x=data_df.index, y=data_df.assets_turn,name='assets_turn'),2,1)\n",
    "fig.append_trace(go.Scatter(x=data_df.index, y=data_df.debt_to_assets,name='debt_to_assets'),2,2)\n",
    "fig.show()"
   ]
  },
  {
   "cell_type": "markdown",
   "metadata": {},
   "source": [
    "# 风险分析-结构"
   ]
  },
  {
   "cell_type": "markdown",
   "metadata": {},
   "source": [
    "## 应收"
   ]
  },
  {
   "cell_type": "code",
   "execution_count": null,
   "metadata": {},
   "outputs": [],
   "source": [
    "cols_rec = {\"notes_receiv\":\"应收票据\",\n",
    "\"accounts_receiv\":\"应收账款\",\n",
    "\"oth_receiv\":\"其他应收款\",\n",
    "\"lt_amor_exp\":\"长期待摊费用\"}"
   ]
  },
  {
   "cell_type": "code",
   "execution_count": null,
   "metadata": {},
   "outputs": [],
   "source": [
    "fig = go.Figure()\n",
    "for col in cols_rec:\n",
    "    fig.add_trace(go.Scatter(x=data_df.index, y=data_df[col]/data_df.total_revenue, name=cols_rec[col]+\"/营收\"))\n",
    "fig.show()"
   ]
  },
  {
   "cell_type": "markdown",
   "metadata": {},
   "source": [
    "## 应付"
   ]
  },
  {
   "cell_type": "code",
   "execution_count": null,
   "metadata": {},
   "outputs": [],
   "source": [
    "cols_pay = {\"notes_payable\":\"应付票据\",\n",
    "\"acct_payable\":\"应付账款\",\n",
    "\"oth_payable\":\"其他应付款\",\n",
    "\"st_borr\":\"短期借款\",}"
   ]
  },
  {
   "cell_type": "code",
   "execution_count": null,
   "metadata": {},
   "outputs": [],
   "source": [
    "fig = go.Figure()\n",
    "for col in cols_pay:\n",
    "    fig.add_trace(go.Scatter(x=data_df.index, y=data_df[col]/data_df.total_revenue, name=cols_pay[col]+\"/营收\"))\n",
    "fig.show()"
   ]
  },
  {
   "cell_type": "markdown",
   "metadata": {},
   "source": [
    "## 核心利润&营业利润"
   ]
  },
  {
   "cell_type": "code",
   "execution_count": null,
   "metadata": {},
   "outputs": [],
   "source": [
    "# 核心利润计算\n",
    "# data_df['oper_profit'] = data_df['revenue'] - (\n",
    "#         data_df[[\"oper_cost\", \"int_exp\", \"comm_exp\", \"biz_tax_surchg\", \"sell_exp\", \"admin_exp\", \"prem_refund\",\n",
    "#                  \"compens_payout\", \"reser_insur_liab\", \"div_payt\", \"reins_exp\", \"compens_payout_refu\",\n",
    "#                  \"insur_reser_refu\", \"reins_cost_refund\", \"other_bus_cost\"]].sum(axis=1) + \n",
    "#     data_df['fin_exp'].apply(lambda x: x if x > 0 else 0) + \n",
    "#     data_df['assets_impair_loss'].apply(lambda x: x if x > 0 else 0)\n",
    "# )\n",
    "# ## 暂时可能不适用于金融类公司\n",
    "# data_df['oper_profit_ratio'] = data_df['oper_profit']/data_df['revenue']*100"
   ]
  },
  {
   "cell_type": "code",
   "execution_count": null,
   "metadata": {},
   "outputs": [],
   "source": [
    "## 公允、投资、减值\n",
    "data_df['gtj_to_oper'] = data_df[['fv_value_chg_gain','invest_income','assets_impair_loss']].sum(axis=1) / data_df['operate_profit'] *100"
   ]
  },
  {
   "cell_type": "code",
   "execution_count": null,
   "metadata": {},
   "outputs": [],
   "source": [
    "## 净利/营业利润\n",
    "data_df['n_to_oper'] = data_df['n_income'] / data_df['operate_profit'] *100"
   ]
  },
  {
   "cell_type": "code",
   "execution_count": null,
   "metadata": {},
   "outputs": [],
   "source": [
    "fig = go.Figure()\n",
    "fig.add_trace(go.Scatter(x=data_df.index, y=data_df['ope'],name='核心利润率'))\n",
    "fig.add_trace(go.Scatter(x=data_df.index, y=data_df['op_margin'],name='营业利润率'))\n",
    "fig.add_trace(go.Scatter(x=data_df.index, y=data_df['gtj_to_oper'],name='公投减/营业利润'))\n",
    "fig.add_trace(go.Scatter(x=data_df.index, y=data_df['n_to_oper'],name='净利率/营业利润'))\n",
    "\n",
    "\n",
    "fig.show()\n",
    "\n"
   ]
  },
  {
   "cell_type": "markdown",
   "metadata": {
    "pycharm": {
     "is_executing": false
    }
   },
   "source": [
    "# 安全性"
   ]
  },
  {
   "cell_type": "markdown",
   "metadata": {},
   "source": [
    "## 有息负债率"
   ]
  },
  {
   "cell_type": "code",
   "execution_count": null,
   "metadata": {},
   "outputs": [],
   "source": [
    "cols_yx_debts = {\n",
    "    \"lt_borr\":\"长期借款\",\n",
    "\"st_borr\":\"短期借款\",\n",
    "\"cb_borr\":\"向中央银行借款\",\n",
    "\"trading_fl\":\"交易性金融负债\",\n",
    "\"sold_for_repur_fa\":\"卖出回购金融资产款\",\n",
    "\"st_bonds_payable\":\"应付短期债券\",\n",
    "\"non_cur_liab_due_1y\":\"一年内到期的非流动负债\",\n",
    "\"oth_cur_liab\":\"其他流动负债\",\n",
    "\"bond_payable\":\"应付债券\",\n",
    "\"oth_ncl\":\"其他非流动负债\",\n",
    "}\n",
    "data_df['debts_yx'] = data_df[cols_yx_debts.keys()].sum(axis=1)"
   ]
  },
  {
   "cell_type": "code",
   "execution_count": null,
   "metadata": {},
   "outputs": [],
   "source": [
    "fig = go.Figure()\n",
    "fig.add_trace(go.Scatter(x=data_df.index, y=data_df['debts_yx']/ data_df['total_assets'],name='有息负债率'))\n",
    "fig.add_trace(go.Scatter(x=data_df.index, y=data_df['debts_yx'] / (data_df['total_assets'] - data_df['goodwill']),name='除商誉的有息负债率'))\n",
    "fig.show()\n",
    "\n"
   ]
  },
  {
   "cell_type": "code",
   "execution_count": null,
   "metadata": {},
   "outputs": [],
   "source": []
  },
  {
   "cell_type": "markdown",
   "metadata": {},
   "source": [
    "## 现金及等价物/有息负债"
   ]
  },
  {
   "cell_type": "code",
   "execution_count": null,
   "metadata": {},
   "outputs": [],
   "source": [
    "fig = go.Figure()\n",
    "fig.add_trace(go.Scatter(x=data_df.index, y=data_df['money_cap']/data_df['debts_yx'],name='有息负债率'))\n",
    "fig.show()\n"
   ]
  },
  {
   "cell_type": "markdown",
   "metadata": {},
   "source": [
    "# 盈利能力"
   ]
  },
  {
   "cell_type": "markdown",
   "metadata": {},
   "source": [
    "## 核心利润"
   ]
  },
  {
   "cell_type": "code",
   "execution_count": null,
   "metadata": {},
   "outputs": [],
   "source": [
    "fig = go.Figure()\n",
    "\n",
    "fig.add_trace(go.Scatter(x=data_df.index, y=data_df.grossprofit_margin, name='销售毛利率'))\n",
    "fig.add_trace(go.Scatter(x=data_df.index, y=data_df.ope, name='核心利润率'))\n",
    "fig.add_trace(go.Scatter(x=data_df.index, y=data_df.netprofit_margin, name='销售净利率'))\n",
    "fig.add_trace(go.Scatter(x=data_df.index, y=data_df.main_cost_ratio, name='销售成本率'))\n",
    "fig.add_trace(go.Scatter(x=data_df.index, y=data_df.prop_exp, name='销售期间费用率'))\n",
    "\n",
    "fig.show()\n",
    "# px.line(data_df,x='end_date',y=['total_revenue','operate_profit','n_income'])"
   ]
  },
  {
   "cell_type": "markdown",
   "metadata": {},
   "source": [
    "## 费用占比"
   ]
  },
  {
   "cell_type": "code",
   "execution_count": null,
   "metadata": {},
   "outputs": [],
   "source": [
    "data_df['saleexp_to_gr'] = data_df['sell_exp']/data_df['revenue']\n",
    "data_df['adminexp_of_gr'] = data_df['admin_exp']/data_df['revenue']\n",
    "data_df['finaexp_of_gr'] = data_df['fin_exp']/data_df['revenue']"
   ]
  },
  {
   "cell_type": "code",
   "execution_count": null,
   "metadata": {},
   "outputs": [],
   "source": [
    "## 使用bar，对比分组数据\n",
    "fig = go.Figure()\n",
    "fig.add_trace(go.Scatter(x=data_df.index, y=data_df.revenue, name='营业收入',yaxis='y2'))\n",
    "fig.add_trace(go.Scatter(x=data_df.index, y=data_df.saleexp_to_gr, name='销售费用率'))\n",
    "fig.add_trace(go.Scatter(x=data_df.index, y=data_df.adminexp_of_gr, name='管理费用率'))\n",
    "fig.add_trace(go.Scatter(x=data_df.index, y=data_df.finaexp_of_gr, name='财务费用率'))\n",
    "\n",
    "fig.update_layout(yaxis2=dict(anchor='x', overlaying='y', side='right'))#设置坐标轴的格式，一般次坐标轴在右侧\n",
    "fig.show()\n",
    "# px.line(data_df,x='end_date',y=['total_revenue','operate_profit','n_income'])"
   ]
  },
  {
   "cell_type": "markdown",
   "metadata": {},
   "source": [
    "# 成长性"
   ]
  },
  {
   "cell_type": "markdown",
   "metadata": {},
   "source": [
    "## 营收、扣非、净利润增长"
   ]
  },
  {
   "cell_type": "code",
   "execution_count": null,
   "metadata": {},
   "outputs": [],
   "source": [
    "data_df['profit_dedt_yoy'] = data_df.profit_dedt/data_df.profit_dedt.shift(-1) - 1\n",
    "data_df['revenue_yoy'] = data_df.revenue/data_df.revenue.shift(-1) - 1\n"
   ]
  },
  {
   "cell_type": "code",
   "execution_count": null,
   "metadata": {},
   "outputs": [],
   "source": [
    "fig = go.Figure()\n",
    "\n",
    "fig.add_trace(go.Bar(x=data_df.index, y=data_df.total_revenue, name='total_revenue',offsetgroup=0))\n",
    "fig.add_trace(go.Bar(x=data_df.index, y=data_df.n_income,name='n_income', offsetgroup=1))\n",
    "\n",
    "fig.add_trace(go.Scatter(x=data_df.index, y=data_df.revenue_yoy,name='revenue_yoy', yaxis='y2'))\n",
    "fig.add_trace(go.Scatter(x=data_df.index, y=data_df.profit_dedt_yoy,name='扣非净利润增长', yaxis='y2'))\n",
    "\n",
    "fig.update_layout(yaxis2=dict(anchor='x', overlaying='y', side='right'))#设置坐标轴的格式，一般次坐标轴在右侧\n",
    "fig.show()"
   ]
  },
  {
   "cell_type": "markdown",
   "metadata": {},
   "source": [
    "## 总资产、净资产增长率"
   ]
  },
  {
   "cell_type": "code",
   "execution_count": null,
   "metadata": {},
   "outputs": [],
   "source": [
    "data_df['total_ass_yoy'] = data_df.total_assets/data_df.total_assets.shift(-1)\n",
    "data_df['total_hldr_eqy_exc_min_int_yoy'] = data_df.total_hldr_eqy_exc_min_int/data_df.total_hldr_eqy_exc_min_int.shift(-1) - 1\n"
   ]
  },
  {
   "cell_type": "code",
   "execution_count": null,
   "metadata": {},
   "outputs": [],
   "source": [
    "fig = go.Figure()\n",
    "fig.add_trace(go.Scatter(x=data_df.index, y=data_df.total_assets,name='total_assets'))\n",
    "fig.add_trace(go.Scatter(x=data_df.index, y=data_df.total_hldr_eqy_exc_min_int,name='所有者权益'))\n",
    "\n",
    "fig.add_trace(go.Scatter(x=data_df.index, y=data_df.total_ass_yoy , yaxis='y2',name='total_ass_yoy'))\n",
    "fig.add_trace(go.Scatter(x=data_df.index, y=data_df.total_hldr_eqy_exc_min_int_yoy , yaxis='y2',name='所有者权益yoy'))\n",
    "\n",
    "fig.update_layout(yaxis2=dict(anchor='x', overlaying='y', side='right'))#设置坐标轴的格式，一般次坐标轴在右侧\n",
    "fig.show()"
   ]
  },
  {
   "cell_type": "markdown",
   "metadata": {},
   "source": [
    "# 利润质量"
   ]
  },
  {
   "cell_type": "markdown",
   "metadata": {},
   "source": [
    "## 营业收入 vs 销售收现"
   ]
  },
  {
   "cell_type": "markdown",
   "metadata": {},
   "source": [
    "1. total_revenue\t营业总收入\n",
    "2. c_fr_sale_sg\t销售商品、提供劳务收到的现金\n",
    "3. salescash_to_or\t销售商品提供劳务收到的现金/营业收入"
   ]
  },
  {
   "cell_type": "code",
   "execution_count": null,
   "metadata": {},
   "outputs": [],
   "source": [
    "data_df['salescash_to_or'] = data_df.c_fr_sale_sg / data_df.total_revenue"
   ]
  },
  {
   "cell_type": "code",
   "execution_count": null,
   "metadata": {},
   "outputs": [],
   "source": [
    "fig = go.Figure()\n",
    "fig.add_trace(go.Scatter(x=data_df.index, y=data_df.total_revenue,name='营业总收入'))\n",
    "fig.add_trace(go.Scatter(x=data_df.index, y=data_df.c_fr_sale_sg,name='销售收现'))\n",
    "\n",
    "fig.add_trace(go.Scatter(x=data_df.index, y=data_df.salescash_to_or ,name='销售收现/营业收入', yaxis='y2',))\n",
    "fig.update_layout(yaxis2=dict(anchor='x', overlaying='y', side='right'))#设置坐标轴的格式，一般次坐标轴在右侧\n",
    "fig.show()"
   ]
  },
  {
   "cell_type": "markdown",
   "metadata": {},
   "source": [
    "## 净利润 vs 经营现金流净额"
   ]
  },
  {
   "cell_type": "markdown",
   "metadata": {},
   "source": [
    "1. profit_dedt\t扣除非经常性损益后的净利润\n",
    "2. n_income\t净利润(含少数股东损益)\n",
    "3. n_cashflow_act\t经营活动产生的现金流量净额\n"
   ]
  },
  {
   "cell_type": "code",
   "execution_count": null,
   "metadata": {},
   "outputs": [],
   "source": [
    "data_df['n_income_to_cha'] = data_df['n_cashflow_act']/data_df['n_income'] \n",
    "data_df['profit_dedt_to_cha'] = data_df['n_cashflow_act']/data_df['profit_dedt'] "
   ]
  },
  {
   "cell_type": "code",
   "execution_count": null,
   "metadata": {},
   "outputs": [],
   "source": [
    "fig = go.Figure()\n",
    "fig.add_trace(go.Scatter(x=data_df.index, y=data_df.n_income,name='净利润'))\n",
    "fig.add_trace(go.Scatter(x=data_df.index, y=data_df.profit_dedt,name='扣非净利'))\n",
    "fig.add_trace(go.Scatter(x=data_df.index, y=data_df.n_cashflow_act,name='经营现金净额'))\n",
    "\n",
    "fig.add_trace(go.Scatter(x=data_df.index, y=data_df.n_income_to_cha ,name='经营现金净额/净利润', yaxis='y2',))\n",
    "fig.add_trace(go.Scatter(x=data_df.index, y=data_df.profit_dedt_to_cha ,name='经营现金净额/扣非净利', yaxis='y2',))\n",
    "fig.update_layout(yaxis2=dict(anchor='x', overlaying='y', side='right'))#设置坐标轴的格式，一般次坐标轴在右侧\n",
    "fig.show()"
   ]
  },
  {
   "cell_type": "markdown",
   "metadata": {},
   "source": [
    "# 管理层能力"
   ]
  },
  {
   "cell_type": "markdown",
   "metadata": {},
   "source": [
    "## 应收账款周转率"
   ]
  },
  {
   "cell_type": "code",
   "execution_count": null,
   "metadata": {},
   "outputs": [],
   "source": [
    "fig = go.Figure()\n",
    "fig.add_trace(go.Scatter(x=data_df.index, y=data_df['ar_turn'],name='应收账款周转天数'))\n",
    "fig.show()\n",
    "# 网易数据中，ar_turn 与 arturn_days 弄反了"
   ]
  },
  {
   "cell_type": "markdown",
   "metadata": {},
   "source": [
    "## 资产周转率"
   ]
  },
  {
   "cell_type": "code",
   "execution_count": null,
   "metadata": {},
   "outputs": [],
   "source": [
    "cols_turn = {\"inv_turn\":\"存货周转率\",\n",
    "\"ca_turn\":\"流动资产周转率\",\n",
    "\"fa_turn\":\"固定资产周转率\",\n",
    "\"assets_turn\":\"总资产周转率\"}"
   ]
  },
  {
   "cell_type": "code",
   "execution_count": null,
   "metadata": {},
   "outputs": [],
   "source": [
    "fig = go.Figure()\n",
    "for col in cols_turn:\n",
    "    fig.add_trace(go.Scatter(x=data_df.index, y=data_df[col],name=cols_turn[col]))\n",
    "fig.show()\n"
   ]
  },
  {
   "cell_type": "code",
   "execution_count": null,
   "metadata": {},
   "outputs": [],
   "source": []
  },
  {
   "cell_type": "markdown",
   "metadata": {},
   "source": [
    "# 资产负债表"
   ]
  },
  {
   "cell_type": "markdown",
   "metadata": {},
   "source": [
    "## 资产负债表中的几个比率"
   ]
  },
  {
   "cell_type": "code",
   "execution_count": null,
   "metadata": {
    "pycharm": {
     "is_executing": false
    }
   },
   "outputs": [],
   "source": [
    "fig = go.Figure()\n",
    "fig.add_trace(go.Scatter(x=data_df.index, y=data_df.total_assets))\n",
    "fig.update_layout(title='总资产')\n",
    "fig.show()"
   ]
  },
  {
   "cell_type": "markdown",
   "metadata": {},
   "source": [
    "## 货币资金的比率"
   ]
  },
  {
   "cell_type": "code",
   "execution_count": null,
   "metadata": {
    "pycharm": {
     "is_executing": false
    }
   },
   "outputs": [],
   "source": [
    "data_df['money_cap_ratio'] = data_df['money_cap']/data_df['total_assets']\n",
    "fig = go.Figure()\n",
    "fig.add_trace(go.Scatter(x=data_df.index, y=data_df.money_cap_ratio))\n",
    "fig.show()"
   ]
  },
  {
   "cell_type": "markdown",
   "metadata": {},
   "source": [
    "## 经营资产比率"
   ]
  },
  {
   "cell_type": "code",
   "execution_count": null,
   "metadata": {
    "pycharm": {
     "is_executing": false
    }
   },
   "outputs": [],
   "source": [
    "cols_op = {\"notes_receiv\":\"应收票据\",\n",
    "\"accounts_receiv\":\"应收账款\",\n",
    "\"oth_receiv\":\"其他应收款\",\n",
    "\"prepayment\":\"预付款项\",\n",
    "\"div_receiv\":\"应收股利\",\n",
    "\"int_receiv\":\"应收利息\",\n",
    "\"inventories\":\"存货\",\n",
    "\"produc_bio_assets\":\"生产性生物资产\"}"
   ]
  },
  {
   "cell_type": "code",
   "execution_count": null,
   "metadata": {
    "pycharm": {
     "is_executing": false
    }
   },
   "outputs": [],
   "source": [
    "data_df['op_ratio'] = data_df[cols_op.keys()].sum(axis=1)/data_df['total_assets']\n",
    "fig = go.Figure()\n",
    "fig.add_trace(go.Scatter(x=data_df.index, y=data_df.op_ratio))\n",
    "fig.show()"
   ]
  },
  {
   "cell_type": "code",
   "execution_count": null,
   "metadata": {
    "pycharm": {
     "is_executing": false
    }
   },
   "outputs": [],
   "source": [
    "fig = go.Figure()\n",
    "for col in cols_op:\n",
    "    fig.add_trace(go.Bar(x=data_df.index, y=data_df[col], name=cols_op[col]))\n",
    "\n",
    "# Change the bar mode\n",
    "fig.update_layout(barmode='stack')\n",
    "fig.show()"
   ]
  },
  {
   "cell_type": "markdown",
   "metadata": {},
   "source": [
    "### 经营资产 vs 营收"
   ]
  },
  {
   "cell_type": "code",
   "execution_count": null,
   "metadata": {},
   "outputs": [],
   "source": [
    "fig = go.Figure()\n",
    "for col in cols_op:\n",
    "    fig.add_trace(go.Scatter(x=data_df.index, y=data_df[col]/data_df.total_revenue, name=cols_op[col]+\"/营收\"))\n",
    "\n",
    "# Change the bar mode\n",
    "fig.update_layout(barmode='stack')\n",
    "fig.show()"
   ]
  },
  {
   "cell_type": "markdown",
   "metadata": {},
   "source": [
    "## 生产资产"
   ]
  },
  {
   "cell_type": "code",
   "execution_count": null,
   "metadata": {
    "pycharm": {
     "is_executing": false
    }
   },
   "outputs": [],
   "source": [
    "cols_prod = {\"fix_assets\":\"固定资产\",\n",
    "\"cip\":\"在建工程\",\n",
    "\"const_materials\":\"工程物资\",\n",
    "\"intan_assets\":\"无形资产\",\n",
    "\"goodwill\":\"商誉\",\n",
    "\"lt_amor_exp\":\"长期待摊费用\",\n",
    "\"defer_tax_assets\":\"递延所得税资产\"}\n",
    "# ？递延所得税资产 or 负债？"
   ]
  },
  {
   "cell_type": "code",
   "execution_count": null,
   "metadata": {
    "pycharm": {
     "is_executing": false
    }
   },
   "outputs": [],
   "source": [
    "data_df['prod_ratio'] = data_df[cols_prod.keys()].sum(axis=1)/data_df['total_assets']\n",
    "fig = go.Figure()\n",
    "fig.add_trace(go.Scatter(x=data_df.index, y=data_df.prod_ratio))\n",
    "fig.show()"
   ]
  },
  {
   "cell_type": "code",
   "execution_count": null,
   "metadata": {},
   "outputs": [],
   "source": [
    "fig = go.Figure()\n",
    "for col in cols_prod:\n",
    "    fig.add_trace(go.Bar(x=data_df.index, y=data_df[col], name=cols_prod[col]))\n",
    "\n",
    "# Change the bar mode\n",
    "fig.update_layout(barmode='stack')\n",
    "fig.show()"
   ]
  },
  {
   "cell_type": "markdown",
   "metadata": {},
   "source": [
    "### 生产资产 vs 营收"
   ]
  },
  {
   "cell_type": "code",
   "execution_count": null,
   "metadata": {},
   "outputs": [],
   "source": [
    "fig = go.Figure()\n",
    "for col in cols_prod:\n",
    "    fig.add_trace(go.Scatter(x=data_df.index, y=data_df[col]/data_df.total_revenue, name=cols_prod[col]+\"/营收\"))\n",
    "\n",
    "# Change the bar mode\n",
    "fig.update_layout(barmode='stack')\n",
    "fig.show()"
   ]
  },
  {
   "cell_type": "code",
   "execution_count": null,
   "metadata": {},
   "outputs": [],
   "source": []
  },
  {
   "cell_type": "markdown",
   "metadata": {},
   "source": [
    "## 轻重比"
   ]
  },
  {
   "cell_type": "code",
   "execution_count": null,
   "metadata": {},
   "outputs": [],
   "source": [
    "data_df['opp_to_prodass'] = data_df['operate_profit']/data_df[cols_prod.keys()].sum(axis=1)\n",
    "fig = go.Figure()\n",
    "fig.add_trace(go.Scatter(x=data_df.index, y=data_df.opp_to_prodass, name='轻重比')) ## 显著高于社会平均资本回报率则属于轻\n",
    "fig.show()"
   ]
  },
  {
   "cell_type": "markdown",
   "metadata": {},
   "source": [
    "## 非主营相关资产"
   ]
  },
  {
   "cell_type": "code",
   "execution_count": null,
   "metadata": {
    "pycharm": {
     "is_executing": false
    }
   },
   "outputs": [],
   "source": [
    "cols_oth_ass = {\n",
    "\"trad_asset\":\"交易性金融资产\",\n",
    "\"pur_resale_fa\":\"买入返售金融资产\",\n",
    "\"oth_cur_assets\":\"其他流动资产\",\n",
    "\"fa_avail_for_sale\":\"可供出售金融资产\",\n",
    "\"htm_invest\":\"持有至到期投资\",\n",
    "\"lt_eqt_invest\":\"长期股权投资\",\n",
    "\"invest_real_estate\":\"投资性房地产\"}"
   ]
  },
  {
   "cell_type": "code",
   "execution_count": null,
   "metadata": {
    "pycharm": {
     "is_executing": false
    }
   },
   "outputs": [],
   "source": [
    "data_df['oth_ass_ratio'] = data_df[cols_oth_ass.keys()].sum(axis=1)/data_df['total_assets']\n",
    "fig = go.Figure()\n",
    "fig.add_trace(go.Scatter(x=data_df.index, y=data_df.oth_ass_ratio))\n",
    "fig.show()"
   ]
  },
  {
   "cell_type": "code",
   "execution_count": null,
   "metadata": {
    "pycharm": {
     "is_executing": false
    }
   },
   "outputs": [],
   "source": [
    "fig = go.Figure()\n",
    "for col in cols_oth_ass:\n",
    "    fig.add_trace(go.Bar(x=data_df.index, y=data_df[col], name=cols_oth_ass[col]))\n",
    "\n",
    "# Change the bar mode\n",
    "fig.update_layout(barmode='stack')\n",
    "fig.show()"
   ]
  },
  {
   "cell_type": "code",
   "execution_count": null,
   "metadata": {
    "pycharm": {
     "is_executing": false
    }
   },
   "outputs": [],
   "source": [
    "83/2265"
   ]
  },
  {
   "cell_type": "code",
   "execution_count": null,
   "metadata": {
    "pycharm": {
     "is_executing": false
    }
   },
   "outputs": [],
   "source": [
    "## 2019理财收益\n",
    "35/2335\n",
    "## ？？大股东占用资金？"
   ]
  },
  {
   "cell_type": "code",
   "execution_count": null,
   "metadata": {
    "pycharm": {
     "is_executing": false
    }
   },
   "outputs": [],
   "source": []
  },
  {
   "cell_type": "code",
   "execution_count": null,
   "metadata": {
    "pycharm": {
     "is_executing": false
    }
   },
   "outputs": [],
   "source": [
    "# 除商誉外的资产负债率\n",
    "# 安全性"
   ]
  },
  {
   "cell_type": "markdown",
   "metadata": {},
   "source": [
    "# 利润表"
   ]
  },
  {
   "cell_type": "markdown",
   "metadata": {},
   "source": [
    "## 净利率与费用率"
   ]
  },
  {
   "cell_type": "code",
   "execution_count": null,
   "metadata": {},
   "outputs": [],
   "source": [
    "cols_incrs = {\"netprofit_margin\":\"销售净利率\",\n",
    "\"grossprofit_margin\":\"销售毛利率\",\n",
    "\"cogs_of_sales\":\"销售成本率\"}"
   ]
  },
  {
   "cell_type": "code",
   "execution_count": null,
   "metadata": {},
   "outputs": [],
   "source": [
    "data_df['exp_ratio'] = (data_df['sell_exp'] + data_df['admin_exp'] + data_df['fin_exp'].apply(lambda x:x if x>0 else 0)) / data_df['revenue']"
   ]
  },
  {
   "cell_type": "code",
   "execution_count": null,
   "metadata": {},
   "outputs": [],
   "source": [
    "fig = go.Figure()\n",
    "for col in cols_incrs:\n",
    "    fig.add_trace(go.Scatter(x=data_df.index, y=data_df[col], name=cols_incrs[col]))\n",
    "fig.add_trace(go.Scatter(x=data_df.index, y=data_df.exp_ratio*100, name='费用率'))\n",
    "fig.show()\n",
    "# px.line(data_df,x='end_date',y=['total_revenue','operate_profit','n_income'])"
   ]
  },
  {
   "cell_type": "markdown",
   "metadata": {},
   "source": [
    "## 费用占比"
   ]
  },
  {
   "cell_type": "code",
   "execution_count": null,
   "metadata": {},
   "outputs": [],
   "source": [
    "## 使用bar，对比分组数据\n",
    "fig = go.Figure()\n",
    "fig.add_trace(go.Scatter(x=data_df.index, y=data_df.revenue, name='营业收入',yaxis='y2'))\n",
    "fig.add_trace(go.Scatter(x=data_df.index, y=data_df.saleexp_to_gr, name='销售费用率'))\n",
    "fig.add_trace(go.Scatter(x=data_df.index, y=data_df.adminexp_of_gr, name='管理费用率'))\n",
    "fig.add_trace(go.Scatter(x=data_df.index, y=data_df.finaexp_of_gr, name='财务费用率'))\n",
    "\n",
    "fig.update_layout(yaxis2=dict(anchor='x', overlaying='y', side='right'))#设置坐标轴的格式，一般次坐标轴在右侧\n",
    "fig.show()\n",
    "# px.line(data_df,x='end_date',y=['total_revenue','operate_profit','n_income'])"
   ]
  },
  {
   "cell_type": "code",
   "execution_count": null,
   "metadata": {},
   "outputs": [],
   "source": []
  },
  {
   "cell_type": "markdown",
   "metadata": {},
   "source": [
    "# 现金流量表"
   ]
  },
  {
   "cell_type": "markdown",
   "metadata": {},
   "source": [
    "## 三种现金流量覆盖情况"
   ]
  },
  {
   "cell_type": "code",
   "execution_count": null,
   "metadata": {
    "pycharm": {
     "is_executing": false
    }
   },
   "outputs": [],
   "source": [
    "## 使用bar，对比分组数据\n",
    "fig = go.Figure()\n",
    "fig.add_trace(go.Bar(x=data_df.index, y=data_df.n_cashflow_act, offsetgroup=0, name='经营活动现金流净额'))\n",
    "fig.add_trace(go.Bar(x=data_df.index, y=-data_df.n_cashflow_inv_act, offsetgroup=1, name='投资活动现金流净额'))\n",
    "fig.add_trace(go.Bar(x=data_df.index, y=-data_df.n_cash_flows_fnc_act, offsetgroup=1,name='融资活动现金流净额'))\n",
    "fig.show()\n",
    "# px.line(data_df,x='end_date',y=['total_revenue','operate_profit','n_income'])\n",
    "\n",
    "## 经营活动现金流向上为正\n",
    "## 投资与融资向上代表负的，为的是体现出经营现金流是否可以覆盖投资、融资现金流支出\n",
    "## 向下代表正，投资表示收到前，融资表示在借钱"
   ]
  },
  {
   "cell_type": "code",
   "execution_count": null,
   "metadata": {},
   "outputs": [],
   "source": []
  },
  {
   "cell_type": "markdown",
   "metadata": {},
   "source": [
    "# 字典转化"
   ]
  },
  {
   "cell_type": "code",
   "execution_count": null,
   "metadata": {
    "pycharm": {
     "is_executing": false
    }
   },
   "outputs": [],
   "source": [
    "text = \"\"\"\n",
    "notes_payable\t应付票据\n",
    "acct_payable\t应付账款\n",
    "oth_payable\t其他应付款\n",
    "st_borr\t短期借款\n",
    "\n",
    "\n",
    "\"\"\"\n",
    "for line in text.split(\"\\n\"):\n",
    "    if \"\\t\" not in line:continue\n",
    "    k,c = line.split(\"\\t\")\n",
    "    print(f'\"{k}\":\"{c}\",')"
   ]
  },
  {
   "cell_type": "code",
   "execution_count": null,
   "metadata": {},
   "outputs": [],
   "source": []
  },
  {
   "cell_type": "markdown",
   "metadata": {},
   "source": [
    "# 简化资产负债表"
   ]
  },
  {
   "cell_type": "code",
   "execution_count": null,
   "metadata": {},
   "outputs": [],
   "source": [
    "from col_names import col_names"
   ]
  },
  {
   "cell_type": "code",
   "execution_count": null,
   "metadata": {},
   "outputs": [],
   "source": [
    "bs = pro.balancesheet(ts_code=target_code)"
   ]
  },
  {
   "cell_type": "code",
   "execution_count": null,
   "metadata": {},
   "outputs": [],
   "source": [
    "ts_date = '20171231'\n",
    "# ts_date = max(bs.end_date)\n",
    "df = bs[bs.end_date==ts_date].iloc[:,1:].astype('float').reset_index()\n",
    "print(\"date:\",ts_date)"
   ]
  },
  {
   "cell_type": "code",
   "execution_count": null,
   "metadata": {},
   "outputs": [],
   "source": [
    "df1 = (df/df['total_assets'].iloc[0]).T"
   ]
  },
  {
   "cell_type": "code",
   "execution_count": null,
   "metadata": {},
   "outputs": [],
   "source": [
    "df1 = df1[df1[0]>0.05]"
   ]
  },
  {
   "cell_type": "code",
   "execution_count": null,
   "metadata": {},
   "outputs": [],
   "source": [
    "df1 = df1.reset_index()"
   ]
  },
  {
   "cell_type": "code",
   "execution_count": null,
   "metadata": {},
   "outputs": [],
   "source": [
    "df1['name']=df1['index'].apply(lambda x:col_names[x])"
   ]
  },
  {
   "cell_type": "code",
   "execution_count": null,
   "metadata": {},
   "outputs": [],
   "source": [
    "df1[['name',0]]"
   ]
  },
  {
   "cell_type": "code",
   "execution_count": null,
   "metadata": {},
   "outputs": [],
   "source": []
  }
 ],
 "metadata": {
  "kernelspec": {
   "display_name": "Python 3",
   "language": "python",
   "name": "python3"
  },
  "language_info": {
   "codemirror_mode": {
    "name": "ipython",
    "version": 3
   },
   "file_extension": ".py",
   "mimetype": "text/x-python",
   "name": "python",
   "nbconvert_exporter": "python",
   "pygments_lexer": "ipython3",
   "version": "3.8.3"
  },
  "pycharm": {
   "stem_cell": {
    "cell_type": "raw",
    "metadata": {
     "collapsed": false
    },
    "source": []
   }
  },
  "toc": {
   "base_numbering": 1,
   "nav_menu": {
    "height": "266px",
    "width": "500px"
   },
   "number_sections": true,
   "sideBar": true,
   "skip_h1_title": false,
   "title_cell": "Table of Contents",
   "title_sidebar": "Contents",
   "toc_cell": false,
   "toc_position": {
    "height": "calc(100% - 180px)",
    "left": "10px",
    "top": "150px",
    "width": "384px"
   },
   "toc_section_display": true,
   "toc_window_display": true
  }
 },
 "nbformat": 4,
 "nbformat_minor": 4
}
