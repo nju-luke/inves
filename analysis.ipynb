{
 "cells": [
  {
   "cell_type": "code",
   "execution_count": 8,
   "metadata": {},
   "outputs": [],
   "source": [
    "from utils import engine\n",
    "import pandas as pd\n",
    "from sqlalchemy.exc import ResourceClosedError"
   ]
  },
  {
   "cell_type": "code",
   "execution_count": 2,
   "metadata": {
    "collapsed": false,
    "jupyter": {
     "outputs_hidden": false
    },
    "pycharm": {
     "name": "#%%\n"
    }
   },
   "outputs": [],
   "source": [
    "end_date = '20181231'\n",
    "report_date = '20190430'\n"
   ]
  },
  {
   "cell_type": "code",
   "execution_count": 6,
   "metadata": {},
   "outputs": [],
   "source": [
    "def execute(sql):\n",
    "    try:\n",
    "        df = pd.read_sql(sql, engine)\n",
    "        return df\n",
    "    except ResourceClosedError:\n",
    "        print(\"No data return!\")"
   ]
  },
  {
   "cell_type": "code",
   "execution_count": 10,
   "metadata": {
    "collapsed": false,
    "jupyter": {
     "outputs_hidden": false
    },
    "pycharm": {
     "name": "#%%\n"
    }
   },
   "outputs": [
    {
     "name": "stdout",
     "output_type": "stream",
     "text": [
      "No data return!\n",
      "No data return!\n"
     ]
    },
    {
     "name": "stderr",
     "output_type": "stream",
     "text": [
      "C:\\Anaconda3\\lib\\site-packages\\pymysql\\cursors.py:170: Warning: (1681, 'Specifying number of digits for floating point data types is deprecated and will be removed in a future release.')\n",
      "  result = self._query(query)\n"
     ]
    }
   ],
   "source": [
    "## 行业PE\n",
    "execute('''drop table if exists pe_industry''')\n",
    "execute(f'''\n",
    "create table pe_industry as\n",
    "select trade_date,industry, round(avg(pe_ttm),2) pe_ttm_ind from stock_basic sb\n",
    "join daily_basic d on sb.ts_code = d.ts_code\n",
    "where d.trade_date='{report_date}'\n",
    "group by industry\n",
    "''')"
   ]
  },
  {
   "cell_type": "code",
   "execution_count": 12,
   "metadata": {
    "collapsed": false,
    "jupyter": {
     "outputs_hidden": false
    },
    "pycharm": {
     "name": "#%%\n"
    }
   },
   "outputs": [
    {
     "name": "stdout",
     "output_type": "stream",
     "text": [
      "No data return!\n",
      "No data return!\n"
     ]
    },
    {
     "name": "stderr",
     "output_type": "stream",
     "text": [
      "C:\\Anaconda3\\lib\\site-packages\\pymysql\\cursors.py:170: Warning: (1681, 'Specifying number of digits for floating point data types is deprecated and will be removed in a future release.')\n",
      "  result = self._query(query)\n"
     ]
    }
   ],
   "source": [
    "## 个股PE\n",
    "execute('''drop table if exists pe_history''')\n",
    "execute(f'''\n",
    "create table pe_history as\n",
    "select '{report_date}' report_date, sb.ts_code, sb.name, round(avg(pe),2) pe_his, round(avg(pe_ttm),2) pe_ttm_his \n",
    "from stock_basic sb\n",
    "join daily_basic db on sb.ts_code=db.ts_code\n",
    "where trade_date < '{report_date}'\n",
    "and trade_date > replace(date_sub('{report_date}' , INTERVAL 360 DAY),'-','')\n",
    "and trade_date > replace(date_add(sb.list_date , INTERVAL 60 DAY),'-','')\n",
    "group by sb.ts_code\n",
    "''')"
   ]
  },
  {
   "cell_type": "code",
   "execution_count": 16,
   "metadata": {},
   "outputs": [
    {
     "name": "stdout",
     "output_type": "stream",
     "text": [
      "No data return!\n",
      "No data return!\n"
     ]
    },
    {
     "name": "stderr",
     "output_type": "stream",
     "text": [
      "C:\\Anaconda3\\lib\\site-packages\\pymysql\\cursors.py:170: Warning: (1681, 'Specifying number of digits for floating point data types is deprecated and will be removed in a future release.')\n",
      "  result = self._query(query)\n"
     ]
    }
   ],
   "source": [
    "## 分析\n",
    "execute('''drop table if exists tmp_results''')\n",
    "execute(f'''\n",
    "create table tmp_results as\n",
    "SELECT A.ts_code, sb.industry, sb.name, \n",
    "\t   dt_roe_ttm, \n",
    "       avg_roe, \n",
    "       pe, pe_ttm,\n",
    "       pe_ttm_ind,\n",
    "       pe_his,\n",
    "       pe_ttm_his,\n",
    "       netprofit_yoy_ttm,\n",
    "       dt_netprofit_yoy_ttm,\n",
    "       grossprofit_margin_ttm,\n",
    "       netprofit_margin_ttm\n",
    "FROM (\n",
    "\tSELECT *, \n",
    "        row_number() over (partition by ts_code order by end_date desc) rn\n",
    "    FROM tmp_ttm\n",
    "    where end_date < '{report_date}'\n",
    "    ) A\n",
    "JOIN (\n",
    "\t\tSELECT name, round(AVG(dt_roe_ttm),2) AS avg_roe\n",
    "\t\tFROM tmp_ttm\n",
    "\t\twhere end_date > replace(date_sub('{report_date}' , INTERVAL 540 DAY),'-','')\n",
    "        and end_date < '{report_date}'\n",
    "\t\tGROUP BY name\n",
    "\t) B ON A.name = B.name\n",
    "JOIN daily_basic C ON A.ts_code = C.ts_code\n",
    "join stock_basic sb on A.ts_code = sb.ts_code\n",
    "join pe_industry pi on sb.industry = pi.industry\n",
    "join pe_history ph on A.ts_code = ph.ts_code\n",
    "WHERE rn = 1\n",
    "    and C.trade_date = '{report_date}'\n",
    "    and dt_roe_ttm > 20\n",
    "\tAND avg_roe > 20\n",
    "\tAND pe < 20\n",
    "\tAND pe_ttm < 20\n",
    "ORDER BY dt_roe_ttm DESC\n",
    "''')\n"
   ]
  },
  {
   "cell_type": "code",
   "execution_count": null,
   "metadata": {},
   "outputs": [],
   "source": []
  }
 ],
 "metadata": {
  "kernelspec": {
   "display_name": "Python 3",
   "language": "python",
   "name": "python3"
  },
  "language_info": {
   "codemirror_mode": {
    "name": "ipython",
    "version": 3
   },
   "file_extension": ".py",
   "mimetype": "text/x-python",
   "name": "python",
   "nbconvert_exporter": "python",
   "pygments_lexer": "ipython3",
   "version": "3.7.3"
  },
  "pycharm": {
   "stem_cell": {
    "cell_type": "raw",
    "metadata": {
     "collapsed": false
    },
    "source": []
   }
  }
 },
 "nbformat": 4,
 "nbformat_minor": 4
}
