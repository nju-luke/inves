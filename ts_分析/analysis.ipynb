{
 "cells": [
  {
   "cell_type": "code",
   "execution_count": 1,
   "metadata": {},
   "outputs": [],
   "source": [
    "from utils import engine\n",
    "import pandas as pd\n",
    "from sqlalchemy.exc import ResourceClosedError"
   ]
  },
  {
   "cell_type": "code",
   "execution_count": 3,
   "metadata": {
    "collapsed": false,
    "jupyter": {
     "outputs_hidden": false
    },
    "pycharm": {
     "name": "#%%\n"
    }
   },
   "outputs": [],
   "source": [
    "end_date = '20191231'\n",
    "report_date = '20200710'\n"
   ]
  },
  {
   "cell_type": "code",
   "execution_count": 4,
   "metadata": {},
   "outputs": [],
   "source": [
    "def execute(sql):\n",
    "    try:\n",
    "        df = pd.read_sql(sql, engine)\n",
    "        return df\n",
    "    except ResourceClosedError:\n",
    "        print(\"No data return!\")"
   ]
  },
  {
   "cell_type": "code",
   "execution_count": 12,
   "metadata": {
    "collapsed": false,
    "jupyter": {
     "outputs_hidden": false
    },
    "pycharm": {
     "name": "#%%\n"
    }
   },
   "outputs": [
    {
     "name": "stdout",
     "output_type": "stream",
     "text": [
      "No data return!\n",
      "No data return!\n"
     ]
    }
   ],
   "source": [
    "## 行业PE\n",
    "execute('''drop table if exists pe_industry''')\n",
    "execute(f'''\n",
    "create table pe_industry as\n",
    "select trade_date,industry, round(avg(pe_ttm),2) pe_ttm_ind from stock_basic sb\n",
    "join daily_basic d on sb.ts_code = d.ts_code\n",
    "where d.trade_date='{report_date}'\n",
    "group by industry\n",
    "''')"
   ]
  },
  {
   "cell_type": "code",
   "execution_count": 13,
   "metadata": {
    "collapsed": false,
    "jupyter": {
     "outputs_hidden": false
    },
    "pycharm": {
     "name": "#%%\n"
    }
   },
   "outputs": [
    {
     "name": "stdout",
     "output_type": "stream",
     "text": [
      "No data return!\n",
      "No data return!\n"
     ]
    }
   ],
   "source": [
    "## 个股PE\n",
    "execute('''drop table if exists pe_history''')\n",
    "execute(f'''\n",
    "create table pe_history as\n",
    "select '{report_date}' report_date, sb.ts_code, sb.name, round(avg(pe),2) pe_his, round(avg(pe_ttm),2) pe_ttm_his \n",
    "from stock_basic sb\n",
    "join daily_basic db on sb.ts_code=db.ts_code\n",
    "where trade_date < '{report_date}'\n",
    "and trade_date > replace(date_sub('{report_date}' , INTERVAL 360 DAY),'-','')\n",
    "and trade_date > replace(date_add(sb.list_date , INTERVAL 60 DAY),'-','')\n",
    "group by sb.ts_code\n",
    "''')"
   ]
  },
  {
   "cell_type": "code",
   "execution_count": 20,
   "metadata": {},
   "outputs": [
    {
     "name": "stdout",
     "output_type": "stream",
     "text": [
      "No data return!\n",
      "No data return!\n"
     ]
    },
    {
     "name": "stderr",
     "output_type": "stream",
     "text": [
      "C:\\miniconda\\lib\\site-packages\\pymysql\\cursors.py:170: Warning: (1681, 'Specifying number of digits for floating point data types is deprecated and will be removed in a future release.')\n",
      "  result = self._query(query)\n"
     ]
    }
   ],
   "source": [
    "## 分析\n",
    "execute('''drop table if exists tmp_results''')\n",
    "execute(f'''\n",
    "create table tmp_results as\n",
    "SELECT A.ts_code, sb.industry, sb.name, \n",
    "\t   dt_roe_ttm, \n",
    "       avg_roe, \n",
    "       pe, pe_ttm,\n",
    "       pe_ttm_ind,\n",
    "       pe_his,\n",
    "       pe_ttm_his,\n",
    "       netprofit_yoy_ttm,\n",
    "       dt_netprofit_yoy_ttm,\n",
    "       grossprofit_margin_ttm,\n",
    "       netprofit_margin_ttm\n",
    "FROM (\n",
    "\tSELECT *, \n",
    "        row_number() over (partition by ts_code order by end_date desc) rn\n",
    "    FROM tmp_ttm\n",
    "    where end_date < '{report_date}'\n",
    "    ) A\n",
    "JOIN (\n",
    "\t\tSELECT name, round(AVG(dt_roe_ttm),2) AS avg_roe\n",
    "\t\tFROM tmp_ttm\n",
    "\t\twhere end_date > replace(date_sub('{report_date}' , INTERVAL 540 DAY),'-','')\n",
    "        and end_date < '{report_date}'\n",
    "\t\tGROUP BY name\n",
    "\t) B ON A.name = B.name\n",
    "JOIN daily_basic C ON A.ts_code = C.ts_code\n",
    "join stock_basic sb on A.ts_code = sb.ts_code\n",
    "join pe_industry pi on sb.industry = pi.industry\n",
    "join pe_history ph on A.ts_code = ph.ts_code\n",
    "WHERE rn = 1\n",
    "    and C.trade_date = '{report_date}'\n",
    "    and dt_roe_ttm > 15\n",
    "\tAND avg_roe > 15\n",
    "\tAND (pe < 28 or pe_ttm < 28)\n",
    "    and netprofit_yoy_ttm > 10\n",
    "ORDER BY dt_roe_ttm DESC\n",
    "''')\n"
   ]
  },
  {
   "cell_type": "code",
   "execution_count": 17,
   "metadata": {},
   "outputs": [],
   "source": [
    "df_label = execute(f'''\n",
    "select tr.*, f_tm/total_mv y\n",
    "from(\n",
    "\tselect *\n",
    "    from daily_basic\n",
    "\twhere ts_code in (select distinct ts_code from tmp_results) \n",
    "\t\tand trade_date='{report_date}' \n",
    ") base\n",
    "join (\n",
    "\tselect ts_code, max(total_mv) f_tm from daily_basic\n",
    "    where ts_code in (select distinct ts_code from tmp_results) \n",
    "\t\tand trade_date > '{report_date}' and trade_date < replace(date_add('{report_date}', interval 90 day),\"-\",\"\")\n",
    "\tgroup by ts_code\n",
    ") F on base.ts_code=F.ts_code\n",
    "join stock_basic sb\n",
    "on base.ts_code=sb.ts_code\n",
    "join tmp_results tr on base.ts_code=tr.ts_code\n",
    "''')"
   ]
  },
  {
   "cell_type": "code",
   "execution_count": 19,
   "metadata": {},
   "outputs": [
    {
     "name": "stdout",
     "output_type": "stream",
     "text": [
      "\n",
      "select tr.*, f_tm/total_mv y\n",
      "from(\n",
      "\tselect *\n",
      "    from daily_basic\n",
      "\twhere ts_code in (select distinct ts_code from tmp_results) \n",
      "\t\tand trade_date='20200710' \n",
      ") base\n",
      "join (\n",
      "\tselect ts_code, max(total_mv) f_tm from daily_basic\n",
      "    where ts_code in (select distinct ts_code from tmp_results) \n",
      "\t\tand trade_date > '20200710' and trade_date < replace(date_add('20200710', interval 90 day),\"-\",\"\")\n",
      "\tgroup by ts_code\n",
      ") F on base.ts_code=F.ts_code\n",
      "join stock_basic sb\n",
      "on base.ts_code=sb.ts_code\n",
      "join tmp_results tr on base.ts_code=tr.ts_code\n",
      "\n"
     ]
    }
   ],
   "source": [
    "print(f'''\n",
    "select tr.*, f_tm/total_mv y\n",
    "from(\n",
    "\tselect *\n",
    "    from daily_basic\n",
    "\twhere ts_code in (select distinct ts_code from tmp_results) \n",
    "\t\tand trade_date='{report_date}' \n",
    ") base\n",
    "join (\n",
    "\tselect ts_code, max(total_mv) f_tm from daily_basic\n",
    "    where ts_code in (select distinct ts_code from tmp_results) \n",
    "\t\tand trade_date > '{report_date}' and trade_date < replace(date_add('{report_date}', interval 90 day),\"-\",\"\")\n",
    "\tgroup by ts_code\n",
    ") F on base.ts_code=F.ts_code\n",
    "join stock_basic sb\n",
    "on base.ts_code=sb.ts_code\n",
    "join tmp_results tr on base.ts_code=tr.ts_code\n",
    "''')"
   ]
  },
  {
   "cell_type": "code",
   "execution_count": 9,
   "metadata": {},
   "outputs": [],
   "source": [
    "x = df_label.drop(['ts_code','industry','name', 'y'],axis=1)\n",
    "y = df_label.loc[:,'y']"
   ]
  },
  {
   "cell_type": "code",
   "execution_count": 10,
   "metadata": {},
   "outputs": [],
   "source": [
    "y = y>1.05"
   ]
  },
  {
   "cell_type": "code",
   "execution_count": 61,
   "metadata": {},
   "outputs": [],
   "source": [
    "import lightgbm as lgb"
   ]
  },
  {
   "cell_type": "code",
   "execution_count": 62,
   "metadata": {},
   "outputs": [],
   "source": [
    "lgr = lgb.LGBMClassifier()"
   ]
  },
  {
   "cell_type": "code",
   "execution_count": 63,
   "metadata": {},
   "outputs": [
    {
     "name": "stdout",
     "output_type": "stream",
     "text": [
      "[1]\ttraining's binary_logloss: 0.591039\n",
      "[2]\ttraining's binary_logloss: 0.579846\n",
      "[3]\ttraining's binary_logloss: 0.569707\n",
      "[4]\ttraining's binary_logloss: 0.551139\n",
      "[5]\ttraining's binary_logloss: 0.541116\n",
      "[6]\ttraining's binary_logloss: 0.527099\n",
      "[7]\ttraining's binary_logloss: 0.519571\n",
      "[8]\ttraining's binary_logloss: 0.507838\n",
      "[9]\ttraining's binary_logloss: 0.500205\n",
      "[10]\ttraining's binary_logloss: 0.491352\n",
      "[11]\ttraining's binary_logloss: 0.485089\n",
      "[12]\ttraining's binary_logloss: 0.475252\n",
      "[13]\ttraining's binary_logloss: 0.469172\n",
      "[14]\ttraining's binary_logloss: 0.461613\n",
      "[15]\ttraining's binary_logloss: 0.456493\n",
      "[16]\ttraining's binary_logloss: 0.451752\n",
      "[17]\ttraining's binary_logloss: 0.446663\n",
      "[18]\ttraining's binary_logloss: 0.439612\n",
      "[19]\ttraining's binary_logloss: 0.432922\n",
      "[20]\ttraining's binary_logloss: 0.42956\n",
      "[21]\ttraining's binary_logloss: 0.425188\n",
      "[22]\ttraining's binary_logloss: 0.419044\n",
      "[23]\ttraining's binary_logloss: 0.413443\n",
      "[24]\ttraining's binary_logloss: 0.409956\n",
      "[25]\ttraining's binary_logloss: 0.405029\n",
      "[26]\ttraining's binary_logloss: 0.401271\n",
      "[27]\ttraining's binary_logloss: 0.398192\n",
      "[28]\ttraining's binary_logloss: 0.393309\n",
      "[29]\ttraining's binary_logloss: 0.390552\n",
      "[30]\ttraining's binary_logloss: 0.386438\n",
      "[31]\ttraining's binary_logloss: 0.383628\n",
      "[32]\ttraining's binary_logloss: 0.381125\n",
      "[33]\ttraining's binary_logloss: 0.376452\n",
      "[34]\ttraining's binary_logloss: 0.373901\n",
      "[35]\ttraining's binary_logloss: 0.370597\n",
      "[36]\ttraining's binary_logloss: 0.366332\n",
      "[37]\ttraining's binary_logloss: 0.36327\n",
      "[38]\ttraining's binary_logloss: 0.361047\n",
      "[39]\ttraining's binary_logloss: 0.356967\n",
      "[40]\ttraining's binary_logloss: 0.352327\n",
      "[41]\ttraining's binary_logloss: 0.348635\n",
      "[42]\ttraining's binary_logloss: 0.345572\n",
      "[43]\ttraining's binary_logloss: 0.342692\n",
      "[44]\ttraining's binary_logloss: 0.339975\n",
      "[45]\ttraining's binary_logloss: 0.336525\n",
      "[46]\ttraining's binary_logloss: 0.332679\n",
      "[47]\ttraining's binary_logloss: 0.329747\n",
      "[48]\ttraining's binary_logloss: 0.327212\n",
      "[49]\ttraining's binary_logloss: 0.324749\n",
      "[50]\ttraining's binary_logloss: 0.321563\n",
      "[51]\ttraining's binary_logloss: 0.319255\n",
      "[52]\ttraining's binary_logloss: 0.31679\n",
      "[53]\ttraining's binary_logloss: 0.314628\n",
      "[54]\ttraining's binary_logloss: 0.311439\n",
      "[55]\ttraining's binary_logloss: 0.308478\n",
      "[56]\ttraining's binary_logloss: 0.306349\n",
      "[57]\ttraining's binary_logloss: 0.303687\n",
      "[58]\ttraining's binary_logloss: 0.301618\n",
      "[59]\ttraining's binary_logloss: 0.298818\n",
      "[60]\ttraining's binary_logloss: 0.296948\n",
      "[61]\ttraining's binary_logloss: 0.294882\n",
      "[62]\ttraining's binary_logloss: 0.292483\n",
      "[63]\ttraining's binary_logloss: 0.2901\n",
      "[64]\ttraining's binary_logloss: 0.287134\n",
      "[65]\ttraining's binary_logloss: 0.285002\n",
      "[66]\ttraining's binary_logloss: 0.282601\n",
      "[67]\ttraining's binary_logloss: 0.279745\n",
      "[68]\ttraining's binary_logloss: 0.277771\n",
      "[69]\ttraining's binary_logloss: 0.275781\n",
      "[70]\ttraining's binary_logloss: 0.273742\n",
      "[71]\ttraining's binary_logloss: 0.270741\n",
      "[72]\ttraining's binary_logloss: 0.269313\n",
      "[73]\ttraining's binary_logloss: 0.266407\n",
      "[74]\ttraining's binary_logloss: 0.264579\n",
      "[75]\ttraining's binary_logloss: 0.262589\n",
      "[76]\ttraining's binary_logloss: 0.260927\n",
      "[77]\ttraining's binary_logloss: 0.258556\n",
      "[78]\ttraining's binary_logloss: 0.257061\n",
      "[79]\ttraining's binary_logloss: 0.254315\n",
      "[80]\ttraining's binary_logloss: 0.252228\n",
      "[81]\ttraining's binary_logloss: 0.250484\n",
      "[82]\ttraining's binary_logloss: 0.249136\n",
      "[83]\ttraining's binary_logloss: 0.246333\n",
      "[84]\ttraining's binary_logloss: 0.244516\n",
      "[85]\ttraining's binary_logloss: 0.242205\n",
      "[86]\ttraining's binary_logloss: 0.240819\n",
      "[87]\ttraining's binary_logloss: 0.239325\n",
      "[88]\ttraining's binary_logloss: 0.237464\n",
      "[89]\ttraining's binary_logloss: 0.23522\n",
      "[90]\ttraining's binary_logloss: 0.233029\n",
      "[91]\ttraining's binary_logloss: 0.230997\n",
      "[92]\ttraining's binary_logloss: 0.229078\n",
      "[93]\ttraining's binary_logloss: 0.227302\n",
      "[94]\ttraining's binary_logloss: 0.225885\n",
      "[95]\ttraining's binary_logloss: 0.223922\n",
      "[96]\ttraining's binary_logloss: 0.221725\n",
      "[97]\ttraining's binary_logloss: 0.220477\n",
      "[98]\ttraining's binary_logloss: 0.219427\n",
      "[99]\ttraining's binary_logloss: 0.217872\n",
      "[100]\ttraining's binary_logloss: 0.216146\n"
     ]
    },
    {
     "data": {
      "text/plain": [
       "LGBMClassifier(boosting_type='gbdt', class_weight=None, colsample_bytree=1.0,\n",
       "               importance_type='split', learning_rate=0.1, max_depth=-1,\n",
       "               min_child_samples=20, min_child_weight=0.001, min_split_gain=0.0,\n",
       "               n_estimators=100, n_jobs=-1, num_leaves=31, objective=None,\n",
       "               random_state=None, reg_alpha=0.0, reg_lambda=0.0, silent=True,\n",
       "               subsample=1.0, subsample_for_bin=200000, subsample_freq=0)"
      ]
     },
     "execution_count": 63,
     "metadata": {},
     "output_type": "execute_result"
    }
   ],
   "source": [
    "lgr.fit(x,y,eval_set=(x,y))"
   ]
  },
  {
   "cell_type": "code",
   "execution_count": null,
   "metadata": {},
   "outputs": [],
   "source": [
    "y_ = lgr.predict(x)"
   ]
  },
  {
   "cell_type": "code",
   "execution_count": null,
   "metadata": {},
   "outputs": [],
   "source": [
    "sum(abs(y - y_)<0.01)/len(y_)"
   ]
  },
  {
   "cell_type": "code",
   "execution_count": 70,
   "metadata": {},
   "outputs": [
    {
     "data": {
      "text/plain": [
       "0.9568965517241379"
      ]
     },
     "execution_count": 70,
     "metadata": {},
     "output_type": "execute_result"
    }
   ],
   "source": [
    "sum(y_ == y)/len(y)"
   ]
  },
  {
   "cell_type": "code",
   "execution_count": null,
   "metadata": {},
   "outputs": [],
   "source": []
  },
  {
   "cell_type": "code",
   "execution_count": null,
   "metadata": {},
   "outputs": [],
   "source": []
  },
  {
   "cell_type": "markdown",
   "metadata": {},
   "source": [
    "## PE 分布"
   ]
  },
  {
   "cell_type": "code",
   "execution_count": 7,
   "metadata": {},
   "outputs": [],
   "source": [
    "from utils import engine\n",
    "import pandas as pd\n",
    "import numpy as np\n",
    "import plotly.express as px"
   ]
  },
  {
   "cell_type": "code",
   "execution_count": 23,
   "metadata": {},
   "outputs": [
    {
     "data": {
      "text/html": [
       "<div>\n",
       "<style scoped>\n",
       "    .dataframe tbody tr th:only-of-type {\n",
       "        vertical-align: middle;\n",
       "    }\n",
       "\n",
       "    .dataframe tbody tr th {\n",
       "        vertical-align: top;\n",
       "    }\n",
       "\n",
       "    .dataframe thead th {\n",
       "        text-align: right;\n",
       "    }\n",
       "</style>\n",
       "<table border=\"1\" class=\"dataframe\">\n",
       "  <thead>\n",
       "    <tr style=\"text-align: right;\">\n",
       "      <th></th>\n",
       "      <th>pb</th>\n",
       "    </tr>\n",
       "  </thead>\n",
       "  <tbody>\n",
       "    <tr>\n",
       "      <th>count</th>\n",
       "      <td>613.000000</td>\n",
       "    </tr>\n",
       "    <tr>\n",
       "      <th>mean</th>\n",
       "      <td>2.398600</td>\n",
       "    </tr>\n",
       "    <tr>\n",
       "      <th>std</th>\n",
       "      <td>0.293048</td>\n",
       "    </tr>\n",
       "    <tr>\n",
       "      <th>min</th>\n",
       "      <td>1.812900</td>\n",
       "    </tr>\n",
       "    <tr>\n",
       "      <th>25%</th>\n",
       "      <td>2.202200</td>\n",
       "    </tr>\n",
       "    <tr>\n",
       "      <th>50%</th>\n",
       "      <td>2.383100</td>\n",
       "    </tr>\n",
       "    <tr>\n",
       "      <th>75%</th>\n",
       "      <td>2.585700</td>\n",
       "    </tr>\n",
       "    <tr>\n",
       "      <th>max</th>\n",
       "      <td>3.211700</td>\n",
       "    </tr>\n",
       "  </tbody>\n",
       "</table>\n",
       "</div>"
      ],
      "text/plain": [
       "               pb\n",
       "count  613.000000\n",
       "mean     2.398600\n",
       "std      0.293048\n",
       "min      1.812900\n",
       "25%      2.202200\n",
       "50%      2.383100\n",
       "75%      2.585700\n",
       "max      3.211700"
      ]
     },
     "execution_count": 23,
     "metadata": {},
     "output_type": "execute_result"
    }
   ],
   "source": [
    "df.describe()"
   ]
  },
  {
   "cell_type": "code",
   "execution_count": 22,
   "metadata": {},
   "outputs": [
    {
     "data": {
      "application/vnd.plotly.v1+json": {
       "config": {
        "plotlyServerURL": "https://plot.ly"
       },
       "data": [
        {
         "alignmentgroup": "True",
         "bingroup": "x",
         "hoverlabel": {
          "namelength": 0
         },
         "hovertemplate": "pb=%{x}<br>count=%{y}",
         "legendgroup": "",
         "marker": {
          "color": "#636efa"
         },
         "name": "",
         "offsetgroup": "",
         "orientation": "v",
         "showlegend": false,
         "type": "histogram",
         "x": [
          2.3565,
          2.3502,
          2.2824,
          2.3071,
          2.1382,
          2.0844,
          2.0158,
          1.9582,
          1.9475,
          1.9818,
          1.9736,
          1.9958,
          2.0136,
          2.0131,
          2.0024,
          2.0147,
          1.9895,
          2.0337,
          2.0356,
          2.0729,
          2.0981,
          2.1041,
          2.0652,
          2.0608,
          2.0572,
          2.0372,
          1.9791,
          1.9393,
          1.9613,
          1.9377,
          1.9338,
          1.9207,
          1.9231,
          1.9851,
          2.0007,
          1.9994,
          1.9802,
          1.981,
          1.981,
          2.0114,
          2.0276,
          2.0268,
          2.0013,
          1.9395,
          1.9549,
          1.9721,
          1.9599,
          1.917,
          1.8858,
          1.8672,
          1.9596,
          1.9571,
          1.9653,
          1.996,
          1.9661,
          1.9112,
          1.924,
          1.9286,
          1.9044,
          1.9278,
          1.8911,
          1.8843,
          1.9001,
          1.87,
          1.8919,
          1.8824,
          1.8784,
          1.8778,
          1.8933,
          1.9061,
          1.9104,
          1.8724,
          1.8129,
          1.8738,
          1.8414,
          1.8974,
          1.959,
          1.9552,
          2.0288,
          2.0815,
          2.1222,
          2.1502,
          2.122,
          2.1972,
          2.239,
          2.1882,
          2.1586,
          2.1611,
          2.1106,
          2.1668,
          2.1678,
          2.1776,
          2.192,
          2.2371,
          2.3743,
          2.3292,
          2.325,
          2.3489,
          2.3093,
          2.2936,
          2.315,
          2.313,
          2.2893,
          2.3101,
          2.3241,
          2.2916,
          2.293,
          2.2155,
          2.3803,
          2.4296,
          2.4404,
          2.4974,
          2.4589,
          2.439,
          2.4464,
          2.4755,
          2.4647,
          2.417,
          2.4245,
          2.4233,
          2.4561,
          2.4404,
          2.4575,
          2.4552,
          2.4364,
          2.4487,
          2.4153,
          2.4071,
          2.3928,
          2.4079,
          2.4031,
          2.4384,
          2.4433,
          2.4513,
          2.4555,
          2.4416,
          2.4738,
          2.3959,
          2.3959,
          2.3831,
          2.3848,
          2.4159,
          2.4139,
          2.3968,
          2.4025,
          2.3746,
          2.384,
          2.4062,
          2.4207,
          2.4347,
          2.4376,
          2.4202,
          2.4615,
          2.5103,
          2.5342,
          2.5291,
          2.506,
          2.5097,
          2.5088,
          2.5151,
          2.5148,
          2.5422,
          2.5593,
          2.5659,
          2.5676,
          2.5741,
          2.567,
          2.5123,
          2.5074,
          2.5145,
          2.5271,
          2.5088,
          2.6838,
          2.6748,
          2.6984,
          2.6919,
          2.6823,
          2.7412,
          2.7071,
          2.6957,
          2.7032,
          2.6868,
          2.6449,
          2.6354,
          2.63,
          2.6013,
          2.639,
          2.6405,
          2.6533,
          2.6584,
          2.6572,
          2.6853,
          2.6778,
          2.6898,
          2.6754,
          2.7301,
          2.7597,
          2.6766,
          2.673,
          2.7017,
          2.7107,
          2.6668,
          2.639,
          2.5798,
          2.5871,
          2.5526,
          2.5345,
          2.5404,
          2.5632,
          2.5579,
          2.6278,
          2.5719,
          2.5646,
          2.5708,
          2.5857,
          2.5567,
          2.7251,
          2.685,
          2.6841,
          2.7311,
          2.6632,
          2.6683,
          2.6355,
          2.6683,
          2.6714,
          2.7163,
          2.763,
          2.7813,
          2.841,
          2.8243,
          2.8448,
          2.823,
          2.8053,
          2.7627,
          2.7684,
          2.7895,
          2.7384,
          2.7466,
          2.7453,
          2.781,
          2.8022,
          2.7779,
          2.7747,
          2.7636,
          2.7971,
          2.8685,
          2.8385,
          2.8625,
          2.8751,
          2.8997,
          2.7977,
          2.7801,
          2.728,
          2.7352,
          2.7851,
          2.7775,
          2.7943,
          2.6377,
          2.5565,
          2.5234,
          2.518,
          2.5414,
          2.5423,
          2.5796,
          2.4975,
          2.4346,
          2.447,
          2.4618,
          2.5022,
          2.4943,
          2.4972,
          2.5189,
          2.4687,
          2.4369,
          2.4154,
          2.3819,
          2.3691,
          2.3862,
          2.3761,
          2.4137,
          2.4707,
          2.4576,
          2.3892,
          2.3999,
          2.4832,
          2.3392,
          2.4039,
          2.4768,
          2.4777,
          2.6272,
          2.8391,
          2.73,
          2.7395,
          2.7931,
          2.8269,
          2.7908,
          2.8578,
          2.7691,
          2.775,
          2.7924,
          2.6824,
          2.6423,
          2.6512,
          2.6945,
          2.664,
          2.6472,
          2.6344,
          2.6233,
          2.5937,
          2.5819,
          2.5326,
          2.4111,
          2.438,
          2.3877,
          2.3746,
          2.4544,
          2.4899,
          2.5145,
          2.4751,
          2.4636,
          2.4258,
          2.3913,
          2.35,
          2.3976,
          2.3817,
          2.3786,
          2.4336,
          2.4984,
          2.4952,
          2.5129,
          2.5063,
          2.4239,
          2.4229,
          2.4239,
          2.5274,
          2.3204,
          2.264,
          2.2809,
          2.274,
          2.2605,
          2.1899,
          2.2539,
          2.2512,
          2.2252,
          2.2293,
          2.1885,
          2.1805,
          2.1206,
          2.1345,
          2.13,
          2.122,
          2.0922,
          2.0597,
          2.0798,
          2.1047,
          2.0746,
          2.0334,
          2.0337,
          2.0285,
          1.9776,
          2.0105,
          1.9908,
          1.9718,
          1.9319,
          1.9492,
          1.9593,
          1.9278,
          1.9105,
          1.9423,
          1.97,
          1.9839,
          2.0154,
          2.0168,
          2.0199,
          2.0427,
          2.0815,
          2.1068,
          2.1213,
          2.1445,
          2.1881,
          2.1625,
          2.1525,
          2.1528,
          2.1812,
          2.1812,
          2.2245,
          2.2467,
          2.2501,
          2.1982,
          2.1829,
          2.2079,
          2.185,
          2.1881,
          2.1688,
          2.1861,
          2.2162,
          2.2193,
          2.2754,
          2.2591,
          2.2539,
          2.2141,
          2.2508,
          2.2387,
          2.2373,
          2.2955,
          2.2892,
          2.3128,
          2.3052,
          2.3318,
          2.2262,
          2.203,
          2.1743,
          2.2456,
          2.3738,
          2.4143,
          2.3995,
          2.3727,
          2.4603,
          2.3767,
          2.2619,
          2.3238,
          2.318,
          2.289,
          2.3133,
          2.2401,
          2.3415,
          2.3542,
          2.3462,
          2.481,
          2.4339,
          2.4614,
          2.4335,
          2.4444,
          2.347,
          2.3596,
          2.3223,
          2.264,
          2.2926,
          2.26,
          2.1949,
          2.234,
          2.2466,
          2.2738,
          2.2209,
          2.2246,
          2.2954,
          2.2221,
          2.231,
          2.2373,
          2.232,
          2.2281,
          2.2483,
          2.2129,
          2.2008,
          2.1583,
          2.2631,
          2.2018,
          2.155,
          2.1702,
          2.1721,
          2.249,
          2.2681,
          2.302,
          2.3088,
          2.2235,
          2.2685,
          2.2026,
          2.2022,
          2.2189,
          2.2738,
          2.3462,
          2.3446,
          2.3183,
          2.3157,
          2.3675,
          2.3515,
          2.3263,
          2.3172,
          2.2361,
          2.2018,
          2.2098,
          2.1984,
          2.2296,
          2.2235,
          2.1744,
          2.2159,
          2.2426,
          2.1687,
          2.115,
          2.1146,
          2.1458,
          2.1032,
          2.2311,
          2.1645,
          2.19,
          2.2563,
          2.2772,
          2.326,
          2.3267,
          2.3557,
          2.3648,
          2.4616,
          2.4543,
          2.428,
          2.4338,
          2.4006,
          2.3762,
          2.4086,
          2.3241,
          2.3521,
          2.3139,
          2.2451,
          2.2629,
          2.209,
          2.272,
          2.2764,
          2.2411,
          2.2298,
          2.2494,
          2.295,
          2.3186,
          2.2961,
          2.2582,
          2.2877,
          2.3299,
          2.3347,
          2.2982,
          2.3012,
          2.2928,
          2.2975,
          2.2287,
          2.2112,
          2.2378,
          2.2341,
          2.2177,
          2.4376,
          2.5295,
          2.5705,
          2.5098,
          2.4774,
          2.4901,
          2.4527,
          2.438,
          2.4832,
          2.5558,
          2.5766,
          2.6133,
          2.6357,
          2.5473,
          2.4928,
          2.4913,
          2.4971,
          2.5222,
          2.5639,
          2.5257,
          2.6323,
          2.6369,
          2.7149,
          2.8145,
          2.8508,
          3.0213,
          3.0099,
          2.8753,
          2.8745,
          2.8064,
          2.8309,
          2.9002,
          2.8908,
          2.8765,
          2.8048,
          2.8268,
          2.7681,
          2.7599,
          2.8109,
          2.7632,
          2.8468,
          2.8871,
          2.8806,
          2.8451,
          2.8092,
          2.733,
          2.649,
          2.6274,
          2.8133,
          2.9108,
          3.0082,
          3.0873,
          3.0996,
          3.078,
          3.0617,
          2.9923,
          2.9915,
          3.1033,
          3.0702,
          3.1171,
          3.2117,
          3.2109,
          3.164,
          3.1648,
          3.1538,
          3.173,
          3.1665,
          3.0343,
          2.9626,
          2.9246,
          2.9308,
          2.8549,
          2.8908,
          2.9026,
          2.8941,
          2.9601,
          2.2588,
          2.2583
         ],
         "xaxis": "x",
         "yaxis": "y"
        }
       ],
       "layout": {
        "autosize": true,
        "barmode": "relative",
        "legend": {
         "tracegroupgap": 0
        },
        "margin": {
         "t": 60
        },
        "template": {
         "data": {
          "bar": [
           {
            "error_x": {
             "color": "#2a3f5f"
            },
            "error_y": {
             "color": "#2a3f5f"
            },
            "marker": {
             "line": {
              "color": "#E5ECF6",
              "width": 0.5
             }
            },
            "type": "bar"
           }
          ],
          "barpolar": [
           {
            "marker": {
             "line": {
              "color": "#E5ECF6",
              "width": 0.5
             }
            },
            "type": "barpolar"
           }
          ],
          "carpet": [
           {
            "aaxis": {
             "endlinecolor": "#2a3f5f",
             "gridcolor": "white",
             "linecolor": "white",
             "minorgridcolor": "white",
             "startlinecolor": "#2a3f5f"
            },
            "baxis": {
             "endlinecolor": "#2a3f5f",
             "gridcolor": "white",
             "linecolor": "white",
             "minorgridcolor": "white",
             "startlinecolor": "#2a3f5f"
            },
            "type": "carpet"
           }
          ],
          "choropleth": [
           {
            "colorbar": {
             "outlinewidth": 0,
             "ticks": ""
            },
            "type": "choropleth"
           }
          ],
          "contour": [
           {
            "colorbar": {
             "outlinewidth": 0,
             "ticks": ""
            },
            "colorscale": [
             [
              0,
              "#0d0887"
             ],
             [
              0.1111111111111111,
              "#46039f"
             ],
             [
              0.2222222222222222,
              "#7201a8"
             ],
             [
              0.3333333333333333,
              "#9c179e"
             ],
             [
              0.4444444444444444,
              "#bd3786"
             ],
             [
              0.5555555555555556,
              "#d8576b"
             ],
             [
              0.6666666666666666,
              "#ed7953"
             ],
             [
              0.7777777777777778,
              "#fb9f3a"
             ],
             [
              0.8888888888888888,
              "#fdca26"
             ],
             [
              1,
              "#f0f921"
             ]
            ],
            "type": "contour"
           }
          ],
          "contourcarpet": [
           {
            "colorbar": {
             "outlinewidth": 0,
             "ticks": ""
            },
            "type": "contourcarpet"
           }
          ],
          "heatmap": [
           {
            "colorbar": {
             "outlinewidth": 0,
             "ticks": ""
            },
            "colorscale": [
             [
              0,
              "#0d0887"
             ],
             [
              0.1111111111111111,
              "#46039f"
             ],
             [
              0.2222222222222222,
              "#7201a8"
             ],
             [
              0.3333333333333333,
              "#9c179e"
             ],
             [
              0.4444444444444444,
              "#bd3786"
             ],
             [
              0.5555555555555556,
              "#d8576b"
             ],
             [
              0.6666666666666666,
              "#ed7953"
             ],
             [
              0.7777777777777778,
              "#fb9f3a"
             ],
             [
              0.8888888888888888,
              "#fdca26"
             ],
             [
              1,
              "#f0f921"
             ]
            ],
            "type": "heatmap"
           }
          ],
          "heatmapgl": [
           {
            "colorbar": {
             "outlinewidth": 0,
             "ticks": ""
            },
            "colorscale": [
             [
              0,
              "#0d0887"
             ],
             [
              0.1111111111111111,
              "#46039f"
             ],
             [
              0.2222222222222222,
              "#7201a8"
             ],
             [
              0.3333333333333333,
              "#9c179e"
             ],
             [
              0.4444444444444444,
              "#bd3786"
             ],
             [
              0.5555555555555556,
              "#d8576b"
             ],
             [
              0.6666666666666666,
              "#ed7953"
             ],
             [
              0.7777777777777778,
              "#fb9f3a"
             ],
             [
              0.8888888888888888,
              "#fdca26"
             ],
             [
              1,
              "#f0f921"
             ]
            ],
            "type": "heatmapgl"
           }
          ],
          "histogram": [
           {
            "marker": {
             "colorbar": {
              "outlinewidth": 0,
              "ticks": ""
             }
            },
            "type": "histogram"
           }
          ],
          "histogram2d": [
           {
            "colorbar": {
             "outlinewidth": 0,
             "ticks": ""
            },
            "colorscale": [
             [
              0,
              "#0d0887"
             ],
             [
              0.1111111111111111,
              "#46039f"
             ],
             [
              0.2222222222222222,
              "#7201a8"
             ],
             [
              0.3333333333333333,
              "#9c179e"
             ],
             [
              0.4444444444444444,
              "#bd3786"
             ],
             [
              0.5555555555555556,
              "#d8576b"
             ],
             [
              0.6666666666666666,
              "#ed7953"
             ],
             [
              0.7777777777777778,
              "#fb9f3a"
             ],
             [
              0.8888888888888888,
              "#fdca26"
             ],
             [
              1,
              "#f0f921"
             ]
            ],
            "type": "histogram2d"
           }
          ],
          "histogram2dcontour": [
           {
            "colorbar": {
             "outlinewidth": 0,
             "ticks": ""
            },
            "colorscale": [
             [
              0,
              "#0d0887"
             ],
             [
              0.1111111111111111,
              "#46039f"
             ],
             [
              0.2222222222222222,
              "#7201a8"
             ],
             [
              0.3333333333333333,
              "#9c179e"
             ],
             [
              0.4444444444444444,
              "#bd3786"
             ],
             [
              0.5555555555555556,
              "#d8576b"
             ],
             [
              0.6666666666666666,
              "#ed7953"
             ],
             [
              0.7777777777777778,
              "#fb9f3a"
             ],
             [
              0.8888888888888888,
              "#fdca26"
             ],
             [
              1,
              "#f0f921"
             ]
            ],
            "type": "histogram2dcontour"
           }
          ],
          "mesh3d": [
           {
            "colorbar": {
             "outlinewidth": 0,
             "ticks": ""
            },
            "type": "mesh3d"
           }
          ],
          "parcoords": [
           {
            "line": {
             "colorbar": {
              "outlinewidth": 0,
              "ticks": ""
             }
            },
            "type": "parcoords"
           }
          ],
          "pie": [
           {
            "automargin": true,
            "type": "pie"
           }
          ],
          "scatter": [
           {
            "marker": {
             "colorbar": {
              "outlinewidth": 0,
              "ticks": ""
             }
            },
            "type": "scatter"
           }
          ],
          "scatter3d": [
           {
            "line": {
             "colorbar": {
              "outlinewidth": 0,
              "ticks": ""
             }
            },
            "marker": {
             "colorbar": {
              "outlinewidth": 0,
              "ticks": ""
             }
            },
            "type": "scatter3d"
           }
          ],
          "scattercarpet": [
           {
            "marker": {
             "colorbar": {
              "outlinewidth": 0,
              "ticks": ""
             }
            },
            "type": "scattercarpet"
           }
          ],
          "scattergeo": [
           {
            "marker": {
             "colorbar": {
              "outlinewidth": 0,
              "ticks": ""
             }
            },
            "type": "scattergeo"
           }
          ],
          "scattergl": [
           {
            "marker": {
             "colorbar": {
              "outlinewidth": 0,
              "ticks": ""
             }
            },
            "type": "scattergl"
           }
          ],
          "scattermapbox": [
           {
            "marker": {
             "colorbar": {
              "outlinewidth": 0,
              "ticks": ""
             }
            },
            "type": "scattermapbox"
           }
          ],
          "scatterpolar": [
           {
            "marker": {
             "colorbar": {
              "outlinewidth": 0,
              "ticks": ""
             }
            },
            "type": "scatterpolar"
           }
          ],
          "scatterpolargl": [
           {
            "marker": {
             "colorbar": {
              "outlinewidth": 0,
              "ticks": ""
             }
            },
            "type": "scatterpolargl"
           }
          ],
          "scatterternary": [
           {
            "marker": {
             "colorbar": {
              "outlinewidth": 0,
              "ticks": ""
             }
            },
            "type": "scatterternary"
           }
          ],
          "surface": [
           {
            "colorbar": {
             "outlinewidth": 0,
             "ticks": ""
            },
            "colorscale": [
             [
              0,
              "#0d0887"
             ],
             [
              0.1111111111111111,
              "#46039f"
             ],
             [
              0.2222222222222222,
              "#7201a8"
             ],
             [
              0.3333333333333333,
              "#9c179e"
             ],
             [
              0.4444444444444444,
              "#bd3786"
             ],
             [
              0.5555555555555556,
              "#d8576b"
             ],
             [
              0.6666666666666666,
              "#ed7953"
             ],
             [
              0.7777777777777778,
              "#fb9f3a"
             ],
             [
              0.8888888888888888,
              "#fdca26"
             ],
             [
              1,
              "#f0f921"
             ]
            ],
            "type": "surface"
           }
          ],
          "table": [
           {
            "cells": {
             "fill": {
              "color": "#EBF0F8"
             },
             "line": {
              "color": "white"
             }
            },
            "header": {
             "fill": {
              "color": "#C8D4E3"
             },
             "line": {
              "color": "white"
             }
            },
            "type": "table"
           }
          ]
         },
         "layout": {
          "annotationdefaults": {
           "arrowcolor": "#2a3f5f",
           "arrowhead": 0,
           "arrowwidth": 1
          },
          "coloraxis": {
           "colorbar": {
            "outlinewidth": 0,
            "ticks": ""
           }
          },
          "colorscale": {
           "diverging": [
            [
             0,
             "#8e0152"
            ],
            [
             0.1,
             "#c51b7d"
            ],
            [
             0.2,
             "#de77ae"
            ],
            [
             0.3,
             "#f1b6da"
            ],
            [
             0.4,
             "#fde0ef"
            ],
            [
             0.5,
             "#f7f7f7"
            ],
            [
             0.6,
             "#e6f5d0"
            ],
            [
             0.7,
             "#b8e186"
            ],
            [
             0.8,
             "#7fbc41"
            ],
            [
             0.9,
             "#4d9221"
            ],
            [
             1,
             "#276419"
            ]
           ],
           "sequential": [
            [
             0,
             "#0d0887"
            ],
            [
             0.1111111111111111,
             "#46039f"
            ],
            [
             0.2222222222222222,
             "#7201a8"
            ],
            [
             0.3333333333333333,
             "#9c179e"
            ],
            [
             0.4444444444444444,
             "#bd3786"
            ],
            [
             0.5555555555555556,
             "#d8576b"
            ],
            [
             0.6666666666666666,
             "#ed7953"
            ],
            [
             0.7777777777777778,
             "#fb9f3a"
            ],
            [
             0.8888888888888888,
             "#fdca26"
            ],
            [
             1,
             "#f0f921"
            ]
           ],
           "sequentialminus": [
            [
             0,
             "#0d0887"
            ],
            [
             0.1111111111111111,
             "#46039f"
            ],
            [
             0.2222222222222222,
             "#7201a8"
            ],
            [
             0.3333333333333333,
             "#9c179e"
            ],
            [
             0.4444444444444444,
             "#bd3786"
            ],
            [
             0.5555555555555556,
             "#d8576b"
            ],
            [
             0.6666666666666666,
             "#ed7953"
            ],
            [
             0.7777777777777778,
             "#fb9f3a"
            ],
            [
             0.8888888888888888,
             "#fdca26"
            ],
            [
             1,
             "#f0f921"
            ]
           ]
          },
          "colorway": [
           "#636efa",
           "#EF553B",
           "#00cc96",
           "#ab63fa",
           "#FFA15A",
           "#19d3f3",
           "#FF6692",
           "#B6E880",
           "#FF97FF",
           "#FECB52"
          ],
          "font": {
           "color": "#2a3f5f"
          },
          "geo": {
           "bgcolor": "white",
           "lakecolor": "white",
           "landcolor": "#E5ECF6",
           "showlakes": true,
           "showland": true,
           "subunitcolor": "white"
          },
          "hoverlabel": {
           "align": "left"
          },
          "hovermode": "closest",
          "mapbox": {
           "style": "light"
          },
          "paper_bgcolor": "white",
          "plot_bgcolor": "#E5ECF6",
          "polar": {
           "angularaxis": {
            "gridcolor": "white",
            "linecolor": "white",
            "ticks": ""
           },
           "bgcolor": "#E5ECF6",
           "radialaxis": {
            "gridcolor": "white",
            "linecolor": "white",
            "ticks": ""
           }
          },
          "scene": {
           "xaxis": {
            "backgroundcolor": "#E5ECF6",
            "gridcolor": "white",
            "gridwidth": 2,
            "linecolor": "white",
            "showbackground": true,
            "ticks": "",
            "zerolinecolor": "white"
           },
           "yaxis": {
            "backgroundcolor": "#E5ECF6",
            "gridcolor": "white",
            "gridwidth": 2,
            "linecolor": "white",
            "showbackground": true,
            "ticks": "",
            "zerolinecolor": "white"
           },
           "zaxis": {
            "backgroundcolor": "#E5ECF6",
            "gridcolor": "white",
            "gridwidth": 2,
            "linecolor": "white",
            "showbackground": true,
            "ticks": "",
            "zerolinecolor": "white"
           }
          },
          "shapedefaults": {
           "line": {
            "color": "#2a3f5f"
           }
          },
          "ternary": {
           "aaxis": {
            "gridcolor": "white",
            "linecolor": "white",
            "ticks": ""
           },
           "baxis": {
            "gridcolor": "white",
            "linecolor": "white",
            "ticks": ""
           },
           "bgcolor": "#E5ECF6",
           "caxis": {
            "gridcolor": "white",
            "linecolor": "white",
            "ticks": ""
           }
          },
          "title": {
           "x": 0.05
          },
          "xaxis": {
           "automargin": true,
           "gridcolor": "white",
           "linecolor": "white",
           "ticks": "",
           "title": {
            "standoff": 15
           },
           "zerolinecolor": "white",
           "zerolinewidth": 2
          },
          "yaxis": {
           "automargin": true,
           "gridcolor": "white",
           "linecolor": "white",
           "ticks": "",
           "title": {
            "standoff": 15
           },
           "zerolinecolor": "white",
           "zerolinewidth": 2
          }
         }
        },
        "xaxis": {
         "anchor": "y",
         "autorange": true,
         "domain": [
          0,
          1
         ],
         "range": [
          1.8000000000000003,
          3.2499999999999956
         ],
         "title": {
          "text": "pb"
         },
         "type": "linear"
        },
        "yaxis": {
         "anchor": "x",
         "autorange": true,
         "domain": [
          0,
          1
         ],
         "range": [
          0,
          55.78947368421053
         ],
         "title": {
          "text": "count"
         }
        }
       }
      },
      "image/png": "[encoded data removed]",
      "text/html": [
       "<div>\n",
       "        \n",
       "        \n",
       "            <div id=\"de0bfdd7-18a3-4fda-8bf5-8ff8a43b08be\" class=\"plotly-graph-div\" style=\"height:525px; width:100%;\"></div>\n",
       "            <script type=\"text/javascript\">\n",
       "                require([\"plotly\"], function(Plotly) {\n",
       "                    window.PLOTLYENV=window.PLOTLYENV || {};\n",
       "                    \n",
       "                if (document.getElementById(\"de0bfdd7-18a3-4fda-8bf5-8ff8a43b08be\")) {\n",
       "                    Plotly.newPlot(\n",
       "                        'de0bfdd7-18a3-4fda-8bf5-8ff8a43b08be',\n",
       "                        [{\"alignmentgroup\": \"True\", \"bingroup\": \"x\", \"hoverlabel\": {\"namelength\": 0}, \"hovertemplate\": \"pb=%{x}<br>count=%{y}\", \"legendgroup\": \"\", \"marker\": {\"color\": \"#636efa\"}, \"name\": \"\", \"offsetgroup\": \"\", \"orientation\": \"v\", \"showlegend\": false, \"type\": \"histogram\", \"x\": [2.3565, 2.3502, 2.2824, 2.3071, 2.1382, 2.0844, 2.0158, 1.9582, 1.9475, 1.9818, 1.9736, 1.9958, 2.0136, 2.0131, 2.0024, 2.0147, 1.9895, 2.0337, 2.0356, 2.0729, 2.0981, 2.1041, 2.0652, 2.0608, 2.0572, 2.0372, 1.9791, 1.9393, 1.9613, 1.9377, 1.9338, 1.9207, 1.9231, 1.9851, 2.0007, 1.9994, 1.9802, 1.981, 1.981, 2.0114, 2.0276, 2.0268, 2.0013, 1.9395, 1.9549, 1.9721, 1.9599, 1.917, 1.8858, 1.8672, 1.9596, 1.9571, 1.9653, 1.996, 1.9661, 1.9112, 1.924, 1.9286, 1.9044, 1.9278, 1.8911, 1.8843, 1.9001, 1.87, 1.8919, 1.8824, 1.8784, 1.8778, 1.8933, 1.9061, 1.9104, 1.8724, 1.8129, 1.8738, 1.8414, 1.8974, 1.959, 1.9552, 2.0288, 2.0815, 2.1222, 2.1502, 2.122, 2.1972, 2.239, 2.1882, 2.1586, 2.1611, 2.1106, 2.1668, 2.1678, 2.1776, 2.192, 2.2371, 2.3743, 2.3292, 2.325, 2.3489, 2.3093, 2.2936, 2.315, 2.313, 2.2893, 2.3101, 2.3241, 2.2916, 2.293, 2.2155, 2.3803, 2.4296, 2.4404, 2.4974, 2.4589, 2.439, 2.4464, 2.4755, 2.4647, 2.417, 2.4245, 2.4233, 2.4561, 2.4404, 2.4575, 2.4552, 2.4364, 2.4487, 2.4153, 2.4071, 2.3928, 2.4079, 2.4031, 2.4384, 2.4433, 2.4513, 2.4555, 2.4416, 2.4738, 2.3959, 2.3959, 2.3831, 2.3848, 2.4159, 2.4139, 2.3968, 2.4025, 2.3746, 2.384, 2.4062, 2.4207, 2.4347, 2.4376, 2.4202, 2.4615, 2.5103, 2.5342, 2.5291, 2.506, 2.5097, 2.5088, 2.5151, 2.5148, 2.5422, 2.5593, 2.5659, 2.5676, 2.5741, 2.567, 2.5123, 2.5074, 2.5145, 2.5271, 2.5088, 2.6838, 2.6748, 2.6984, 2.6919, 2.6823, 2.7412, 2.7071, 2.6957, 2.7032, 2.6868, 2.6449, 2.6354, 2.63, 2.6013, 2.639, 2.6405, 2.6533, 2.6584, 2.6572, 2.6853, 2.6778, 2.6898, 2.6754, 2.7301, 2.7597, 2.6766, 2.673, 2.7017, 2.7107, 2.6668, 2.639, 2.5798, 2.5871, 2.5526, 2.5345, 2.5404, 2.5632, 2.5579, 2.6278, 2.5719, 2.5646, 2.5708, 2.5857, 2.5567, 2.7251, 2.685, 2.6841, 2.7311, 2.6632, 2.6683, 2.6355, 2.6683, 2.6714, 2.7163, 2.763, 2.7813, 2.841, 2.8243, 2.8448, 2.823, 2.8053, 2.7627, 2.7684, 2.7895, 2.7384, 2.7466, 2.7453, 2.781, 2.8022, 2.7779, 2.7747, 2.7636, 2.7971, 2.8685, 2.8385, 2.8625, 2.8751, 2.8997, 2.7977, 2.7801, 2.728, 2.7352, 2.7851, 2.7775, 2.7943, 2.6377, 2.5565, 2.5234, 2.518, 2.5414, 2.5423, 2.5796, 2.4975, 2.4346, 2.447, 2.4618, 2.5022, 2.4943, 2.4972, 2.5189, 2.4687, 2.4369, 2.4154, 2.3819, 2.3691, 2.3862, 2.3761, 2.4137, 2.4707, 2.4576, 2.3892, 2.3999, 2.4832, 2.3392, 2.4039, 2.4768, 2.4777, 2.6272, 2.8391, 2.73, 2.7395, 2.7931, 2.8269, 2.7908, 2.8578, 2.7691, 2.775, 2.7924, 2.6824, 2.6423, 2.6512, 2.6945, 2.664, 2.6472, 2.6344, 2.6233, 2.5937, 2.5819, 2.5326, 2.4111, 2.438, 2.3877, 2.3746, 2.4544, 2.4899, 2.5145, 2.4751, 2.4636, 2.4258, 2.3913, 2.35, 2.3976, 2.3817, 2.3786, 2.4336, 2.4984, 2.4952, 2.5129, 2.5063, 2.4239, 2.4229, 2.4239, 2.5274, 2.3204, 2.264, 2.2809, 2.274, 2.2605, 2.1899, 2.2539, 2.2512, 2.2252, 2.2293, 2.1885, 2.1805, 2.1206, 2.1345, 2.13, 2.122, 2.0922, 2.0597, 2.0798, 2.1047, 2.0746, 2.0334, 2.0337, 2.0285, 1.9776, 2.0105, 1.9908, 1.9718, 1.9319, 1.9492, 1.9593, 1.9278, 1.9105, 1.9423, 1.97, 1.9839, 2.0154, 2.0168, 2.0199, 2.0427, 2.0815, 2.1068, 2.1213, 2.1445, 2.1881, 2.1625, 2.1525, 2.1528, 2.1812, 2.1812, 2.2245, 2.2467, 2.2501, 2.1982, 2.1829, 2.2079, 2.185, 2.1881, 2.1688, 2.1861, 2.2162, 2.2193, 2.2754, 2.2591, 2.2539, 2.2141, 2.2508, 2.2387, 2.2373, 2.2955, 2.2892, 2.3128, 2.3052, 2.3318, 2.2262, 2.203, 2.1743, 2.2456, 2.3738, 2.4143, 2.3995, 2.3727, 2.4603, 2.3767, 2.2619, 2.3238, 2.318, 2.289, 2.3133, 2.2401, 2.3415, 2.3542, 2.3462, 2.481, 2.4339, 2.4614, 2.4335, 2.4444, 2.347, 2.3596, 2.3223, 2.264, 2.2926, 2.26, 2.1949, 2.234, 2.2466, 2.2738, 2.2209, 2.2246, 2.2954, 2.2221, 2.231, 2.2373, 2.232, 2.2281, 2.2483, 2.2129, 2.2008, 2.1583, 2.2631, 2.2018, 2.155, 2.1702, 2.1721, 2.249, 2.2681, 2.302, 2.3088, 2.2235, 2.2685, 2.2026, 2.2022, 2.2189, 2.2738, 2.3462, 2.3446, 2.3183, 2.3157, 2.3675, 2.3515, 2.3263, 2.3172, 2.2361, 2.2018, 2.2098, 2.1984, 2.2296, 2.2235, 2.1744, 2.2159, 2.2426, 2.1687, 2.115, 2.1146, 2.1458, 2.1032, 2.2311, 2.1645, 2.19, 2.2563, 2.2772, 2.326, 2.3267, 2.3557, 2.3648, 2.4616, 2.4543, 2.428, 2.4338, 2.4006, 2.3762, 2.4086, 2.3241, 2.3521, 2.3139, 2.2451, 2.2629, 2.209, 2.272, 2.2764, 2.2411, 2.2298, 2.2494, 2.295, 2.3186, 2.2961, 2.2582, 2.2877, 2.3299, 2.3347, 2.2982, 2.3012, 2.2928, 2.2975, 2.2287, 2.2112, 2.2378, 2.2341, 2.2177, 2.4376, 2.5295, 2.5705, 2.5098, 2.4774, 2.4901, 2.4527, 2.438, 2.4832, 2.5558, 2.5766, 2.6133, 2.6357, 2.5473, 2.4928, 2.4913, 2.4971, 2.5222, 2.5639, 2.5257, 2.6323, 2.6369, 2.7149, 2.8145, 2.8508, 3.0213, 3.0099, 2.8753, 2.8745, 2.8064, 2.8309, 2.9002, 2.8908, 2.8765, 2.8048, 2.8268, 2.7681, 2.7599, 2.8109, 2.7632, 2.8468, 2.8871, 2.8806, 2.8451, 2.8092, 2.733, 2.649, 2.6274, 2.8133, 2.9108, 3.0082, 3.0873, 3.0996, 3.078, 3.0617, 2.9923, 2.9915, 3.1033, 3.0702, 3.1171, 3.2117, 3.2109, 3.164, 3.1648, 3.1538, 3.173, 3.1665, 3.0343, 2.9626, 2.9246, 2.9308, 2.8549, 2.8908, 2.9026, 2.8941, 2.9601, 2.2588, 2.2583], \"xaxis\": \"x\", \"yaxis\": \"y\"}],\n",
       "                        {\"barmode\": \"relative\", \"legend\": {\"tracegroupgap\": 0}, \"margin\": {\"t\": 60}, \"template\": {\"data\": {\"bar\": [{\"error_x\": {\"color\": \"#2a3f5f\"}, \"error_y\": {\"color\": \"#2a3f5f\"}, \"marker\": {\"line\": {\"color\": \"#E5ECF6\", \"width\": 0.5}}, \"type\": \"bar\"}], \"barpolar\": [{\"marker\": {\"line\": {\"color\": \"#E5ECF6\", \"width\": 0.5}}, \"type\": \"barpolar\"}], \"carpet\": [{\"aaxis\": {\"endlinecolor\": \"#2a3f5f\", \"gridcolor\": \"white\", \"linecolor\": \"white\", \"minorgridcolor\": \"white\", \"startlinecolor\": \"#2a3f5f\"}, \"baxis\": {\"endlinecolor\": \"#2a3f5f\", \"gridcolor\": \"white\", \"linecolor\": \"white\", \"minorgridcolor\": \"white\", \"startlinecolor\": \"#2a3f5f\"}, \"type\": \"carpet\"}], \"choropleth\": [{\"colorbar\": {\"outlinewidth\": 0, \"ticks\": \"\"}, \"type\": \"choropleth\"}], \"contour\": [{\"colorbar\": {\"outlinewidth\": 0, \"ticks\": \"\"}, \"colorscale\": [[0.0, \"#0d0887\"], [0.1111111111111111, \"#46039f\"], [0.2222222222222222, \"#7201a8\"], [0.3333333333333333, \"#9c179e\"], [0.4444444444444444, \"#bd3786\"], [0.5555555555555556, \"#d8576b\"], [0.6666666666666666, \"#ed7953\"], [0.7777777777777778, \"#fb9f3a\"], [0.8888888888888888, \"#fdca26\"], [1.0, \"#f0f921\"]], \"type\": \"contour\"}], \"contourcarpet\": [{\"colorbar\": {\"outlinewidth\": 0, \"ticks\": \"\"}, \"type\": \"contourcarpet\"}], \"heatmap\": [{\"colorbar\": {\"outlinewidth\": 0, \"ticks\": \"\"}, \"colorscale\": [[0.0, \"#0d0887\"], [0.1111111111111111, \"#46039f\"], [0.2222222222222222, \"#7201a8\"], [0.3333333333333333, \"#9c179e\"], [0.4444444444444444, \"#bd3786\"], [0.5555555555555556, \"#d8576b\"], [0.6666666666666666, \"#ed7953\"], [0.7777777777777778, \"#fb9f3a\"], [0.8888888888888888, \"#fdca26\"], [1.0, \"#f0f921\"]], \"type\": \"heatmap\"}], \"heatmapgl\": [{\"colorbar\": {\"outlinewidth\": 0, \"ticks\": \"\"}, \"colorscale\": [[0.0, \"#0d0887\"], [0.1111111111111111, \"#46039f\"], [0.2222222222222222, \"#7201a8\"], [0.3333333333333333, \"#9c179e\"], [0.4444444444444444, \"#bd3786\"], [0.5555555555555556, \"#d8576b\"], [0.6666666666666666, \"#ed7953\"], [0.7777777777777778, \"#fb9f3a\"], [0.8888888888888888, \"#fdca26\"], [1.0, \"#f0f921\"]], \"type\": \"heatmapgl\"}], \"histogram\": [{\"marker\": {\"colorbar\": {\"outlinewidth\": 0, \"ticks\": \"\"}}, \"type\": \"histogram\"}], \"histogram2d\": [{\"colorbar\": {\"outlinewidth\": 0, \"ticks\": \"\"}, \"colorscale\": [[0.0, \"#0d0887\"], [0.1111111111111111, \"#46039f\"], [0.2222222222222222, \"#7201a8\"], [0.3333333333333333, \"#9c179e\"], [0.4444444444444444, \"#bd3786\"], [0.5555555555555556, \"#d8576b\"], [0.6666666666666666, \"#ed7953\"], [0.7777777777777778, \"#fb9f3a\"], [0.8888888888888888, \"#fdca26\"], [1.0, \"#f0f921\"]], \"type\": \"histogram2d\"}], \"histogram2dcontour\": [{\"colorbar\": {\"outlinewidth\": 0, \"ticks\": \"\"}, \"colorscale\": [[0.0, \"#0d0887\"], [0.1111111111111111, \"#46039f\"], [0.2222222222222222, \"#7201a8\"], [0.3333333333333333, \"#9c179e\"], [0.4444444444444444, \"#bd3786\"], [0.5555555555555556, \"#d8576b\"], [0.6666666666666666, \"#ed7953\"], [0.7777777777777778, \"#fb9f3a\"], [0.8888888888888888, \"#fdca26\"], [1.0, \"#f0f921\"]], \"type\": \"histogram2dcontour\"}], \"mesh3d\": [{\"colorbar\": {\"outlinewidth\": 0, \"ticks\": \"\"}, \"type\": \"mesh3d\"}], \"parcoords\": [{\"line\": {\"colorbar\": {\"outlinewidth\": 0, \"ticks\": \"\"}}, \"type\": \"parcoords\"}], \"pie\": [{\"automargin\": true, \"type\": \"pie\"}], \"scatter\": [{\"marker\": {\"colorbar\": {\"outlinewidth\": 0, \"ticks\": \"\"}}, \"type\": \"scatter\"}], \"scatter3d\": [{\"line\": {\"colorbar\": {\"outlinewidth\": 0, \"ticks\": \"\"}}, \"marker\": {\"colorbar\": {\"outlinewidth\": 0, \"ticks\": \"\"}}, \"type\": \"scatter3d\"}], \"scattercarpet\": [{\"marker\": {\"colorbar\": {\"outlinewidth\": 0, \"ticks\": \"\"}}, \"type\": \"scattercarpet\"}], \"scattergeo\": [{\"marker\": {\"colorbar\": {\"outlinewidth\": 0, \"ticks\": \"\"}}, \"type\": \"scattergeo\"}], \"scattergl\": [{\"marker\": {\"colorbar\": {\"outlinewidth\": 0, \"ticks\": \"\"}}, \"type\": \"scattergl\"}], \"scattermapbox\": [{\"marker\": {\"colorbar\": {\"outlinewidth\": 0, \"ticks\": \"\"}}, \"type\": \"scattermapbox\"}], \"scatterpolar\": [{\"marker\": {\"colorbar\": {\"outlinewidth\": 0, \"ticks\": \"\"}}, \"type\": \"scatterpolar\"}], \"scatterpolargl\": [{\"marker\": {\"colorbar\": {\"outlinewidth\": 0, \"ticks\": \"\"}}, \"type\": \"scatterpolargl\"}], \"scatterternary\": [{\"marker\": {\"colorbar\": {\"outlinewidth\": 0, \"ticks\": \"\"}}, \"type\": \"scatterternary\"}], \"surface\": [{\"colorbar\": {\"outlinewidth\": 0, \"ticks\": \"\"}, \"colorscale\": [[0.0, \"#0d0887\"], [0.1111111111111111, \"#46039f\"], [0.2222222222222222, \"#7201a8\"], [0.3333333333333333, \"#9c179e\"], [0.4444444444444444, \"#bd3786\"], [0.5555555555555556, \"#d8576b\"], [0.6666666666666666, \"#ed7953\"], [0.7777777777777778, \"#fb9f3a\"], [0.8888888888888888, \"#fdca26\"], [1.0, \"#f0f921\"]], \"type\": \"surface\"}], \"table\": [{\"cells\": {\"fill\": {\"color\": \"#EBF0F8\"}, \"line\": {\"color\": \"white\"}}, \"header\": {\"fill\": {\"color\": \"#C8D4E3\"}, \"line\": {\"color\": \"white\"}}, \"type\": \"table\"}]}, \"layout\": {\"annotationdefaults\": {\"arrowcolor\": \"#2a3f5f\", \"arrowhead\": 0, \"arrowwidth\": 1}, \"coloraxis\": {\"colorbar\": {\"outlinewidth\": 0, \"ticks\": \"\"}}, \"colorscale\": {\"diverging\": [[0, \"#8e0152\"], [0.1, \"#c51b7d\"], [0.2, \"#de77ae\"], [0.3, \"#f1b6da\"], [0.4, \"#fde0ef\"], [0.5, \"#f7f7f7\"], [0.6, \"#e6f5d0\"], [0.7, \"#b8e186\"], [0.8, \"#7fbc41\"], [0.9, \"#4d9221\"], [1, \"#276419\"]], \"sequential\": [[0.0, \"#0d0887\"], [0.1111111111111111, \"#46039f\"], [0.2222222222222222, \"#7201a8\"], [0.3333333333333333, \"#9c179e\"], [0.4444444444444444, \"#bd3786\"], [0.5555555555555556, \"#d8576b\"], [0.6666666666666666, \"#ed7953\"], [0.7777777777777778, \"#fb9f3a\"], [0.8888888888888888, \"#fdca26\"], [1.0, \"#f0f921\"]], \"sequentialminus\": [[0.0, \"#0d0887\"], [0.1111111111111111, \"#46039f\"], [0.2222222222222222, \"#7201a8\"], [0.3333333333333333, \"#9c179e\"], [0.4444444444444444, \"#bd3786\"], [0.5555555555555556, \"#d8576b\"], [0.6666666666666666, \"#ed7953\"], [0.7777777777777778, \"#fb9f3a\"], [0.8888888888888888, \"#fdca26\"], [1.0, \"#f0f921\"]]}, \"colorway\": [\"#636efa\", \"#EF553B\", \"#00cc96\", \"#ab63fa\", \"#FFA15A\", \"#19d3f3\", \"#FF6692\", \"#B6E880\", \"#FF97FF\", \"#FECB52\"], \"font\": {\"color\": \"#2a3f5f\"}, \"geo\": {\"bgcolor\": \"white\", \"lakecolor\": \"white\", \"landcolor\": \"#E5ECF6\", \"showlakes\": true, \"showland\": true, \"subunitcolor\": \"white\"}, \"hoverlabel\": {\"align\": \"left\"}, \"hovermode\": \"closest\", \"mapbox\": {\"style\": \"light\"}, \"paper_bgcolor\": \"white\", \"plot_bgcolor\": \"#E5ECF6\", \"polar\": {\"angularaxis\": {\"gridcolor\": \"white\", \"linecolor\": \"white\", \"ticks\": \"\"}, \"bgcolor\": \"#E5ECF6\", \"radialaxis\": {\"gridcolor\": \"white\", \"linecolor\": \"white\", \"ticks\": \"\"}}, \"scene\": {\"xaxis\": {\"backgroundcolor\": \"#E5ECF6\", \"gridcolor\": \"white\", \"gridwidth\": 2, \"linecolor\": \"white\", \"showbackground\": true, \"ticks\": \"\", \"zerolinecolor\": \"white\"}, \"yaxis\": {\"backgroundcolor\": \"#E5ECF6\", \"gridcolor\": \"white\", \"gridwidth\": 2, \"linecolor\": \"white\", \"showbackground\": true, \"ticks\": \"\", \"zerolinecolor\": \"white\"}, \"zaxis\": {\"backgroundcolor\": \"#E5ECF6\", \"gridcolor\": \"white\", \"gridwidth\": 2, \"linecolor\": \"white\", \"showbackground\": true, \"ticks\": \"\", \"zerolinecolor\": \"white\"}}, \"shapedefaults\": {\"line\": {\"color\": \"#2a3f5f\"}}, \"ternary\": {\"aaxis\": {\"gridcolor\": \"white\", \"linecolor\": \"white\", \"ticks\": \"\"}, \"baxis\": {\"gridcolor\": \"white\", \"linecolor\": \"white\", \"ticks\": \"\"}, \"bgcolor\": \"#E5ECF6\", \"caxis\": {\"gridcolor\": \"white\", \"linecolor\": \"white\", \"ticks\": \"\"}}, \"title\": {\"x\": 0.05}, \"xaxis\": {\"automargin\": true, \"gridcolor\": \"white\", \"linecolor\": \"white\", \"ticks\": \"\", \"title\": {\"standoff\": 15}, \"zerolinecolor\": \"white\", \"zerolinewidth\": 2}, \"yaxis\": {\"automargin\": true, \"gridcolor\": \"white\", \"linecolor\": \"white\", \"ticks\": \"\", \"title\": {\"standoff\": 15}, \"zerolinecolor\": \"white\", \"zerolinewidth\": 2}}}, \"xaxis\": {\"anchor\": \"y\", \"domain\": [0.0, 1.0], \"title\": {\"text\": \"pb\"}}, \"yaxis\": {\"anchor\": \"x\", \"domain\": [0.0, 1.0], \"title\": {\"text\": \"count\"}}},\n",
       "                        {\"responsive\": true}\n",
       "                    ).then(function(){\n",
       "                            \n",
       "var gd = document.getElementById('de0bfdd7-18a3-4fda-8bf5-8ff8a43b08be');\n",
       "var x = new MutationObserver(function (mutations, observer) {{\n",
       "        var display = window.getComputedStyle(gd).display;\n",
       "        if (!display || display === 'none') {{\n",
       "            console.log([gd, 'removed!']);\n",
       "            Plotly.purge(gd);\n",
       "            observer.disconnect();\n",
       "        }}\n",
       "}});\n",
       "\n",
       "// Listen for the removal of the full notebook cells\n",
       "var notebookContainer = gd.closest('#notebook-container');\n",
       "if (notebookContainer) {{\n",
       "    x.observe(notebookContainer, {childList: true});\n",
       "}}\n",
       "\n",
       "// Listen for the clearing of the current output cell\n",
       "var outputEl = gd.closest('.output');\n",
       "if (outputEl) {{\n",
       "    x.observe(outputEl, {childList: true});\n",
       "}}\n",
       "\n",
       "                        })\n",
       "                };\n",
       "                });\n",
       "            </script>\n",
       "        </div>"
      ]
     },
     "metadata": {},
     "output_type": "display_data"
    }
   ],
   "source": [
    "df = pd.read_sql('''\n",
    "select pb from daily_basic\n",
    "where ts_code='601318.SH' and trade_date>'20160101'\n",
    "''', engine)\n",
    "px.histogram(df,x='pb')"
   ]
  },
  {
   "cell_type": "code",
   "execution_count": 5,
   "metadata": {},
   "outputs": [],
   "source": [
    "fig = go.Figure()"
   ]
  },
  {
   "cell_type": "code",
   "execution_count": 9,
   "metadata": {},
   "outputs": [
    {
     "data": {
      "application/vnd.plotly.v1+json": {
       "config": {
        "plotlyServerURL": "https://plot.ly"
       },
       "data": [
        {
         "alignmentgroup": "True",
         "bingroup": "x",
         "hoverlabel": {
          "namelength": 0
         },
         "hovertemplate": "pe=%{x}<br>count=%{y}",
         "legendgroup": "",
         "marker": {
          "color": "#636efa"
         },
         "name": "",
         "offsetgroup": "",
         "orientation": "v",
         "showlegend": false,
         "type": "histogram",
         "x": [
          27.3542,
          27.1889,
          27.5359,
          27.1481,
          25.3375,
          24.9048,
          22.6411,
          21.4613,
          21.3306,
          21.5,
          22.4023,
          21.6613,
          22.1042,
          21.7368,
          21.5388,
          21.9369,
          21.5654,
          22.6023,
          22.4615,
          23.0146,
          23.0044,
          22.7595,
          22.3104,
          21.6368,
          21.3919,
          21.4653,
          21.892,
          21.5368,
          21.2796,
          21.3306,
          21.3163,
          20.9224,
          19.9651,
          20.555,
          20.8673,
          21.2918,
          20.5264,
          19.514,
          19.9732,
          20.1202,
          19.7609,
          20.0732,
          20.3753,
          20.31,
          20.4305,
          20.0937,
          20.2284,
          17.0695,
          16.7705,
          16.9098,
          16.8968,
          16.8225,
          16.4326,
          16.7315,
          16.6684,
          16.7074,
          16.8021,
          16.9507,
          16.9544,
          16.921,
          16.206,
          16.0927,
          16.1689,
          15.7845,
          15.6749,
          15.5189,
          15.5746,
          15.4131,
          15.9386,
          15.1902,
          15.6266,
          15.3889,
          15.025,
          15.5078,
          15.2645,
          15.7195,
          15.972,
          16.3453,
          17.0472,
          17.2886,
          17.7343,
          17.8179,
          17.6935,
          18.1986,
          18.6275,
          18.232,
          18.0741,
          18.4066,
          18.0834,
          18.6572,
          18.6591,
          18.6572,
          18.8857,
          19.3518,
          19.4595,
          18.9321,
          18.9284,
          19.1846,
          19.0751,
          19.0769,
          19.3982,
          19.0194,
          18.7148,
          19.0231,
          19.0955,
          19.0974,
          18.4864,
          17.92,
          19.8996,
          20.7371,
          20.3378,
          21.0955,
          21.4483,
          21.5412,
          21.53,
          21.7714,
          22.1633,
          22.0407,
          21.6526,
          21.3332,
          20.5142,
          20.1744,
          20.7445,
          20.5291,
          20.5198,
          20.5774,
          20.1113,
          19.9441,
          19.946,
          20.193,
          20.2413,
          20.0556,
          20.0054,
          19.9887,
          19.1809,
          18.6182,
          18.4214,
          18.2803,
          18.4753,
          18.5365,
          18.5588,
          18.57,
          18.414,
          18.5663,
          18.518,
          18.3657,
          18.2338,
          18.4548,
          18.5514,
          18.6405,
          18.4214,
          18.1837,
          18.4901,
          18.427,
          18.1986,
          18.0834,
          17.9943,
          18.167,
          17.9962,
          18.1094,
          18.0352,
          18.492,
          18.479,
          18.6015,
          18.9655,
          19.0305,
          18.5755,
          18.7167,
          18.9971,
          19.6099,
          19.0899,
          18.8968,
          18.6814,
          18.8485,
          19.1234,
          19.0249,
          18.9414,
          19.2663,
          19.1326,
          19.1921,
          19.2701,
          19.0342,
          18.9321,
          18.9971,
          19.2868,
          19.3128,
          19.4038,
          19.5727,
          20.0203,
          19.8699,
          19.7362,
          20.1354,
          19.712,
          19.6173,
          19.3703,
          19.3759,
          19.5523,
          19.4112,
          20.1726,
          20.2357,
          20.1874,
          20.0556,
          19.9349,
          20.1336,
          20.3137,
          20.7946,
          20.4882,
          20.5328,
          19.7863,
          19.4818,
          19.9497,
          20.0463,
          19.6823,
          19.9441,
          20.0129,
          19.5727,
          19.4093,
          19.6823,
          19.4056,
          19.7306,
          19.374,
          19.647,
          19.6062,
          19.9311,
          19.4985,
          20.3564,
          21.1011,
          21.6359,
          22.2245,
          22.3935,
          22.3397,
          22.5792,
          22.4808,
          22.7482,
          23.4019,
          23.3944,
          23.0453,
          23.4539,
          23.608,
          23.9237,
          24.3415,
          23.7714,
          23.9645,
          24.0203,
          23.9515,
          24.0258,
          23.6229,
          24.4344,
          24.8058,
          24.1261,
          22.5737,
          22.4177,
          22.4492,
          22.4975,
          22.5829,
          22.3044,
          22.1113,
          21.4372,
          21.2663,
          21.1586,
          21.1419,
          21.1642,
          21.5207,
          21.7789,
          21.0583,
          20.7427,
          20.7724,
          20.6535,
          21.1141,
          21.2366,
          21.426,
          21.6841,
          21.8197,
          21.4687,
          21.3276,
          20.8634,
          21.5746,
          21.8884,
          22.0147,
          22.1688,
          22.4994,
          22.4864,
          20.7798,
          21.0175,
          21.2793,
          20.5161,
          21.1679,
          21.1048,
          20.2246,
          21.8494,
          27.3443,
          26.6507,
          26.9987,
          27.4625,
          27.6899,
          27.6263,
          28.0128,
          27.74,
          27.3102,
          27.5603,
          27.2715,
          27.5831,
          27.2829,
          29.1066,
          28.2198,
          27.7513,
          28.4244,
          28.1356,
          28.4472,
          29.359,
          29.6569,
          26.9918,
          26.8145,
          25.7389,
          25.9003,
          27.0419,
          26.9964,
          26.819,
          26.719,
          27.2261,
          25.5433,
          25.0794,
          25.1749,
          25.4888,
          25.9231,
          25.3,
          26.2528,
          27.1806,
          27.242,
          27.4694,
          26.2414,
          25.2523,
          24.9908,
          24.6065,
          25.0544,
          24.1767,
          24.1039,
          24.5405,
          24.5178,
          24.8043,
          24.0607,
          24.8634,
          23.5923,
          23.499,
          23.6241,
          22.5121,
          21.4889,
          21.7799,
          22.5121,
          22.6713,
          22.4348,
          22.5258,
          22.5076,
          22.4553,
          22.9942,
          22.7395,
          22.1733,
          22.0232,
          22.262,
          21.1296,
          21.3752,
          20.9636,
          21.2387,
          20.6589,
          20.3269,
          20.5474,
          20.2132,
          20.7157,
          21.5389,
          21.0341,
          21.1341,
          21.2888,
          21.2615,
          21.2615,
          21.6026,
          22.2165,
          22.4644,
          22.5758,
          22.9897,
          23.2444,
          22.6122,
          22.5917,
          22.3757,
          23.258,
          22.7213,
          23.6514,
          23.6036,
          23.5059,
          22.7805,
          22.1824,
          22.0369,
          21.2615,
          21.498,
          21.7163,
          22.212,
          22.0665,
          21.7231,
          22.262,
          21.7276,
          21.6208,
          21.4616,
          22.1551,
          21.2319,
          21.5889,
          21.6253,
          21.6981,
          21.7276,
          22.2074,
          22.8942,
          21.4297,
          20.0995,
          19.2831,
          19.647,
          21.83,
          23.0124,
          23.706,
          24.9908,
          27.649,
          26.3665,
          24.9021,
          25.6866,
          25.8298,
          25.5297,
          26.2346,
          25.2409,
          25.8094,
          27.5148,
          27.5035,
          29.1066,
          29.0088,
          28.9929,
          27.7195,
          28.3789,
          26.6735,
          26.8554,
          25.8139,
          25.4455,
          24.4791,
          23.7401,
          23.8765,
          24.6497,
          24.7952,
          25.0885,
          24.8316,
          26.1346,
          26.1664,
          25.889,
          26.2255,
          26.3779,
          25.6957,
          25.8276,
          26.196,
          24.752,
          25.4683,
          25.4023,
          25.8321,
          24.6724,
          23.8993,
          23.7037,
          24.9453,
          26.2414,
          25.7412,
          26.4847,
          26.5825,
          25.7957,
          26.6507,
          25.8844,
          26.7485,
          27.151,
          28.4926,
          29.1862,
          30.114,
          30.496,
          29.7092,
          30.521,
          30.4278,
          29.5387,
          30.0753,
          29.9093,
          30.1072,
          30.9258,
          31.1031,
          30.9258,
          30.1299,
          29.2908,
          29.9116,
          30.023,
          29.1885,
          28.72,
          28.6109,
          28.4472,
          30.2368,
          29.9252,
          29.1521,
          29.5773,
          31.4556,
          32.1764,
          31.7217,
          32.5153,
          33.2043,
          31.426,
          32.5175,
          32.563,
          33.4521,
          33.9956,
          31.9491,
          32.2447,
          33.1724,
          32.7449,
          32.3652,
          32.1423,
          31.7853,
          32.6722,
          31.5966,
          30.8757,
          31.0054,
          29.334,
          28.6518,
          28.927,
          29.4068,
          29.334,
          29.45,
          29.7206,
          29.8343,
          30.2436,
          30.0162,
          29.5614,
          29.5637,
          29.6978,
          29.907,
          29.7843,
          28.1993,
          27.7445,
          26.387,
          25.5047,
          28.6415,
          29.2234,
          29.5648,
          28.7036,
          28.9648,
          28.3648,
          27.8864,
          27.4674,
          28.401,
          27.951,
          28.3726,
          28.4812,
          29.0372,
          28.4113,
          28.82,
          26.9398,
          27.1545,
          27.9277,
          27.8915,
          25.9907,
          27.7183,
          27.1829,
          27.7364,
          28.7243,
          29.4561,
          29.0682,
          29.1794,
          29.2337,
          29.6113,
          29.2493,
          29.0165,
          29.8622,
          30.4518,
          30.2113,
          29.301,
          29.7406,
          30.2397,
          30.9561,
          31.3647,
          30.5139,
          32.8983,
          33.3043,
          33.8267,
          33.956,
          32.275,
          31.8871,
          32.4845,
          31.8225,
          32.3242,
          30.757,
          31.4914,
          31.5225,
          33.3483,
          33.5448,
          33.6069,
          32.3242,
          33.0431,
          34.1215,
          33.8138,
          34.4862,
          35.2439,
          34.6284,
          33.6172,
          33.9379,
          33.3535,
          34.6026,
          34.9155,
          35.425,
          35.1198,
          35.9215,
          33.9172,
          32.6681,
          31.8044,
          31.2923,
          29.8053,
          29.9992,
          28.1666,
          27.3624
         ],
         "xaxis": "x",
         "yaxis": "y"
        }
       ],
       "layout": {
        "autosize": true,
        "barmode": "relative",
        "legend": {
         "tracegroupgap": 0
        },
        "margin": {
         "t": 60
        },
        "template": {
         "data": {
          "bar": [
           {
            "error_x": {
             "color": "#2a3f5f"
            },
            "error_y": {
             "color": "#2a3f5f"
            },
            "marker": {
             "line": {
              "color": "#E5ECF6",
              "width": 0.5
             }
            },
            "type": "bar"
           }
          ],
          "barpolar": [
           {
            "marker": {
             "line": {
              "color": "#E5ECF6",
              "width": 0.5
             }
            },
            "type": "barpolar"
           }
          ],
          "carpet": [
           {
            "aaxis": {
             "endlinecolor": "#2a3f5f",
             "gridcolor": "white",
             "linecolor": "white",
             "minorgridcolor": "white",
             "startlinecolor": "#2a3f5f"
            },
            "baxis": {
             "endlinecolor": "#2a3f5f",
             "gridcolor": "white",
             "linecolor": "white",
             "minorgridcolor": "white",
             "startlinecolor": "#2a3f5f"
            },
            "type": "carpet"
           }
          ],
          "choropleth": [
           {
            "colorbar": {
             "outlinewidth": 0,
             "ticks": ""
            },
            "type": "choropleth"
           }
          ],
          "contour": [
           {
            "colorbar": {
             "outlinewidth": 0,
             "ticks": ""
            },
            "colorscale": [
             [
              0,
              "#0d0887"
             ],
             [
              0.1111111111111111,
              "#46039f"
             ],
             [
              0.2222222222222222,
              "#7201a8"
             ],
             [
              0.3333333333333333,
              "#9c179e"
             ],
             [
              0.4444444444444444,
              "#bd3786"
             ],
             [
              0.5555555555555556,
              "#d8576b"
             ],
             [
              0.6666666666666666,
              "#ed7953"
             ],
             [
              0.7777777777777778,
              "#fb9f3a"
             ],
             [
              0.8888888888888888,
              "#fdca26"
             ],
             [
              1,
              "#f0f921"
             ]
            ],
            "type": "contour"
           }
          ],
          "contourcarpet": [
           {
            "colorbar": {
             "outlinewidth": 0,
             "ticks": ""
            },
            "type": "contourcarpet"
           }
          ],
          "heatmap": [
           {
            "colorbar": {
             "outlinewidth": 0,
             "ticks": ""
            },
            "colorscale": [
             [
              0,
              "#0d0887"
             ],
             [
              0.1111111111111111,
              "#46039f"
             ],
             [
              0.2222222222222222,
              "#7201a8"
             ],
             [
              0.3333333333333333,
              "#9c179e"
             ],
             [
              0.4444444444444444,
              "#bd3786"
             ],
             [
              0.5555555555555556,
              "#d8576b"
             ],
             [
              0.6666666666666666,
              "#ed7953"
             ],
             [
              0.7777777777777778,
              "#fb9f3a"
             ],
             [
              0.8888888888888888,
              "#fdca26"
             ],
             [
              1,
              "#f0f921"
             ]
            ],
            "type": "heatmap"
           }
          ],
          "heatmapgl": [
           {
            "colorbar": {
             "outlinewidth": 0,
             "ticks": ""
            },
            "colorscale": [
             [
              0,
              "#0d0887"
             ],
             [
              0.1111111111111111,
              "#46039f"
             ],
             [
              0.2222222222222222,
              "#7201a8"
             ],
             [
              0.3333333333333333,
              "#9c179e"
             ],
             [
              0.4444444444444444,
              "#bd3786"
             ],
             [
              0.5555555555555556,
              "#d8576b"
             ],
             [
              0.6666666666666666,
              "#ed7953"
             ],
             [
              0.7777777777777778,
              "#fb9f3a"
             ],
             [
              0.8888888888888888,
              "#fdca26"
             ],
             [
              1,
              "#f0f921"
             ]
            ],
            "type": "heatmapgl"
           }
          ],
          "histogram": [
           {
            "marker": {
             "colorbar": {
              "outlinewidth": 0,
              "ticks": ""
             }
            },
            "type": "histogram"
           }
          ],
          "histogram2d": [
           {
            "colorbar": {
             "outlinewidth": 0,
             "ticks": ""
            },
            "colorscale": [
             [
              0,
              "#0d0887"
             ],
             [
              0.1111111111111111,
              "#46039f"
             ],
             [
              0.2222222222222222,
              "#7201a8"
             ],
             [
              0.3333333333333333,
              "#9c179e"
             ],
             [
              0.4444444444444444,
              "#bd3786"
             ],
             [
              0.5555555555555556,
              "#d8576b"
             ],
             [
              0.6666666666666666,
              "#ed7953"
             ],
             [
              0.7777777777777778,
              "#fb9f3a"
             ],
             [
              0.8888888888888888,
              "#fdca26"
             ],
             [
              1,
              "#f0f921"
             ]
            ],
            "type": "histogram2d"
           }
          ],
          "histogram2dcontour": [
           {
            "colorbar": {
             "outlinewidth": 0,
             "ticks": ""
            },
            "colorscale": [
             [
              0,
              "#0d0887"
             ],
             [
              0.1111111111111111,
              "#46039f"
             ],
             [
              0.2222222222222222,
              "#7201a8"
             ],
             [
              0.3333333333333333,
              "#9c179e"
             ],
             [
              0.4444444444444444,
              "#bd3786"
             ],
             [
              0.5555555555555556,
              "#d8576b"
             ],
             [
              0.6666666666666666,
              "#ed7953"
             ],
             [
              0.7777777777777778,
              "#fb9f3a"
             ],
             [
              0.8888888888888888,
              "#fdca26"
             ],
             [
              1,
              "#f0f921"
             ]
            ],
            "type": "histogram2dcontour"
           }
          ],
          "mesh3d": [
           {
            "colorbar": {
             "outlinewidth": 0,
             "ticks": ""
            },
            "type": "mesh3d"
           }
          ],
          "parcoords": [
           {
            "line": {
             "colorbar": {
              "outlinewidth": 0,
              "ticks": ""
             }
            },
            "type": "parcoords"
           }
          ],
          "pie": [
           {
            "automargin": true,
            "type": "pie"
           }
          ],
          "scatter": [
           {
            "marker": {
             "colorbar": {
              "outlinewidth": 0,
              "ticks": ""
             }
            },
            "type": "scatter"
           }
          ],
          "scatter3d": [
           {
            "line": {
             "colorbar": {
              "outlinewidth": 0,
              "ticks": ""
             }
            },
            "marker": {
             "colorbar": {
              "outlinewidth": 0,
              "ticks": ""
             }
            },
            "type": "scatter3d"
           }
          ],
          "scattercarpet": [
           {
            "marker": {
             "colorbar": {
              "outlinewidth": 0,
              "ticks": ""
             }
            },
            "type": "scattercarpet"
           }
          ],
          "scattergeo": [
           {
            "marker": {
             "colorbar": {
              "outlinewidth": 0,
              "ticks": ""
             }
            },
            "type": "scattergeo"
           }
          ],
          "scattergl": [
           {
            "marker": {
             "colorbar": {
              "outlinewidth": 0,
              "ticks": ""
             }
            },
            "type": "scattergl"
           }
          ],
          "scattermapbox": [
           {
            "marker": {
             "colorbar": {
              "outlinewidth": 0,
              "ticks": ""
             }
            },
            "type": "scattermapbox"
           }
          ],
          "scatterpolar": [
           {
            "marker": {
             "colorbar": {
              "outlinewidth": 0,
              "ticks": ""
             }
            },
            "type": "scatterpolar"
           }
          ],
          "scatterpolargl": [
           {
            "marker": {
             "colorbar": {
              "outlinewidth": 0,
              "ticks": ""
             }
            },
            "type": "scatterpolargl"
           }
          ],
          "scatterternary": [
           {
            "marker": {
             "colorbar": {
              "outlinewidth": 0,
              "ticks": ""
             }
            },
            "type": "scatterternary"
           }
          ],
          "surface": [
           {
            "colorbar": {
             "outlinewidth": 0,
             "ticks": ""
            },
            "colorscale": [
             [
              0,
              "#0d0887"
             ],
             [
              0.1111111111111111,
              "#46039f"
             ],
             [
              0.2222222222222222,
              "#7201a8"
             ],
             [
              0.3333333333333333,
              "#9c179e"
             ],
             [
              0.4444444444444444,
              "#bd3786"
             ],
             [
              0.5555555555555556,
              "#d8576b"
             ],
             [
              0.6666666666666666,
              "#ed7953"
             ],
             [
              0.7777777777777778,
              "#fb9f3a"
             ],
             [
              0.8888888888888888,
              "#fdca26"
             ],
             [
              1,
              "#f0f921"
             ]
            ],
            "type": "surface"
           }
          ],
          "table": [
           {
            "cells": {
             "fill": {
              "color": "#EBF0F8"
             },
             "line": {
              "color": "white"
             }
            },
            "header": {
             "fill": {
              "color": "#C8D4E3"
             },
             "line": {
              "color": "white"
             }
            },
            "type": "table"
           }
          ]
         },
         "layout": {
          "annotationdefaults": {
           "arrowcolor": "#2a3f5f",
           "arrowhead": 0,
           "arrowwidth": 1
          },
          "coloraxis": {
           "colorbar": {
            "outlinewidth": 0,
            "ticks": ""
           }
          },
          "colorscale": {
           "diverging": [
            [
             0,
             "#8e0152"
            ],
            [
             0.1,
             "#c51b7d"
            ],
            [
             0.2,
             "#de77ae"
            ],
            [
             0.3,
             "#f1b6da"
            ],
            [
             0.4,
             "#fde0ef"
            ],
            [
             0.5,
             "#f7f7f7"
            ],
            [
             0.6,
             "#e6f5d0"
            ],
            [
             0.7,
             "#b8e186"
            ],
            [
             0.8,
             "#7fbc41"
            ],
            [
             0.9,
             "#4d9221"
            ],
            [
             1,
             "#276419"
            ]
           ],
           "sequential": [
            [
             0,
             "#0d0887"
            ],
            [
             0.1111111111111111,
             "#46039f"
            ],
            [
             0.2222222222222222,
             "#7201a8"
            ],
            [
             0.3333333333333333,
             "#9c179e"
            ],
            [
             0.4444444444444444,
             "#bd3786"
            ],
            [
             0.5555555555555556,
             "#d8576b"
            ],
            [
             0.6666666666666666,
             "#ed7953"
            ],
            [
             0.7777777777777778,
             "#fb9f3a"
            ],
            [
             0.8888888888888888,
             "#fdca26"
            ],
            [
             1,
             "#f0f921"
            ]
           ],
           "sequentialminus": [
            [
             0,
             "#0d0887"
            ],
            [
             0.1111111111111111,
             "#46039f"
            ],
            [
             0.2222222222222222,
             "#7201a8"
            ],
            [
             0.3333333333333333,
             "#9c179e"
            ],
            [
             0.4444444444444444,
             "#bd3786"
            ],
            [
             0.5555555555555556,
             "#d8576b"
            ],
            [
             0.6666666666666666,
             "#ed7953"
            ],
            [
             0.7777777777777778,
             "#fb9f3a"
            ],
            [
             0.8888888888888888,
             "#fdca26"
            ],
            [
             1,
             "#f0f921"
            ]
           ]
          },
          "colorway": [
           "#636efa",
           "#EF553B",
           "#00cc96",
           "#ab63fa",
           "#FFA15A",
           "#19d3f3",
           "#FF6692",
           "#B6E880",
           "#FF97FF",
           "#FECB52"
          ],
          "font": {
           "color": "#2a3f5f"
          },
          "geo": {
           "bgcolor": "white",
           "lakecolor": "white",
           "landcolor": "#E5ECF6",
           "showlakes": true,
           "showland": true,
           "subunitcolor": "white"
          },
          "hoverlabel": {
           "align": "left"
          },
          "hovermode": "closest",
          "mapbox": {
           "style": "light"
          },
          "paper_bgcolor": "white",
          "plot_bgcolor": "#E5ECF6",
          "polar": {
           "angularaxis": {
            "gridcolor": "white",
            "linecolor": "white",
            "ticks": ""
           },
           "bgcolor": "#E5ECF6",
           "radialaxis": {
            "gridcolor": "white",
            "linecolor": "white",
            "ticks": ""
           }
          },
          "scene": {
           "xaxis": {
            "backgroundcolor": "#E5ECF6",
            "gridcolor": "white",
            "gridwidth": 2,
            "linecolor": "white",
            "showbackground": true,
            "ticks": "",
            "zerolinecolor": "white"
           },
           "yaxis": {
            "backgroundcolor": "#E5ECF6",
            "gridcolor": "white",
            "gridwidth": 2,
            "linecolor": "white",
            "showbackground": true,
            "ticks": "",
            "zerolinecolor": "white"
           },
           "zaxis": {
            "backgroundcolor": "#E5ECF6",
            "gridcolor": "white",
            "gridwidth": 2,
            "linecolor": "white",
            "showbackground": true,
            "ticks": "",
            "zerolinecolor": "white"
           }
          },
          "shapedefaults": {
           "line": {
            "color": "#2a3f5f"
           }
          },
          "ternary": {
           "aaxis": {
            "gridcolor": "white",
            "linecolor": "white",
            "ticks": ""
           },
           "baxis": {
            "gridcolor": "white",
            "linecolor": "white",
            "ticks": ""
           },
           "bgcolor": "#E5ECF6",
           "caxis": {
            "gridcolor": "white",
            "linecolor": "white",
            "ticks": ""
           }
          },
          "title": {
           "x": 0.05
          },
          "xaxis": {
           "automargin": true,
           "gridcolor": "white",
           "linecolor": "white",
           "ticks": "",
           "title": {
            "standoff": 15
           },
           "zerolinecolor": "white",
           "zerolinewidth": 2
          },
          "yaxis": {
           "automargin": true,
           "gridcolor": "white",
           "linecolor": "white",
           "ticks": "",
           "title": {
            "standoff": 15
           },
           "zerolinecolor": "white",
           "zerolinewidth": 2
          }
         }
        },
        "xaxis": {
         "anchor": "y",
         "autorange": true,
         "domain": [
          0,
          1
         ],
         "range": [
          15,
          36
         ],
         "title": {
          "text": "pe"
         },
         "type": "linear"
        },
        "yaxis": {
         "anchor": "x",
         "autorange": true,
         "domain": [
          0,
          1
         ],
         "range": [
          0,
          77.89473684210526
         ],
         "title": {
          "text": "count"
         }
        }
       }
      },
      "image/png": "[encoded data removed]",
      "text/html": [
       "<div>\n",
       "        \n",
       "        \n",
       "            <div id=\"2ac8dcfd-c11d-495e-a387-7bb5274494b3\" class=\"plotly-graph-div\" style=\"height:525px; width:100%;\"></div>\n",
       "            <script type=\"text/javascript\">\n",
       "                require([\"plotly\"], function(Plotly) {\n",
       "                    window.PLOTLYENV=window.PLOTLYENV || {};\n",
       "                    \n",
       "                if (document.getElementById(\"2ac8dcfd-c11d-495e-a387-7bb5274494b3\")) {\n",
       "                    Plotly.newPlot(\n",
       "                        '2ac8dcfd-c11d-495e-a387-7bb5274494b3',\n",
       "                        [{\"alignmentgroup\": \"True\", \"bingroup\": \"x\", \"hoverlabel\": {\"namelength\": 0}, \"hovertemplate\": \"pe=%{x}<br>count=%{y}\", \"legendgroup\": \"\", \"marker\": {\"color\": \"#636efa\"}, \"name\": \"\", \"offsetgroup\": \"\", \"orientation\": \"v\", \"showlegend\": false, \"type\": \"histogram\", \"x\": [27.3542, 27.1889, 27.5359, 27.1481, 25.3375, 24.9048, 22.6411, 21.4613, 21.3306, 21.5, 22.4023, 21.6613, 22.1042, 21.7368, 21.5388, 21.9369, 21.5654, 22.6023, 22.4615, 23.0146, 23.0044, 22.7595, 22.3104, 21.6368, 21.3919, 21.4653, 21.892, 21.5368, 21.2796, 21.3306, 21.3163, 20.9224, 19.9651, 20.555, 20.8673, 21.2918, 20.5264, 19.514, 19.9732, 20.1202, 19.7609, 20.0732, 20.3753, 20.31, 20.4305, 20.0937, 20.2284, 17.0695, 16.7705, 16.9098, 16.8968, 16.8225, 16.4326, 16.7315, 16.6684, 16.7074, 16.8021, 16.9507, 16.9544, 16.921, 16.206, 16.0927, 16.1689, 15.7845, 15.6749, 15.5189, 15.5746, 15.4131, 15.9386, 15.1902, 15.6266, 15.3889, 15.025, 15.5078, 15.2645, 15.7195, 15.972, 16.3453, 17.0472, 17.2886, 17.7343, 17.8179, 17.6935, 18.1986, 18.6275, 18.232, 18.0741, 18.4066, 18.0834, 18.6572, 18.6591, 18.6572, 18.8857, 19.3518, 19.4595, 18.9321, 18.9284, 19.1846, 19.0751, 19.0769, 19.3982, 19.0194, 18.7148, 19.0231, 19.0955, 19.0974, 18.4864, 17.92, 19.8996, 20.7371, 20.3378, 21.0955, 21.4483, 21.5412, 21.53, 21.7714, 22.1633, 22.0407, 21.6526, 21.3332, 20.5142, 20.1744, 20.7445, 20.5291, 20.5198, 20.5774, 20.1113, 19.9441, 19.946, 20.193, 20.2413, 20.0556, 20.0054, 19.9887, 19.1809, 18.6182, 18.4214, 18.2803, 18.4753, 18.5365, 18.5588, 18.57, 18.414, 18.5663, 18.518, 18.3657, 18.2338, 18.4548, 18.5514, 18.6405, 18.4214, 18.1837, 18.4901, 18.427, 18.1986, 18.0834, 17.9943, 18.167, 17.9962, 18.1094, 18.0352, 18.492, 18.479, 18.6015, 18.9655, 19.0305, 18.5755, 18.7167, 18.9971, 19.6099, 19.0899, 18.8968, 18.6814, 18.8485, 19.1234, 19.0249, 18.9414, 19.2663, 19.1326, 19.1921, 19.2701, 19.0342, 18.9321, 18.9971, 19.2868, 19.3128, 19.4038, 19.5727, 20.0203, 19.8699, 19.7362, 20.1354, 19.712, 19.6173, 19.3703, 19.3759, 19.5523, 19.4112, 20.1726, 20.2357, 20.1874, 20.0556, 19.9349, 20.1336, 20.3137, 20.7946, 20.4882, 20.5328, 19.7863, 19.4818, 19.9497, 20.0463, 19.6823, 19.9441, 20.0129, 19.5727, 19.4093, 19.6823, 19.4056, 19.7306, 19.374, 19.647, 19.6062, 19.9311, 19.4985, 20.3564, 21.1011, 21.6359, 22.2245, 22.3935, 22.3397, 22.5792, 22.4808, 22.7482, 23.4019, 23.3944, 23.0453, 23.4539, 23.608, 23.9237, 24.3415, 23.7714, 23.9645, 24.0203, 23.9515, 24.0258, 23.6229, 24.4344, 24.8058, 24.1261, 22.5737, 22.4177, 22.4492, 22.4975, 22.5829, 22.3044, 22.1113, 21.4372, 21.2663, 21.1586, 21.1419, 21.1642, 21.5207, 21.7789, 21.0583, 20.7427, 20.7724, 20.6535, 21.1141, 21.2366, 21.426, 21.6841, 21.8197, 21.4687, 21.3276, 20.8634, 21.5746, 21.8884, 22.0147, 22.1688, 22.4994, 22.4864, 20.7798, 21.0175, 21.2793, 20.5161, 21.1679, 21.1048, 20.2246, 21.8494, 27.3443, 26.6507, 26.9987, 27.4625, 27.6899, 27.6263, 28.0128, 27.74, 27.3102, 27.5603, 27.2715, 27.5831, 27.2829, 29.1066, 28.2198, 27.7513, 28.4244, 28.1356, 28.4472, 29.359, 29.6569, 26.9918, 26.8145, 25.7389, 25.9003, 27.0419, 26.9964, 26.819, 26.719, 27.2261, 25.5433, 25.0794, 25.1749, 25.4888, 25.9231, 25.3, 26.2528, 27.1806, 27.242, 27.4694, 26.2414, 25.2523, 24.9908, 24.6065, 25.0544, 24.1767, 24.1039, 24.5405, 24.5178, 24.8043, 24.0607, 24.8634, 23.5923, 23.499, 23.6241, 22.5121, 21.4889, 21.7799, 22.5121, 22.6713, 22.4348, 22.5258, 22.5076, 22.4553, 22.9942, 22.7395, 22.1733, 22.0232, 22.262, 21.1296, 21.3752, 20.9636, 21.2387, 20.6589, 20.3269, 20.5474, 20.2132, 20.7157, 21.5389, 21.0341, 21.1341, 21.2888, 21.2615, 21.2615, 21.6026, 22.2165, 22.4644, 22.5758, 22.9897, 23.2444, 22.6122, 22.5917, 22.3757, 23.258, 22.7213, 23.6514, 23.6036, 23.5059, 22.7805, 22.1824, 22.0369, 21.2615, 21.498, 21.7163, 22.212, 22.0665, 21.7231, 22.262, 21.7276, 21.6208, 21.4616, 22.1551, 21.2319, 21.5889, 21.6253, 21.6981, 21.7276, 22.2074, 22.8942, 21.4297, 20.0995, 19.2831, 19.647, 21.83, 23.0124, 23.706, 24.9908, 27.649, 26.3665, 24.9021, 25.6866, 25.8298, 25.5297, 26.2346, 25.2409, 25.8094, 27.5148, 27.5035, 29.1066, 29.0088, 28.9929, 27.7195, 28.3789, 26.6735, 26.8554, 25.8139, 25.4455, 24.4791, 23.7401, 23.8765, 24.6497, 24.7952, 25.0885, 24.8316, 26.1346, 26.1664, 25.889, 26.2255, 26.3779, 25.6957, 25.8276, 26.196, 24.752, 25.4683, 25.4023, 25.8321, 24.6724, 23.8993, 23.7037, 24.9453, 26.2414, 25.7412, 26.4847, 26.5825, 25.7957, 26.6507, 25.8844, 26.7485, 27.151, 28.4926, 29.1862, 30.114, 30.496, 29.7092, 30.521, 30.4278, 29.5387, 30.0753, 29.9093, 30.1072, 30.9258, 31.1031, 30.9258, 30.1299, 29.2908, 29.9116, 30.023, 29.1885, 28.72, 28.6109, 28.4472, 30.2368, 29.9252, 29.1521, 29.5773, 31.4556, 32.1764, 31.7217, 32.5153, 33.2043, 31.426, 32.5175, 32.563, 33.4521, 33.9956, 31.9491, 32.2447, 33.1724, 32.7449, 32.3652, 32.1423, 31.7853, 32.6722, 31.5966, 30.8757, 31.0054, 29.334, 28.6518, 28.927, 29.4068, 29.334, 29.45, 29.7206, 29.8343, 30.2436, 30.0162, 29.5614, 29.5637, 29.6978, 29.907, 29.7843, 28.1993, 27.7445, 26.387, 25.5047, 28.6415, 29.2234, 29.5648, 28.7036, 28.9648, 28.3648, 27.8864, 27.4674, 28.401, 27.951, 28.3726, 28.4812, 29.0372, 28.4113, 28.82, 26.9398, 27.1545, 27.9277, 27.8915, 25.9907, 27.7183, 27.1829, 27.7364, 28.7243, 29.4561, 29.0682, 29.1794, 29.2337, 29.6113, 29.2493, 29.0165, 29.8622, 30.4518, 30.2113, 29.301, 29.7406, 30.2397, 30.9561, 31.3647, 30.5139, 32.8983, 33.3043, 33.8267, 33.956, 32.275, 31.8871, 32.4845, 31.8225, 32.3242, 30.757, 31.4914, 31.5225, 33.3483, 33.5448, 33.6069, 32.3242, 33.0431, 34.1215, 33.8138, 34.4862, 35.2439, 34.6284, 33.6172, 33.9379, 33.3535, 34.6026, 34.9155, 35.425, 35.1198, 35.9215, 33.9172, 32.6681, 31.8044, 31.2923, 29.8053, 29.9992, 28.1666, 27.3624], \"xaxis\": \"x\", \"yaxis\": \"y\"}],\n",
       "                        {\"barmode\": \"relative\", \"legend\": {\"tracegroupgap\": 0}, \"margin\": {\"t\": 60}, \"template\": {\"data\": {\"bar\": [{\"error_x\": {\"color\": \"#2a3f5f\"}, \"error_y\": {\"color\": \"#2a3f5f\"}, \"marker\": {\"line\": {\"color\": \"#E5ECF6\", \"width\": 0.5}}, \"type\": \"bar\"}], \"barpolar\": [{\"marker\": {\"line\": {\"color\": \"#E5ECF6\", \"width\": 0.5}}, \"type\": \"barpolar\"}], \"carpet\": [{\"aaxis\": {\"endlinecolor\": \"#2a3f5f\", \"gridcolor\": \"white\", \"linecolor\": \"white\", \"minorgridcolor\": \"white\", \"startlinecolor\": \"#2a3f5f\"}, \"baxis\": {\"endlinecolor\": \"#2a3f5f\", \"gridcolor\": \"white\", \"linecolor\": \"white\", \"minorgridcolor\": \"white\", \"startlinecolor\": \"#2a3f5f\"}, \"type\": \"carpet\"}], \"choropleth\": [{\"colorbar\": {\"outlinewidth\": 0, \"ticks\": \"\"}, \"type\": \"choropleth\"}], \"contour\": [{\"colorbar\": {\"outlinewidth\": 0, \"ticks\": \"\"}, \"colorscale\": [[0.0, \"#0d0887\"], [0.1111111111111111, \"#46039f\"], [0.2222222222222222, \"#7201a8\"], [0.3333333333333333, \"#9c179e\"], [0.4444444444444444, \"#bd3786\"], [0.5555555555555556, \"#d8576b\"], [0.6666666666666666, \"#ed7953\"], [0.7777777777777778, \"#fb9f3a\"], [0.8888888888888888, \"#fdca26\"], [1.0, \"#f0f921\"]], \"type\": \"contour\"}], \"contourcarpet\": [{\"colorbar\": {\"outlinewidth\": 0, \"ticks\": \"\"}, \"type\": \"contourcarpet\"}], \"heatmap\": [{\"colorbar\": {\"outlinewidth\": 0, \"ticks\": \"\"}, \"colorscale\": [[0.0, \"#0d0887\"], [0.1111111111111111, \"#46039f\"], [0.2222222222222222, \"#7201a8\"], [0.3333333333333333, \"#9c179e\"], [0.4444444444444444, \"#bd3786\"], [0.5555555555555556, \"#d8576b\"], [0.6666666666666666, \"#ed7953\"], [0.7777777777777778, \"#fb9f3a\"], [0.8888888888888888, \"#fdca26\"], [1.0, \"#f0f921\"]], \"type\": \"heatmap\"}], \"heatmapgl\": [{\"colorbar\": {\"outlinewidth\": 0, \"ticks\": \"\"}, \"colorscale\": [[0.0, \"#0d0887\"], [0.1111111111111111, \"#46039f\"], [0.2222222222222222, \"#7201a8\"], [0.3333333333333333, \"#9c179e\"], [0.4444444444444444, \"#bd3786\"], [0.5555555555555556, \"#d8576b\"], [0.6666666666666666, \"#ed7953\"], [0.7777777777777778, \"#fb9f3a\"], [0.8888888888888888, \"#fdca26\"], [1.0, \"#f0f921\"]], \"type\": \"heatmapgl\"}], \"histogram\": [{\"marker\": {\"colorbar\": {\"outlinewidth\": 0, \"ticks\": \"\"}}, \"type\": \"histogram\"}], \"histogram2d\": [{\"colorbar\": {\"outlinewidth\": 0, \"ticks\": \"\"}, \"colorscale\": [[0.0, \"#0d0887\"], [0.1111111111111111, \"#46039f\"], [0.2222222222222222, \"#7201a8\"], [0.3333333333333333, \"#9c179e\"], [0.4444444444444444, \"#bd3786\"], [0.5555555555555556, \"#d8576b\"], [0.6666666666666666, \"#ed7953\"], [0.7777777777777778, \"#fb9f3a\"], [0.8888888888888888, \"#fdca26\"], [1.0, \"#f0f921\"]], \"type\": \"histogram2d\"}], \"histogram2dcontour\": [{\"colorbar\": {\"outlinewidth\": 0, \"ticks\": \"\"}, \"colorscale\": [[0.0, \"#0d0887\"], [0.1111111111111111, \"#46039f\"], [0.2222222222222222, \"#7201a8\"], [0.3333333333333333, \"#9c179e\"], [0.4444444444444444, \"#bd3786\"], [0.5555555555555556, \"#d8576b\"], [0.6666666666666666, \"#ed7953\"], [0.7777777777777778, \"#fb9f3a\"], [0.8888888888888888, \"#fdca26\"], [1.0, \"#f0f921\"]], \"type\": \"histogram2dcontour\"}], \"mesh3d\": [{\"colorbar\": {\"outlinewidth\": 0, \"ticks\": \"\"}, \"type\": \"mesh3d\"}], \"parcoords\": [{\"line\": {\"colorbar\": {\"outlinewidth\": 0, \"ticks\": \"\"}}, \"type\": \"parcoords\"}], \"pie\": [{\"automargin\": true, \"type\": \"pie\"}], \"scatter\": [{\"marker\": {\"colorbar\": {\"outlinewidth\": 0, \"ticks\": \"\"}}, \"type\": \"scatter\"}], \"scatter3d\": [{\"line\": {\"colorbar\": {\"outlinewidth\": 0, \"ticks\": \"\"}}, \"marker\": {\"colorbar\": {\"outlinewidth\": 0, \"ticks\": \"\"}}, \"type\": \"scatter3d\"}], \"scattercarpet\": [{\"marker\": {\"colorbar\": {\"outlinewidth\": 0, \"ticks\": \"\"}}, \"type\": \"scattercarpet\"}], \"scattergeo\": [{\"marker\": {\"colorbar\": {\"outlinewidth\": 0, \"ticks\": \"\"}}, \"type\": \"scattergeo\"}], \"scattergl\": [{\"marker\": {\"colorbar\": {\"outlinewidth\": 0, \"ticks\": \"\"}}, \"type\": \"scattergl\"}], \"scattermapbox\": [{\"marker\": {\"colorbar\": {\"outlinewidth\": 0, \"ticks\": \"\"}}, \"type\": \"scattermapbox\"}], \"scatterpolar\": [{\"marker\": {\"colorbar\": {\"outlinewidth\": 0, \"ticks\": \"\"}}, \"type\": \"scatterpolar\"}], \"scatterpolargl\": [{\"marker\": {\"colorbar\": {\"outlinewidth\": 0, \"ticks\": \"\"}}, \"type\": \"scatterpolargl\"}], \"scatterternary\": [{\"marker\": {\"colorbar\": {\"outlinewidth\": 0, \"ticks\": \"\"}}, \"type\": \"scatterternary\"}], \"surface\": [{\"colorbar\": {\"outlinewidth\": 0, \"ticks\": \"\"}, \"colorscale\": [[0.0, \"#0d0887\"], [0.1111111111111111, \"#46039f\"], [0.2222222222222222, \"#7201a8\"], [0.3333333333333333, \"#9c179e\"], [0.4444444444444444, \"#bd3786\"], [0.5555555555555556, \"#d8576b\"], [0.6666666666666666, \"#ed7953\"], [0.7777777777777778, \"#fb9f3a\"], [0.8888888888888888, \"#fdca26\"], [1.0, \"#f0f921\"]], \"type\": \"surface\"}], \"table\": [{\"cells\": {\"fill\": {\"color\": \"#EBF0F8\"}, \"line\": {\"color\": \"white\"}}, \"header\": {\"fill\": {\"color\": \"#C8D4E3\"}, \"line\": {\"color\": \"white\"}}, \"type\": \"table\"}]}, \"layout\": {\"annotationdefaults\": {\"arrowcolor\": \"#2a3f5f\", \"arrowhead\": 0, \"arrowwidth\": 1}, \"coloraxis\": {\"colorbar\": {\"outlinewidth\": 0, \"ticks\": \"\"}}, \"colorscale\": {\"diverging\": [[0, \"#8e0152\"], [0.1, \"#c51b7d\"], [0.2, \"#de77ae\"], [0.3, \"#f1b6da\"], [0.4, \"#fde0ef\"], [0.5, \"#f7f7f7\"], [0.6, \"#e6f5d0\"], [0.7, \"#b8e186\"], [0.8, \"#7fbc41\"], [0.9, \"#4d9221\"], [1, \"#276419\"]], \"sequential\": [[0.0, \"#0d0887\"], [0.1111111111111111, \"#46039f\"], [0.2222222222222222, \"#7201a8\"], [0.3333333333333333, \"#9c179e\"], [0.4444444444444444, \"#bd3786\"], [0.5555555555555556, \"#d8576b\"], [0.6666666666666666, \"#ed7953\"], [0.7777777777777778, \"#fb9f3a\"], [0.8888888888888888, \"#fdca26\"], [1.0, \"#f0f921\"]], \"sequentialminus\": [[0.0, \"#0d0887\"], [0.1111111111111111, \"#46039f\"], [0.2222222222222222, \"#7201a8\"], [0.3333333333333333, \"#9c179e\"], [0.4444444444444444, \"#bd3786\"], [0.5555555555555556, \"#d8576b\"], [0.6666666666666666, \"#ed7953\"], [0.7777777777777778, \"#fb9f3a\"], [0.8888888888888888, \"#fdca26\"], [1.0, \"#f0f921\"]]}, \"colorway\": [\"#636efa\", \"#EF553B\", \"#00cc96\", \"#ab63fa\", \"#FFA15A\", \"#19d3f3\", \"#FF6692\", \"#B6E880\", \"#FF97FF\", \"#FECB52\"], \"font\": {\"color\": \"#2a3f5f\"}, \"geo\": {\"bgcolor\": \"white\", \"lakecolor\": \"white\", \"landcolor\": \"#E5ECF6\", \"showlakes\": true, \"showland\": true, \"subunitcolor\": \"white\"}, \"hoverlabel\": {\"align\": \"left\"}, \"hovermode\": \"closest\", \"mapbox\": {\"style\": \"light\"}, \"paper_bgcolor\": \"white\", \"plot_bgcolor\": \"#E5ECF6\", \"polar\": {\"angularaxis\": {\"gridcolor\": \"white\", \"linecolor\": \"white\", \"ticks\": \"\"}, \"bgcolor\": \"#E5ECF6\", \"radialaxis\": {\"gridcolor\": \"white\", \"linecolor\": \"white\", \"ticks\": \"\"}}, \"scene\": {\"xaxis\": {\"backgroundcolor\": \"#E5ECF6\", \"gridcolor\": \"white\", \"gridwidth\": 2, \"linecolor\": \"white\", \"showbackground\": true, \"ticks\": \"\", \"zerolinecolor\": \"white\"}, \"yaxis\": {\"backgroundcolor\": \"#E5ECF6\", \"gridcolor\": \"white\", \"gridwidth\": 2, \"linecolor\": \"white\", \"showbackground\": true, \"ticks\": \"\", \"zerolinecolor\": \"white\"}, \"zaxis\": {\"backgroundcolor\": \"#E5ECF6\", \"gridcolor\": \"white\", \"gridwidth\": 2, \"linecolor\": \"white\", \"showbackground\": true, \"ticks\": \"\", \"zerolinecolor\": \"white\"}}, \"shapedefaults\": {\"line\": {\"color\": \"#2a3f5f\"}}, \"ternary\": {\"aaxis\": {\"gridcolor\": \"white\", \"linecolor\": \"white\", \"ticks\": \"\"}, \"baxis\": {\"gridcolor\": \"white\", \"linecolor\": \"white\", \"ticks\": \"\"}, \"bgcolor\": \"#E5ECF6\", \"caxis\": {\"gridcolor\": \"white\", \"linecolor\": \"white\", \"ticks\": \"\"}}, \"title\": {\"x\": 0.05}, \"xaxis\": {\"automargin\": true, \"gridcolor\": \"white\", \"linecolor\": \"white\", \"ticks\": \"\", \"title\": {\"standoff\": 15}, \"zerolinecolor\": \"white\", \"zerolinewidth\": 2}, \"yaxis\": {\"automargin\": true, \"gridcolor\": \"white\", \"linecolor\": \"white\", \"ticks\": \"\", \"title\": {\"standoff\": 15}, \"zerolinecolor\": \"white\", \"zerolinewidth\": 2}}}, \"xaxis\": {\"anchor\": \"y\", \"domain\": [0.0, 1.0], \"title\": {\"text\": \"pe\"}}, \"yaxis\": {\"anchor\": \"x\", \"domain\": [0.0, 1.0], \"title\": {\"text\": \"count\"}}},\n",
       "                        {\"responsive\": true}\n",
       "                    ).then(function(){\n",
       "                            \n",
       "var gd = document.getElementById('2ac8dcfd-c11d-495e-a387-7bb5274494b3');\n",
       "var x = new MutationObserver(function (mutations, observer) {{\n",
       "        var display = window.getComputedStyle(gd).display;\n",
       "        if (!display || display === 'none') {{\n",
       "            console.log([gd, 'removed!']);\n",
       "            Plotly.purge(gd);\n",
       "            observer.disconnect();\n",
       "        }}\n",
       "}});\n",
       "\n",
       "// Listen for the removal of the full notebook cells\n",
       "var notebookContainer = gd.closest('#notebook-container');\n",
       "if (notebookContainer) {{\n",
       "    x.observe(notebookContainer, {childList: true});\n",
       "}}\n",
       "\n",
       "// Listen for the clearing of the current output cell\n",
       "var outputEl = gd.closest('.output');\n",
       "if (outputEl) {{\n",
       "    x.observe(outputEl, {childList: true});\n",
       "}}\n",
       "\n",
       "                        })\n",
       "                };\n",
       "                });\n",
       "            </script>\n",
       "        </div>"
      ]
     },
     "metadata": {},
     "output_type": "display_data"
    }
   ],
   "source": [
    "px.histogram(df,x='pe')"
   ]
  },
  {
   "cell_type": "code",
   "execution_count": null,
   "metadata": {},
   "outputs": [],
   "source": []
  },
  {
   "cell_type": "code",
   "execution_count": 24,
   "metadata": {},
   "outputs": [],
   "source": [
    "def N(x, mu, sigma):\n",
    "    return 1/(sigma*np.sqrt(2*np.pi)) * np.exp(-(x-mu)**2/2/sigma**2)"
   ]
  },
  {
   "cell_type": "code",
   "execution_count": 29,
   "metadata": {},
   "outputs": [
    {
     "name": "stdout",
     "output_type": "stream",
     "text": [
      "-5.0 1.4867195147342977e-06 1.4867195147342977e-07\n",
      "-4.9 2.438960745893352e-06 3.9256802606276505e-07\n",
      "-4.8 3.961299091032075e-06 7.886979351659726e-07\n",
      "-4.7 6.36982517886709e-06 1.4256804530526815e-06\n",
      "-4.6 1.0140852065486758e-05 2.4397656596013574e-06\n",
      "-4.5 1.5983741106905475e-05 4.038139770291905e-06\n",
      "-4.4 2.4942471290053535e-05 6.532386899297259e-06\n",
      "-4.3 3.853519674208713e-05 1.0385906573505973e-05\n",
      "-4.2 5.8943067756539855e-05 1.628021334915996e-05\n",
      "-4.1 8.926165717713293e-05 2.5206379066873254e-05\n",
      "-4.0 0.00013383022576488537 3.858940164336179e-05\n",
      "-3.9 0.00019865547139277272 5.845494878263906e-05\n",
      "-3.8 0.00029194692579146027 8.764964136178509e-05\n",
      "-3.7 0.00042478027055075143 0.00013012766841686023\n",
      "-3.5999999999999996 0.000611901930113773 0.00019131786142823754\n",
      "-3.5 0.0008726826950457602 0.0002785861309328136\n",
      "-3.4 0.00123221916847302 0.0004018080477801156\n",
      "-3.3 0.0017225689390536812 0.0005740649416854837\n",
      "-3.2 0.0023840882014648404 0.0008124737618319677\n",
      "-3.0999999999999996 0.0032668190561999247 0.0011391556674519602\n",
      "-3.0 0.0044318484119380075 0.001582340508645761\n",
      "-2.9 0.005952532419775854 0.0021775937506233463\n",
      "-2.8 0.007915451582979969 0.002969138908921343\n",
      "-2.6999999999999997 0.010420934814422605 0.004011232390363604\n",
      "-2.5999999999999996 0.013582969233685634 0.0053695293137321675\n",
      "-2.5 0.01752830049356854 0.0071223593630890215\n",
      "-2.4 0.0223945302948429 0.009361812392573311\n",
      "-2.3 0.028327037741601186 0.01219451616673343\n",
      "-2.1999999999999997 0.03547459284623146 0.015741975451356575\n",
      "-2.0999999999999996 0.04398359598042723 0.0201403350493993\n",
      "-2.0 0.05399096651318806 0.025539431700718106\n",
      "-1.9 0.0656158147746766 0.03210101317818577\n",
      "-1.7999999999999998 0.07895015830089418 0.03999602900827519\n",
      "-1.6999999999999997 0.09404907737688697 0.04940093674596389\n",
      "-1.5999999999999996 0.11092083467945563 0.060493020213909454\n",
      "-1.5 0.12951759566589174 0.07344477978049863\n",
      "-1.4 0.14972746563574488 0.08841752634407311\n",
      "-1.2999999999999998 0.1713685920478074 0.10555438554885385\n",
      "-1.1999999999999997 0.19418605498321304 0.12497299104717516\n",
      "-1.0999999999999996 0.21785217703255064 0.14675820875043022\n",
      "-1.0 0.24197072451914337 0.17095528120234454\n",
      "-0.8999999999999995 0.266085249898755 0.19756380619222005\n",
      "-0.7999999999999998 0.2896915527614828 0.22653296146836832\n",
      "-0.7000000000000002 0.3122539333667612 0.25775835480504444\n",
      "-0.5999999999999996 0.3332246028917997 0.2910808150942244\n",
      "-0.5 0.3520653267642995 0.3262873477706544\n",
      "-0.39999999999999947 0.3682701403033234 0.3631143618009867\n",
      "-0.2999999999999998 0.38138781546052414 0.40125314334703915\n",
      "-0.1999999999999993 0.391042693975456 0.44035741274458473\n",
      "-0.09999999999999964 0.3969525474770118 0.4800526674922859\n",
      "0.0 0.3989422804014327 0.5199468955324292\n",
      "0.10000000000000053 0.39695254747701175 0.5596421502801304\n",
      "0.20000000000000018 0.3910426939754559 0.5987464196776761\n",
      "0.3000000000000007 0.381387815460524 0.6368852012237285\n",
      "0.40000000000000036 0.3682701403033233 0.6737122152540608\n",
      "0.5 0.3520653267642995 0.7089187479304907\n",
      "0.6000000000000005 0.33322460289179956 0.7422412082196707\n",
      "0.7000000000000002 0.3122539333667612 0.7734666015563467\n",
      "0.8000000000000007 0.28969155276148256 0.802435756832495\n",
      "0.9000000000000004 0.26608524989875476 0.8290442818223704\n",
      "1.0 0.24197072451914337 0.8532413542742848\n",
      "1.1000000000000005 0.21785217703255041 0.8750265719775399\n",
      "1.2000000000000002 0.19418605498321292 0.8944451774758612\n",
      "1.3000000000000007 0.1713685920478072 0.9115820366806419\n",
      "1.4000000000000004 0.1497274656357448 0.9265547832442164\n",
      "1.5 0.12951759566589174 0.9395065428108056\n",
      "1.6000000000000005 0.11092083467945546 0.9505986262787511\n",
      "1.7000000000000002 0.0940490773768869 0.9600035340164398\n",
      "1.8000000000000007 0.07895015830089407 0.9678985498465292\n",
      "1.9000000000000004 0.06561581477467655 0.9744601313239969\n",
      "2.0 0.05399096651318806 0.9798592279753157\n",
      "2.1000000000000005 0.043983595980427156 0.9842575875733584\n",
      "2.2 0.035474592846231424 0.9878050468579815\n",
      "2.3000000000000007 0.02832703774160112 0.9906377506321417\n",
      "2.4000000000000004 0.022394530294842882 0.9928772036616259\n",
      "2.5 0.01752830049356854 0.9946300337109828\n",
      "2.6000000000000005 0.013582969233685602 0.9959883306343513\n",
      "2.7 0.010420934814422592 0.9970304241157936\n",
      "2.8000000000000007 0.007915451582979946 0.9978219692740916\n",
      "2.9000000000000004 0.005952532419775849 0.9984172225160692\n",
      "3.0 0.0044318484119380075 0.998860407357263\n",
      "3.0999999999999996 0.0032668190561999247 0.999187089262883\n",
      "3.200000000000001 0.0023840882014648343 0.9994254980830295\n",
      "3.3000000000000007 0.0017225689390536767 0.9995977549769348\n",
      "3.4000000000000004 0.0012322191684730175 0.9997209768937821\n",
      "3.5 0.0008726826950457602 0.9998082451632867\n",
      "3.5999999999999996 0.000611901930113773 0.9998694353562981\n",
      "3.700000000000001 0.00042478027055074997 0.9999119133833532\n",
      "3.8000000000000007 0.0002919469257914595 0.9999411080759323\n",
      "3.9000000000000004 0.00019865547139277237 0.9999609736230716\n",
      "4.0 0.00013383022576488537 0.999974356645648\n",
      "4.1 8.926165717713293e-05 0.9999832828113657\n",
      "4.200000000000001 5.8943067756539645e-05 0.9999891771181414\n",
      "4.300000000000001 3.8535196742086994e-05 0.9999930306378156\n",
      "4.4 2.4942471290053535e-05 0.9999955248849447\n",
      "4.5 1.5983741106905475e-05 0.9999971232590554\n",
      "4.600000000000001 1.014085206548667e-05 0.999998137344262\n",
      "4.700000000000001 6.369825178867068e-06 0.9999987743267799\n",
      "4.800000000000001 3.961299091032061e-06 0.999999170456689\n",
      "4.9 2.438960745893352e-06 0.9999994143527635\n"
     ]
    }
   ],
   "source": [
    "s = 0\n",
    "for i in range(100):\n",
    "    x = i*0.1 - 5\n",
    "    s += N(x,0,1) * 0.1\n",
    "    print(x,N(x,0,1),s)"
   ]
  },
  {
   "cell_type": "code",
   "execution_count": 31,
   "metadata": {},
   "outputs": [
    {
     "data": {
      "text/plain": [
       "0.3727924814277249"
      ]
     },
     "execution_count": 31,
     "metadata": {},
     "output_type": "execute_result"
    }
   ],
   "source": [
    "np.sqrt(-0.8**2 / 2/np.log(0.1))"
   ]
  },
  {
   "cell_type": "code",
   "execution_count": 33,
   "metadata": {},
   "outputs": [],
   "source": [
    "x = np.arange(100)*0.1 - 5\n",
    "y1 = N(x,0,1)\n",
    "y2 = np.exp(-x**2/0.372**2)"
   ]
  },
  {
   "cell_type": "code",
   "execution_count": 36,
   "metadata": {},
   "outputs": [
    {
     "data": {
      "application/vnd.plotly.v1+json": {
       "config": {
        "plotlyServerURL": "https://plot.ly"
       },
       "data": [
        {
         "hoverlabel": {
          "namelength": 0
         },
         "hovertemplate": "x=%{x}<br>y=%{y}",
         "legendgroup": "",
         "line": {
          "color": "#636efa",
          "dash": "solid"
         },
         "mode": "lines",
         "name": "",
         "showlegend": false,
         "type": "scatter",
         "x": [
          -5,
          -4.9,
          -4.8,
          -4.7,
          -4.6,
          -4.5,
          -4.4,
          -4.3,
          -4.2,
          -4.1,
          -4,
          -3.9,
          -3.8,
          -3.7,
          -3.5999999999999996,
          -3.5,
          -3.4,
          -3.3,
          -3.2,
          -3.0999999999999996,
          -3,
          -2.9,
          -2.8,
          -2.6999999999999997,
          -2.5999999999999996,
          -2.5,
          -2.4,
          -2.3,
          -2.1999999999999997,
          -2.0999999999999996,
          -2,
          -1.9,
          -1.7999999999999998,
          -1.6999999999999997,
          -1.5999999999999996,
          -1.5,
          -1.4,
          -1.2999999999999998,
          -1.1999999999999997,
          -1.0999999999999996,
          -1,
          -0.8999999999999995,
          -0.7999999999999998,
          -0.7000000000000002,
          -0.5999999999999996,
          -0.5,
          -0.39999999999999947,
          -0.2999999999999998,
          -0.1999999999999993,
          -0.09999999999999964,
          0,
          0.10000000000000053,
          0.20000000000000018,
          0.3000000000000007,
          0.40000000000000036,
          0.5,
          0.6000000000000005,
          0.7000000000000002,
          0.8000000000000007,
          0.9000000000000004,
          1,
          1.1000000000000005,
          1.2000000000000002,
          1.3000000000000007,
          1.4000000000000004,
          1.5,
          1.6000000000000005,
          1.7000000000000002,
          1.8000000000000007,
          1.9000000000000004,
          2,
          2.1000000000000005,
          2.2,
          2.3000000000000007,
          2.4000000000000004,
          2.5,
          2.6000000000000005,
          2.7,
          2.8000000000000007,
          2.9000000000000004,
          3,
          3.0999999999999996,
          3.200000000000001,
          3.3000000000000007,
          3.4000000000000004,
          3.5,
          3.5999999999999996,
          3.700000000000001,
          3.8000000000000007,
          3.9000000000000004,
          4,
          4.1,
          4.200000000000001,
          4.300000000000001,
          4.4,
          4.5,
          4.600000000000001,
          4.700000000000001,
          4.800000000000001,
          4.9
         ],
         "xaxis": "x",
         "y": [
          1.4867195147342977e-06,
          2.438960745893352e-06,
          3.961299091032075e-06,
          6.36982517886709e-06,
          1.0140852065486758e-05,
          1.5983741106905475e-05,
          2.4942471290053535e-05,
          3.853519674208713e-05,
          5.8943067756539855e-05,
          8.926165717713293e-05,
          0.00013383022576488537,
          0.00019865547139277272,
          0.00029194692579146027,
          0.00042478027055075143,
          0.000611901930113773,
          0.0008726826950457602,
          0.00123221916847302,
          0.0017225689390536812,
          0.0023840882014648404,
          0.0032668190561999247,
          0.0044318484119380075,
          0.005952532419775854,
          0.007915451582979969,
          0.010420934814422605,
          0.013582969233685634,
          0.01752830049356854,
          0.0223945302948429,
          0.028327037741601186,
          0.03547459284623146,
          0.04398359598042723,
          0.05399096651318806,
          0.0656158147746766,
          0.07895015830089418,
          0.09404907737688697,
          0.11092083467945563,
          0.12951759566589174,
          0.14972746563574488,
          0.1713685920478074,
          0.19418605498321304,
          0.21785217703255064,
          0.24197072451914337,
          0.266085249898755,
          0.2896915527614828,
          0.3122539333667612,
          0.3332246028917997,
          0.3520653267642995,
          0.3682701403033234,
          0.38138781546052414,
          0.391042693975456,
          0.3969525474770118,
          0.3989422804014327,
          0.39695254747701175,
          0.3910426939754559,
          0.381387815460524,
          0.3682701403033233,
          0.3520653267642995,
          0.33322460289179956,
          0.3122539333667612,
          0.28969155276148256,
          0.26608524989875476,
          0.24197072451914337,
          0.21785217703255041,
          0.19418605498321292,
          0.1713685920478072,
          0.1497274656357448,
          0.12951759566589174,
          0.11092083467945546,
          0.0940490773768869,
          0.07895015830089407,
          0.06561581477467655,
          0.05399096651318806,
          0.043983595980427156,
          0.035474592846231424,
          0.02832703774160112,
          0.022394530294842882,
          0.01752830049356854,
          0.013582969233685602,
          0.010420934814422592,
          0.007915451582979946,
          0.005952532419775849,
          0.0044318484119380075,
          0.0032668190561999247,
          0.0023840882014648343,
          0.0017225689390536767,
          0.0012322191684730175,
          0.0008726826950457602,
          0.000611901930113773,
          0.00042478027055074997,
          0.0002919469257914595,
          0.00019865547139277237,
          0.00013383022576488537,
          8.926165717713293e-05,
          5.8943067756539645e-05,
          3.8535196742086994e-05,
          2.4942471290053535e-05,
          1.5983741106905475e-05,
          1.014085206548667e-05,
          6.369825178867068e-06,
          3.961299091032061e-06,
          2.438960745893352e-06
         ],
         "yaxis": "y"
        }
       ],
       "layout": {
        "autosize": true,
        "legend": {
         "tracegroupgap": 0
        },
        "margin": {
         "t": 60
        },
        "template": {
         "data": {
          "bar": [
           {
            "error_x": {
             "color": "#2a3f5f"
            },
            "error_y": {
             "color": "#2a3f5f"
            },
            "marker": {
             "line": {
              "color": "#E5ECF6",
              "width": 0.5
             }
            },
            "type": "bar"
           }
          ],
          "barpolar": [
           {
            "marker": {
             "line": {
              "color": "#E5ECF6",
              "width": 0.5
             }
            },
            "type": "barpolar"
           }
          ],
          "carpet": [
           {
            "aaxis": {
             "endlinecolor": "#2a3f5f",
             "gridcolor": "white",
             "linecolor": "white",
             "minorgridcolor": "white",
             "startlinecolor": "#2a3f5f"
            },
            "baxis": {
             "endlinecolor": "#2a3f5f",
             "gridcolor": "white",
             "linecolor": "white",
             "minorgridcolor": "white",
             "startlinecolor": "#2a3f5f"
            },
            "type": "carpet"
           }
          ],
          "choropleth": [
           {
            "colorbar": {
             "outlinewidth": 0,
             "ticks": ""
            },
            "type": "choropleth"
           }
          ],
          "contour": [
           {
            "colorbar": {
             "outlinewidth": 0,
             "ticks": ""
            },
            "colorscale": [
             [
              0,
              "#0d0887"
             ],
             [
              0.1111111111111111,
              "#46039f"
             ],
             [
              0.2222222222222222,
              "#7201a8"
             ],
             [
              0.3333333333333333,
              "#9c179e"
             ],
             [
              0.4444444444444444,
              "#bd3786"
             ],
             [
              0.5555555555555556,
              "#d8576b"
             ],
             [
              0.6666666666666666,
              "#ed7953"
             ],
             [
              0.7777777777777778,
              "#fb9f3a"
             ],
             [
              0.8888888888888888,
              "#fdca26"
             ],
             [
              1,
              "#f0f921"
             ]
            ],
            "type": "contour"
           }
          ],
          "contourcarpet": [
           {
            "colorbar": {
             "outlinewidth": 0,
             "ticks": ""
            },
            "type": "contourcarpet"
           }
          ],
          "heatmap": [
           {
            "colorbar": {
             "outlinewidth": 0,
             "ticks": ""
            },
            "colorscale": [
             [
              0,
              "#0d0887"
             ],
             [
              0.1111111111111111,
              "#46039f"
             ],
             [
              0.2222222222222222,
              "#7201a8"
             ],
             [
              0.3333333333333333,
              "#9c179e"
             ],
             [
              0.4444444444444444,
              "#bd3786"
             ],
             [
              0.5555555555555556,
              "#d8576b"
             ],
             [
              0.6666666666666666,
              "#ed7953"
             ],
             [
              0.7777777777777778,
              "#fb9f3a"
             ],
             [
              0.8888888888888888,
              "#fdca26"
             ],
             [
              1,
              "#f0f921"
             ]
            ],
            "type": "heatmap"
           }
          ],
          "heatmapgl": [
           {
            "colorbar": {
             "outlinewidth": 0,
             "ticks": ""
            },
            "colorscale": [
             [
              0,
              "#0d0887"
             ],
             [
              0.1111111111111111,
              "#46039f"
             ],
             [
              0.2222222222222222,
              "#7201a8"
             ],
             [
              0.3333333333333333,
              "#9c179e"
             ],
             [
              0.4444444444444444,
              "#bd3786"
             ],
             [
              0.5555555555555556,
              "#d8576b"
             ],
             [
              0.6666666666666666,
              "#ed7953"
             ],
             [
              0.7777777777777778,
              "#fb9f3a"
             ],
             [
              0.8888888888888888,
              "#fdca26"
             ],
             [
              1,
              "#f0f921"
             ]
            ],
            "type": "heatmapgl"
           }
          ],
          "histogram": [
           {
            "marker": {
             "colorbar": {
              "outlinewidth": 0,
              "ticks": ""
             }
            },
            "type": "histogram"
           }
          ],
          "histogram2d": [
           {
            "colorbar": {
             "outlinewidth": 0,
             "ticks": ""
            },
            "colorscale": [
             [
              0,
              "#0d0887"
             ],
             [
              0.1111111111111111,
              "#46039f"
             ],
             [
              0.2222222222222222,
              "#7201a8"
             ],
             [
              0.3333333333333333,
              "#9c179e"
             ],
             [
              0.4444444444444444,
              "#bd3786"
             ],
             [
              0.5555555555555556,
              "#d8576b"
             ],
             [
              0.6666666666666666,
              "#ed7953"
             ],
             [
              0.7777777777777778,
              "#fb9f3a"
             ],
             [
              0.8888888888888888,
              "#fdca26"
             ],
             [
              1,
              "#f0f921"
             ]
            ],
            "type": "histogram2d"
           }
          ],
          "histogram2dcontour": [
           {
            "colorbar": {
             "outlinewidth": 0,
             "ticks": ""
            },
            "colorscale": [
             [
              0,
              "#0d0887"
             ],
             [
              0.1111111111111111,
              "#46039f"
             ],
             [
              0.2222222222222222,
              "#7201a8"
             ],
             [
              0.3333333333333333,
              "#9c179e"
             ],
             [
              0.4444444444444444,
              "#bd3786"
             ],
             [
              0.5555555555555556,
              "#d8576b"
             ],
             [
              0.6666666666666666,
              "#ed7953"
             ],
             [
              0.7777777777777778,
              "#fb9f3a"
             ],
             [
              0.8888888888888888,
              "#fdca26"
             ],
             [
              1,
              "#f0f921"
             ]
            ],
            "type": "histogram2dcontour"
           }
          ],
          "mesh3d": [
           {
            "colorbar": {
             "outlinewidth": 0,
             "ticks": ""
            },
            "type": "mesh3d"
           }
          ],
          "parcoords": [
           {
            "line": {
             "colorbar": {
              "outlinewidth": 0,
              "ticks": ""
             }
            },
            "type": "parcoords"
           }
          ],
          "pie": [
           {
            "automargin": true,
            "type": "pie"
           }
          ],
          "scatter": [
           {
            "marker": {
             "colorbar": {
              "outlinewidth": 0,
              "ticks": ""
             }
            },
            "type": "scatter"
           }
          ],
          "scatter3d": [
           {
            "line": {
             "colorbar": {
              "outlinewidth": 0,
              "ticks": ""
             }
            },
            "marker": {
             "colorbar": {
              "outlinewidth": 0,
              "ticks": ""
             }
            },
            "type": "scatter3d"
           }
          ],
          "scattercarpet": [
           {
            "marker": {
             "colorbar": {
              "outlinewidth": 0,
              "ticks": ""
             }
            },
            "type": "scattercarpet"
           }
          ],
          "scattergeo": [
           {
            "marker": {
             "colorbar": {
              "outlinewidth": 0,
              "ticks": ""
             }
            },
            "type": "scattergeo"
           }
          ],
          "scattergl": [
           {
            "marker": {
             "colorbar": {
              "outlinewidth": 0,
              "ticks": ""
             }
            },
            "type": "scattergl"
           }
          ],
          "scattermapbox": [
           {
            "marker": {
             "colorbar": {
              "outlinewidth": 0,
              "ticks": ""
             }
            },
            "type": "scattermapbox"
           }
          ],
          "scatterpolar": [
           {
            "marker": {
             "colorbar": {
              "outlinewidth": 0,
              "ticks": ""
             }
            },
            "type": "scatterpolar"
           }
          ],
          "scatterpolargl": [
           {
            "marker": {
             "colorbar": {
              "outlinewidth": 0,
              "ticks": ""
             }
            },
            "type": "scatterpolargl"
           }
          ],
          "scatterternary": [
           {
            "marker": {
             "colorbar": {
              "outlinewidth": 0,
              "ticks": ""
             }
            },
            "type": "scatterternary"
           }
          ],
          "surface": [
           {
            "colorbar": {
             "outlinewidth": 0,
             "ticks": ""
            },
            "colorscale": [
             [
              0,
              "#0d0887"
             ],
             [
              0.1111111111111111,
              "#46039f"
             ],
             [
              0.2222222222222222,
              "#7201a8"
             ],
             [
              0.3333333333333333,
              "#9c179e"
             ],
             [
              0.4444444444444444,
              "#bd3786"
             ],
             [
              0.5555555555555556,
              "#d8576b"
             ],
             [
              0.6666666666666666,
              "#ed7953"
             ],
             [
              0.7777777777777778,
              "#fb9f3a"
             ],
             [
              0.8888888888888888,
              "#fdca26"
             ],
             [
              1,
              "#f0f921"
             ]
            ],
            "type": "surface"
           }
          ],
          "table": [
           {
            "cells": {
             "fill": {
              "color": "#EBF0F8"
             },
             "line": {
              "color": "white"
             }
            },
            "header": {
             "fill": {
              "color": "#C8D4E3"
             },
             "line": {
              "color": "white"
             }
            },
            "type": "table"
           }
          ]
         },
         "layout": {
          "annotationdefaults": {
           "arrowcolor": "#2a3f5f",
           "arrowhead": 0,
           "arrowwidth": 1
          },
          "coloraxis": {
           "colorbar": {
            "outlinewidth": 0,
            "ticks": ""
           }
          },
          "colorscale": {
           "diverging": [
            [
             0,
             "#8e0152"
            ],
            [
             0.1,
             "#c51b7d"
            ],
            [
             0.2,
             "#de77ae"
            ],
            [
             0.3,
             "#f1b6da"
            ],
            [
             0.4,
             "#fde0ef"
            ],
            [
             0.5,
             "#f7f7f7"
            ],
            [
             0.6,
             "#e6f5d0"
            ],
            [
             0.7,
             "#b8e186"
            ],
            [
             0.8,
             "#7fbc41"
            ],
            [
             0.9,
             "#4d9221"
            ],
            [
             1,
             "#276419"
            ]
           ],
           "sequential": [
            [
             0,
             "#0d0887"
            ],
            [
             0.1111111111111111,
             "#46039f"
            ],
            [
             0.2222222222222222,
             "#7201a8"
            ],
            [
             0.3333333333333333,
             "#9c179e"
            ],
            [
             0.4444444444444444,
             "#bd3786"
            ],
            [
             0.5555555555555556,
             "#d8576b"
            ],
            [
             0.6666666666666666,
             "#ed7953"
            ],
            [
             0.7777777777777778,
             "#fb9f3a"
            ],
            [
             0.8888888888888888,
             "#fdca26"
            ],
            [
             1,
             "#f0f921"
            ]
           ],
           "sequentialminus": [
            [
             0,
             "#0d0887"
            ],
            [
             0.1111111111111111,
             "#46039f"
            ],
            [
             0.2222222222222222,
             "#7201a8"
            ],
            [
             0.3333333333333333,
             "#9c179e"
            ],
            [
             0.4444444444444444,
             "#bd3786"
            ],
            [
             0.5555555555555556,
             "#d8576b"
            ],
            [
             0.6666666666666666,
             "#ed7953"
            ],
            [
             0.7777777777777778,
             "#fb9f3a"
            ],
            [
             0.8888888888888888,
             "#fdca26"
            ],
            [
             1,
             "#f0f921"
            ]
           ]
          },
          "colorway": [
           "#636efa",
           "#EF553B",
           "#00cc96",
           "#ab63fa",
           "#FFA15A",
           "#19d3f3",
           "#FF6692",
           "#B6E880",
           "#FF97FF",
           "#FECB52"
          ],
          "font": {
           "color": "#2a3f5f"
          },
          "geo": {
           "bgcolor": "white",
           "lakecolor": "white",
           "landcolor": "#E5ECF6",
           "showlakes": true,
           "showland": true,
           "subunitcolor": "white"
          },
          "hoverlabel": {
           "align": "left"
          },
          "hovermode": "closest",
          "mapbox": {
           "style": "light"
          },
          "paper_bgcolor": "white",
          "plot_bgcolor": "#E5ECF6",
          "polar": {
           "angularaxis": {
            "gridcolor": "white",
            "linecolor": "white",
            "ticks": ""
           },
           "bgcolor": "#E5ECF6",
           "radialaxis": {
            "gridcolor": "white",
            "linecolor": "white",
            "ticks": ""
           }
          },
          "scene": {
           "xaxis": {
            "backgroundcolor": "#E5ECF6",
            "gridcolor": "white",
            "gridwidth": 2,
            "linecolor": "white",
            "showbackground": true,
            "ticks": "",
            "zerolinecolor": "white"
           },
           "yaxis": {
            "backgroundcolor": "#E5ECF6",
            "gridcolor": "white",
            "gridwidth": 2,
            "linecolor": "white",
            "showbackground": true,
            "ticks": "",
            "zerolinecolor": "white"
           },
           "zaxis": {
            "backgroundcolor": "#E5ECF6",
            "gridcolor": "white",
            "gridwidth": 2,
            "linecolor": "white",
            "showbackground": true,
            "ticks": "",
            "zerolinecolor": "white"
           }
          },
          "shapedefaults": {
           "line": {
            "color": "#2a3f5f"
           }
          },
          "ternary": {
           "aaxis": {
            "gridcolor": "white",
            "linecolor": "white",
            "ticks": ""
           },
           "baxis": {
            "gridcolor": "white",
            "linecolor": "white",
            "ticks": ""
           },
           "bgcolor": "#E5ECF6",
           "caxis": {
            "gridcolor": "white",
            "linecolor": "white",
            "ticks": ""
           }
          },
          "title": {
           "x": 0.05
          },
          "xaxis": {
           "automargin": true,
           "gridcolor": "white",
           "linecolor": "white",
           "ticks": "",
           "title": {
            "standoff": 15
           },
           "zerolinecolor": "white",
           "zerolinewidth": 2
          },
          "yaxis": {
           "automargin": true,
           "gridcolor": "white",
           "linecolor": "white",
           "ticks": "",
           "title": {
            "standoff": 15
           },
           "zerolinecolor": "white",
           "zerolinewidth": 2
          }
         }
        },
        "xaxis": {
         "anchor": "y",
         "autorange": true,
         "domain": [
          0,
          1
         ],
         "range": [
          -5,
          4.9
         ],
         "title": {
          "text": "x"
         },
         "type": "linear"
        },
        "yaxis": {
         "anchor": "x",
         "autorange": true,
         "domain": [
          0,
          1
         ],
         "range": [
          -0.022161890707258484,
          0.4211056578282059
         ],
         "title": {
          "text": "y"
         },
         "type": "linear"
        }
       }
      },
      "image/png": "[encoded data removed]",
      "text/html": [
       "<div>\n",
       "        \n",
       "        \n",
       "            <div id=\"b0c5c457-2af6-4df9-99f0-ffdfc9d59a56\" class=\"plotly-graph-div\" style=\"height:525px; width:100%;\"></div>\n",
       "            <script type=\"text/javascript\">\n",
       "                require([\"plotly\"], function(Plotly) {\n",
       "                    window.PLOTLYENV=window.PLOTLYENV || {};\n",
       "                    \n",
       "                if (document.getElementById(\"b0c5c457-2af6-4df9-99f0-ffdfc9d59a56\")) {\n",
       "                    Plotly.newPlot(\n",
       "                        'b0c5c457-2af6-4df9-99f0-ffdfc9d59a56',\n",
       "                        [{\"hoverlabel\": {\"namelength\": 0}, \"hovertemplate\": \"x=%{x}<br>y=%{y}\", \"legendgroup\": \"\", \"line\": {\"color\": \"#636efa\", \"dash\": \"solid\"}, \"mode\": \"lines\", \"name\": \"\", \"showlegend\": false, \"type\": \"scatter\", \"x\": [-5.0, -4.9, -4.8, -4.7, -4.6, -4.5, -4.4, -4.3, -4.2, -4.1, -4.0, -3.9, -3.8, -3.7, -3.5999999999999996, -3.5, -3.4, -3.3, -3.2, -3.0999999999999996, -3.0, -2.9, -2.8, -2.6999999999999997, -2.5999999999999996, -2.5, -2.4, -2.3, -2.1999999999999997, -2.0999999999999996, -2.0, -1.9, -1.7999999999999998, -1.6999999999999997, -1.5999999999999996, -1.5, -1.4, -1.2999999999999998, -1.1999999999999997, -1.0999999999999996, -1.0, -0.8999999999999995, -0.7999999999999998, -0.7000000000000002, -0.5999999999999996, -0.5, -0.39999999999999947, -0.2999999999999998, -0.1999999999999993, -0.09999999999999964, 0.0, 0.10000000000000053, 0.20000000000000018, 0.3000000000000007, 0.40000000000000036, 0.5, 0.6000000000000005, 0.7000000000000002, 0.8000000000000007, 0.9000000000000004, 1.0, 1.1000000000000005, 1.2000000000000002, 1.3000000000000007, 1.4000000000000004, 1.5, 1.6000000000000005, 1.7000000000000002, 1.8000000000000007, 1.9000000000000004, 2.0, 2.1000000000000005, 2.2, 2.3000000000000007, 2.4000000000000004, 2.5, 2.6000000000000005, 2.7, 2.8000000000000007, 2.9000000000000004, 3.0, 3.0999999999999996, 3.200000000000001, 3.3000000000000007, 3.4000000000000004, 3.5, 3.5999999999999996, 3.700000000000001, 3.8000000000000007, 3.9000000000000004, 4.0, 4.1, 4.200000000000001, 4.300000000000001, 4.4, 4.5, 4.600000000000001, 4.700000000000001, 4.800000000000001, 4.9], \"xaxis\": \"x\", \"y\": [1.4867195147342977e-06, 2.438960745893352e-06, 3.961299091032075e-06, 6.36982517886709e-06, 1.0140852065486758e-05, 1.5983741106905475e-05, 2.4942471290053535e-05, 3.853519674208713e-05, 5.8943067756539855e-05, 8.926165717713293e-05, 0.00013383022576488537, 0.00019865547139277272, 0.00029194692579146027, 0.00042478027055075143, 0.000611901930113773, 0.0008726826950457602, 0.00123221916847302, 0.0017225689390536812, 0.0023840882014648404, 0.0032668190561999247, 0.0044318484119380075, 0.005952532419775854, 0.007915451582979969, 0.010420934814422605, 0.013582969233685634, 0.01752830049356854, 0.0223945302948429, 0.028327037741601186, 0.03547459284623146, 0.04398359598042723, 0.05399096651318806, 0.0656158147746766, 0.07895015830089418, 0.09404907737688697, 0.11092083467945563, 0.12951759566589174, 0.14972746563574488, 0.1713685920478074, 0.19418605498321304, 0.21785217703255064, 0.24197072451914337, 0.266085249898755, 0.2896915527614828, 0.3122539333667612, 0.3332246028917997, 0.3520653267642995, 0.3682701403033234, 0.38138781546052414, 0.391042693975456, 0.3969525474770118, 0.3989422804014327, 0.39695254747701175, 0.3910426939754559, 0.381387815460524, 0.3682701403033233, 0.3520653267642995, 0.33322460289179956, 0.3122539333667612, 0.28969155276148256, 0.26608524989875476, 0.24197072451914337, 0.21785217703255041, 0.19418605498321292, 0.1713685920478072, 0.1497274656357448, 0.12951759566589174, 0.11092083467945546, 0.0940490773768869, 0.07895015830089407, 0.06561581477467655, 0.05399096651318806, 0.043983595980427156, 0.035474592846231424, 0.02832703774160112, 0.022394530294842882, 0.01752830049356854, 0.013582969233685602, 0.010420934814422592, 0.007915451582979946, 0.005952532419775849, 0.0044318484119380075, 0.0032668190561999247, 0.0023840882014648343, 0.0017225689390536767, 0.0012322191684730175, 0.0008726826950457602, 0.000611901930113773, 0.00042478027055074997, 0.0002919469257914595, 0.00019865547139277237, 0.00013383022576488537, 8.926165717713293e-05, 5.8943067756539645e-05, 3.8535196742086994e-05, 2.4942471290053535e-05, 1.5983741106905475e-05, 1.014085206548667e-05, 6.369825178867068e-06, 3.961299091032061e-06, 2.438960745893352e-06], \"yaxis\": \"y\"}],\n",
       "                        {\"legend\": {\"tracegroupgap\": 0}, \"margin\": {\"t\": 60}, \"template\": {\"data\": {\"bar\": [{\"error_x\": {\"color\": \"#2a3f5f\"}, \"error_y\": {\"color\": \"#2a3f5f\"}, \"marker\": {\"line\": {\"color\": \"#E5ECF6\", \"width\": 0.5}}, \"type\": \"bar\"}], \"barpolar\": [{\"marker\": {\"line\": {\"color\": \"#E5ECF6\", \"width\": 0.5}}, \"type\": \"barpolar\"}], \"carpet\": [{\"aaxis\": {\"endlinecolor\": \"#2a3f5f\", \"gridcolor\": \"white\", \"linecolor\": \"white\", \"minorgridcolor\": \"white\", \"startlinecolor\": \"#2a3f5f\"}, \"baxis\": {\"endlinecolor\": \"#2a3f5f\", \"gridcolor\": \"white\", \"linecolor\": \"white\", \"minorgridcolor\": \"white\", \"startlinecolor\": \"#2a3f5f\"}, \"type\": \"carpet\"}], \"choropleth\": [{\"colorbar\": {\"outlinewidth\": 0, \"ticks\": \"\"}, \"type\": \"choropleth\"}], \"contour\": [{\"colorbar\": {\"outlinewidth\": 0, \"ticks\": \"\"}, \"colorscale\": [[0.0, \"#0d0887\"], [0.1111111111111111, \"#46039f\"], [0.2222222222222222, \"#7201a8\"], [0.3333333333333333, \"#9c179e\"], [0.4444444444444444, \"#bd3786\"], [0.5555555555555556, \"#d8576b\"], [0.6666666666666666, \"#ed7953\"], [0.7777777777777778, \"#fb9f3a\"], [0.8888888888888888, \"#fdca26\"], [1.0, \"#f0f921\"]], \"type\": \"contour\"}], \"contourcarpet\": [{\"colorbar\": {\"outlinewidth\": 0, \"ticks\": \"\"}, \"type\": \"contourcarpet\"}], \"heatmap\": [{\"colorbar\": {\"outlinewidth\": 0, \"ticks\": \"\"}, \"colorscale\": [[0.0, \"#0d0887\"], [0.1111111111111111, \"#46039f\"], [0.2222222222222222, \"#7201a8\"], [0.3333333333333333, \"#9c179e\"], [0.4444444444444444, \"#bd3786\"], [0.5555555555555556, \"#d8576b\"], [0.6666666666666666, \"#ed7953\"], [0.7777777777777778, \"#fb9f3a\"], [0.8888888888888888, \"#fdca26\"], [1.0, \"#f0f921\"]], \"type\": \"heatmap\"}], \"heatmapgl\": [{\"colorbar\": {\"outlinewidth\": 0, \"ticks\": \"\"}, \"colorscale\": [[0.0, \"#0d0887\"], [0.1111111111111111, \"#46039f\"], [0.2222222222222222, \"#7201a8\"], [0.3333333333333333, \"#9c179e\"], [0.4444444444444444, \"#bd3786\"], [0.5555555555555556, \"#d8576b\"], [0.6666666666666666, \"#ed7953\"], [0.7777777777777778, \"#fb9f3a\"], [0.8888888888888888, \"#fdca26\"], [1.0, \"#f0f921\"]], \"type\": \"heatmapgl\"}], \"histogram\": [{\"marker\": {\"colorbar\": {\"outlinewidth\": 0, \"ticks\": \"\"}}, \"type\": \"histogram\"}], \"histogram2d\": [{\"colorbar\": {\"outlinewidth\": 0, \"ticks\": \"\"}, \"colorscale\": [[0.0, \"#0d0887\"], [0.1111111111111111, \"#46039f\"], [0.2222222222222222, \"#7201a8\"], [0.3333333333333333, \"#9c179e\"], [0.4444444444444444, \"#bd3786\"], [0.5555555555555556, \"#d8576b\"], [0.6666666666666666, \"#ed7953\"], [0.7777777777777778, \"#fb9f3a\"], [0.8888888888888888, \"#fdca26\"], [1.0, \"#f0f921\"]], \"type\": \"histogram2d\"}], \"histogram2dcontour\": [{\"colorbar\": {\"outlinewidth\": 0, \"ticks\": \"\"}, \"colorscale\": [[0.0, \"#0d0887\"], [0.1111111111111111, \"#46039f\"], [0.2222222222222222, \"#7201a8\"], [0.3333333333333333, \"#9c179e\"], [0.4444444444444444, \"#bd3786\"], [0.5555555555555556, \"#d8576b\"], [0.6666666666666666, \"#ed7953\"], [0.7777777777777778, \"#fb9f3a\"], [0.8888888888888888, \"#fdca26\"], [1.0, \"#f0f921\"]], \"type\": \"histogram2dcontour\"}], \"mesh3d\": [{\"colorbar\": {\"outlinewidth\": 0, \"ticks\": \"\"}, \"type\": \"mesh3d\"}], \"parcoords\": [{\"line\": {\"colorbar\": {\"outlinewidth\": 0, \"ticks\": \"\"}}, \"type\": \"parcoords\"}], \"pie\": [{\"automargin\": true, \"type\": \"pie\"}], \"scatter\": [{\"marker\": {\"colorbar\": {\"outlinewidth\": 0, \"ticks\": \"\"}}, \"type\": \"scatter\"}], \"scatter3d\": [{\"line\": {\"colorbar\": {\"outlinewidth\": 0, \"ticks\": \"\"}}, \"marker\": {\"colorbar\": {\"outlinewidth\": 0, \"ticks\": \"\"}}, \"type\": \"scatter3d\"}], \"scattercarpet\": [{\"marker\": {\"colorbar\": {\"outlinewidth\": 0, \"ticks\": \"\"}}, \"type\": \"scattercarpet\"}], \"scattergeo\": [{\"marker\": {\"colorbar\": {\"outlinewidth\": 0, \"ticks\": \"\"}}, \"type\": \"scattergeo\"}], \"scattergl\": [{\"marker\": {\"colorbar\": {\"outlinewidth\": 0, \"ticks\": \"\"}}, \"type\": \"scattergl\"}], \"scattermapbox\": [{\"marker\": {\"colorbar\": {\"outlinewidth\": 0, \"ticks\": \"\"}}, \"type\": \"scattermapbox\"}], \"scatterpolar\": [{\"marker\": {\"colorbar\": {\"outlinewidth\": 0, \"ticks\": \"\"}}, \"type\": \"scatterpolar\"}], \"scatterpolargl\": [{\"marker\": {\"colorbar\": {\"outlinewidth\": 0, \"ticks\": \"\"}}, \"type\": \"scatterpolargl\"}], \"scatterternary\": [{\"marker\": {\"colorbar\": {\"outlinewidth\": 0, \"ticks\": \"\"}}, \"type\": \"scatterternary\"}], \"surface\": [{\"colorbar\": {\"outlinewidth\": 0, \"ticks\": \"\"}, \"colorscale\": [[0.0, \"#0d0887\"], [0.1111111111111111, \"#46039f\"], [0.2222222222222222, \"#7201a8\"], [0.3333333333333333, \"#9c179e\"], [0.4444444444444444, \"#bd3786\"], [0.5555555555555556, \"#d8576b\"], [0.6666666666666666, \"#ed7953\"], [0.7777777777777778, \"#fb9f3a\"], [0.8888888888888888, \"#fdca26\"], [1.0, \"#f0f921\"]], \"type\": \"surface\"}], \"table\": [{\"cells\": {\"fill\": {\"color\": \"#EBF0F8\"}, \"line\": {\"color\": \"white\"}}, \"header\": {\"fill\": {\"color\": \"#C8D4E3\"}, \"line\": {\"color\": \"white\"}}, \"type\": \"table\"}]}, \"layout\": {\"annotationdefaults\": {\"arrowcolor\": \"#2a3f5f\", \"arrowhead\": 0, \"arrowwidth\": 1}, \"coloraxis\": {\"colorbar\": {\"outlinewidth\": 0, \"ticks\": \"\"}}, \"colorscale\": {\"diverging\": [[0, \"#8e0152\"], [0.1, \"#c51b7d\"], [0.2, \"#de77ae\"], [0.3, \"#f1b6da\"], [0.4, \"#fde0ef\"], [0.5, \"#f7f7f7\"], [0.6, \"#e6f5d0\"], [0.7, \"#b8e186\"], [0.8, \"#7fbc41\"], [0.9, \"#4d9221\"], [1, \"#276419\"]], \"sequential\": [[0.0, \"#0d0887\"], [0.1111111111111111, \"#46039f\"], [0.2222222222222222, \"#7201a8\"], [0.3333333333333333, \"#9c179e\"], [0.4444444444444444, \"#bd3786\"], [0.5555555555555556, \"#d8576b\"], [0.6666666666666666, \"#ed7953\"], [0.7777777777777778, \"#fb9f3a\"], [0.8888888888888888, \"#fdca26\"], [1.0, \"#f0f921\"]], \"sequentialminus\": [[0.0, \"#0d0887\"], [0.1111111111111111, \"#46039f\"], [0.2222222222222222, \"#7201a8\"], [0.3333333333333333, \"#9c179e\"], [0.4444444444444444, \"#bd3786\"], [0.5555555555555556, \"#d8576b\"], [0.6666666666666666, \"#ed7953\"], [0.7777777777777778, \"#fb9f3a\"], [0.8888888888888888, \"#fdca26\"], [1.0, \"#f0f921\"]]}, \"colorway\": [\"#636efa\", \"#EF553B\", \"#00cc96\", \"#ab63fa\", \"#FFA15A\", \"#19d3f3\", \"#FF6692\", \"#B6E880\", \"#FF97FF\", \"#FECB52\"], \"font\": {\"color\": \"#2a3f5f\"}, \"geo\": {\"bgcolor\": \"white\", \"lakecolor\": \"white\", \"landcolor\": \"#E5ECF6\", \"showlakes\": true, \"showland\": true, \"subunitcolor\": \"white\"}, \"hoverlabel\": {\"align\": \"left\"}, \"hovermode\": \"closest\", \"mapbox\": {\"style\": \"light\"}, \"paper_bgcolor\": \"white\", \"plot_bgcolor\": \"#E5ECF6\", \"polar\": {\"angularaxis\": {\"gridcolor\": \"white\", \"linecolor\": \"white\", \"ticks\": \"\"}, \"bgcolor\": \"#E5ECF6\", \"radialaxis\": {\"gridcolor\": \"white\", \"linecolor\": \"white\", \"ticks\": \"\"}}, \"scene\": {\"xaxis\": {\"backgroundcolor\": \"#E5ECF6\", \"gridcolor\": \"white\", \"gridwidth\": 2, \"linecolor\": \"white\", \"showbackground\": true, \"ticks\": \"\", \"zerolinecolor\": \"white\"}, \"yaxis\": {\"backgroundcolor\": \"#E5ECF6\", \"gridcolor\": \"white\", \"gridwidth\": 2, \"linecolor\": \"white\", \"showbackground\": true, \"ticks\": \"\", \"zerolinecolor\": \"white\"}, \"zaxis\": {\"backgroundcolor\": \"#E5ECF6\", \"gridcolor\": \"white\", \"gridwidth\": 2, \"linecolor\": \"white\", \"showbackground\": true, \"ticks\": \"\", \"zerolinecolor\": \"white\"}}, \"shapedefaults\": {\"line\": {\"color\": \"#2a3f5f\"}}, \"ternary\": {\"aaxis\": {\"gridcolor\": \"white\", \"linecolor\": \"white\", \"ticks\": \"\"}, \"baxis\": {\"gridcolor\": \"white\", \"linecolor\": \"white\", \"ticks\": \"\"}, \"bgcolor\": \"#E5ECF6\", \"caxis\": {\"gridcolor\": \"white\", \"linecolor\": \"white\", \"ticks\": \"\"}}, \"title\": {\"x\": 0.05}, \"xaxis\": {\"automargin\": true, \"gridcolor\": \"white\", \"linecolor\": \"white\", \"ticks\": \"\", \"title\": {\"standoff\": 15}, \"zerolinecolor\": \"white\", \"zerolinewidth\": 2}, \"yaxis\": {\"automargin\": true, \"gridcolor\": \"white\", \"linecolor\": \"white\", \"ticks\": \"\", \"title\": {\"standoff\": 15}, \"zerolinecolor\": \"white\", \"zerolinewidth\": 2}}}, \"xaxis\": {\"anchor\": \"y\", \"domain\": [0.0, 1.0], \"title\": {\"text\": \"x\"}}, \"yaxis\": {\"anchor\": \"x\", \"domain\": [0.0, 1.0], \"title\": {\"text\": \"y\"}}},\n",
       "                        {\"responsive\": true}\n",
       "                    ).then(function(){\n",
       "                            \n",
       "var gd = document.getElementById('b0c5c457-2af6-4df9-99f0-ffdfc9d59a56');\n",
       "var x = new MutationObserver(function (mutations, observer) {{\n",
       "        var display = window.getComputedStyle(gd).display;\n",
       "        if (!display || display === 'none') {{\n",
       "            console.log([gd, 'removed!']);\n",
       "            Plotly.purge(gd);\n",
       "            observer.disconnect();\n",
       "        }}\n",
       "}});\n",
       "\n",
       "// Listen for the removal of the full notebook cells\n",
       "var notebookContainer = gd.closest('#notebook-container');\n",
       "if (notebookContainer) {{\n",
       "    x.observe(notebookContainer, {childList: true});\n",
       "}}\n",
       "\n",
       "// Listen for the clearing of the current output cell\n",
       "var outputEl = gd.closest('.output');\n",
       "if (outputEl) {{\n",
       "    x.observe(outputEl, {childList: true});\n",
       "}}\n",
       "\n",
       "                        })\n",
       "                };\n",
       "                });\n",
       "            </script>\n",
       "        </div>"
      ]
     },
     "metadata": {},
     "output_type": "display_data"
    }
   ],
   "source": [
    "px.line(x=x,y=y1)"
   ]
  },
  {
   "cell_type": "code",
   "execution_count": 35,
   "metadata": {},
   "outputs": [
    {
     "data": {
      "application/vnd.plotly.v1+json": {
       "config": {
        "plotlyServerURL": "https://plot.ly"
       },
       "data": [
        {
         "hoverlabel": {
          "namelength": 0
         },
         "hovertemplate": "x=%{x}<br>y=%{y}",
         "legendgroup": "",
         "line": {
          "color": "#636efa",
          "dash": "solid"
         },
         "mode": "lines",
         "name": "",
         "showlegend": false,
         "type": "scatter",
         "x": [
          -5,
          -4.9,
          -4.8,
          -4.7,
          -4.6,
          -4.5,
          -4.4,
          -4.3,
          -4.2,
          -4.1,
          -4,
          -3.9,
          -3.8,
          -3.7,
          -3.5999999999999996,
          -3.5,
          -3.4,
          -3.3,
          -3.2,
          -3.0999999999999996,
          -3,
          -2.9,
          -2.8,
          -2.6999999999999997,
          -2.5999999999999996,
          -2.5,
          -2.4,
          -2.3,
          -2.1999999999999997,
          -2.0999999999999996,
          -2,
          -1.9,
          -1.7999999999999998,
          -1.6999999999999997,
          -1.5999999999999996,
          -1.5,
          -1.4,
          -1.2999999999999998,
          -1.1999999999999997,
          -1.0999999999999996,
          -1,
          -0.8999999999999995,
          -0.7999999999999998,
          -0.7000000000000002,
          -0.5999999999999996,
          -0.5,
          -0.39999999999999947,
          -0.2999999999999998,
          -0.1999999999999993,
          -0.09999999999999964,
          0,
          0.10000000000000053,
          0.20000000000000018,
          0.3000000000000007,
          0.40000000000000036,
          0.5,
          0.6000000000000005,
          0.7000000000000002,
          0.8000000000000007,
          0.9000000000000004,
          1,
          1.1000000000000005,
          1.2000000000000002,
          1.3000000000000007,
          1.4000000000000004,
          1.5,
          1.6000000000000005,
          1.7000000000000002,
          1.8000000000000007,
          1.9000000000000004,
          2,
          2.1000000000000005,
          2.2,
          2.3000000000000007,
          2.4000000000000004,
          2.5,
          2.6000000000000005,
          2.7,
          2.8000000000000007,
          2.9000000000000004,
          3,
          3.0999999999999996,
          3.200000000000001,
          3.3000000000000007,
          3.4000000000000004,
          3.5,
          3.5999999999999996,
          3.700000000000001,
          3.8000000000000007,
          3.9000000000000004,
          4,
          4.1,
          4.200000000000001,
          4.300000000000001,
          4.4,
          4.5,
          4.600000000000001,
          4.700000000000001,
          4.800000000000001,
          4.9
         ],
         "xaxis": "x",
         "y": [
          3.481624606904505e-79,
          4.4537658219339555e-76,
          4.9306734259730695e-73,
          4.7240939383947323e-70,
          3.9170961923162185e-67,
          2.8108869157342945e-64,
          1.7456450319213998e-61,
          9.382140344656888e-59,
          4.363965806752612e-56,
          1.75668615526584e-53,
          6.119845294343462e-51,
          1.8451009573973106e-48,
          4.8143011173085745e-46,
          1.0871257734324585e-43,
          2.124514792469738e-41,
          3.593131835103865e-39,
          5.259203436359551e-37,
          6.661932291508016e-35,
          7.30321160049113e-33,
          6.928847118330293e-31,
          5.689072908628263e-29,
          4.042550423691149e-27,
          2.486009691485382e-25,
          1.3230724143213671e-23,
          6.093935278475429e-22,
          2.4291005133881467e-20,
          8.379663125099409e-19,
          2.501733586743055e-17,
          6.463815984270594e-16,
          1.4453410408698197e-14,
          2.796952628743142e-13,
          4.68417716485969e-12,
          6.789142742013e-11,
          8.515889012088041e-10,
          9.244394510014596e-09,
          8.684811063388343e-08,
          7.061154341645379e-07,
          4.968490449565517e-06,
          3.0255660613717806e-05,
          0.0001594491638129787,
          0.0007272291484155627,
          0.002870474776363264,
          0.009805497148910441,
          0.028988044950307327,
          0.07416545406842262,
          0.16421688863448014,
          0.3146787413672169,
          0.5218556802438921,
          0.7489741885205579,
          0.9302864873784223,
          1,
          0.9302864873784211,
          0.748974188520556,
          0.5218556802438901,
          0.31467874136721535,
          0.16421688863448014,
          0.07416545406842205,
          0.028988044950307327,
          0.009805497148910346,
          0.0028704747763632307,
          0.0007272291484155627,
          0.00015944916381297646,
          3.025566061371759e-05,
          4.968490449565428e-06,
          7.061154341645317e-07,
          8.684811063388343e-08,
          9.2443945100144e-09,
          8.51588901208798e-10,
          6.789142742012855e-11,
          4.68417716485964e-12,
          2.796952628743142e-13,
          1.4453410408697837e-14,
          6.463815984270503e-16,
          2.501733586742984e-17,
          8.37966312509935e-19,
          2.4291005133881467e-20,
          6.093935278475255e-22,
          1.3230724143213389e-23,
          2.486009691485294e-25,
          4.042550423691091e-27,
          5.689072908628263e-29,
          6.928847118330293e-31,
          7.303211600490818e-33,
          6.661932291507827e-35,
          5.259203436359476e-37,
          3.593131835103865e-39,
          2.124514792469738e-41,
          1.087125773432412e-43,
          4.814301117308369e-46,
          1.8451009573972845e-48,
          6.119845294343462e-51,
          1.75668615526584e-53,
          4.363965806752425e-56,
          9.382140344656355e-59,
          1.7456450319213998e-61,
          2.8108869157342945e-64,
          3.917096192315773e-67,
          4.7240939383944634e-70,
          4.9306734259729294e-73,
          4.4537658219339555e-76
         ],
         "yaxis": "y"
        }
       ],
       "layout": {
        "autosize": true,
        "legend": {
         "tracegroupgap": 0
        },
        "margin": {
         "t": 60
        },
        "template": {
         "data": {
          "bar": [
           {
            "error_x": {
             "color": "#2a3f5f"
            },
            "error_y": {
             "color": "#2a3f5f"
            },
            "marker": {
             "line": {
              "color": "#E5ECF6",
              "width": 0.5
             }
            },
            "type": "bar"
           }
          ],
          "barpolar": [
           {
            "marker": {
             "line": {
              "color": "#E5ECF6",
              "width": 0.5
             }
            },
            "type": "barpolar"
           }
          ],
          "carpet": [
           {
            "aaxis": {
             "endlinecolor": "#2a3f5f",
             "gridcolor": "white",
             "linecolor": "white",
             "minorgridcolor": "white",
             "startlinecolor": "#2a3f5f"
            },
            "baxis": {
             "endlinecolor": "#2a3f5f",
             "gridcolor": "white",
             "linecolor": "white",
             "minorgridcolor": "white",
             "startlinecolor": "#2a3f5f"
            },
            "type": "carpet"
           }
          ],
          "choropleth": [
           {
            "colorbar": {
             "outlinewidth": 0,
             "ticks": ""
            },
            "type": "choropleth"
           }
          ],
          "contour": [
           {
            "colorbar": {
             "outlinewidth": 0,
             "ticks": ""
            },
            "colorscale": [
             [
              0,
              "#0d0887"
             ],
             [
              0.1111111111111111,
              "#46039f"
             ],
             [
              0.2222222222222222,
              "#7201a8"
             ],
             [
              0.3333333333333333,
              "#9c179e"
             ],
             [
              0.4444444444444444,
              "#bd3786"
             ],
             [
              0.5555555555555556,
              "#d8576b"
             ],
             [
              0.6666666666666666,
              "#ed7953"
             ],
             [
              0.7777777777777778,
              "#fb9f3a"
             ],
             [
              0.8888888888888888,
              "#fdca26"
             ],
             [
              1,
              "#f0f921"
             ]
            ],
            "type": "contour"
           }
          ],
          "contourcarpet": [
           {
            "colorbar": {
             "outlinewidth": 0,
             "ticks": ""
            },
            "type": "contourcarpet"
           }
          ],
          "heatmap": [
           {
            "colorbar": {
             "outlinewidth": 0,
             "ticks": ""
            },
            "colorscale": [
             [
              0,
              "#0d0887"
             ],
             [
              0.1111111111111111,
              "#46039f"
             ],
             [
              0.2222222222222222,
              "#7201a8"
             ],
             [
              0.3333333333333333,
              "#9c179e"
             ],
             [
              0.4444444444444444,
              "#bd3786"
             ],
             [
              0.5555555555555556,
              "#d8576b"
             ],
             [
              0.6666666666666666,
              "#ed7953"
             ],
             [
              0.7777777777777778,
              "#fb9f3a"
             ],
             [
              0.8888888888888888,
              "#fdca26"
             ],
             [
              1,
              "#f0f921"
             ]
            ],
            "type": "heatmap"
           }
          ],
          "heatmapgl": [
           {
            "colorbar": {
             "outlinewidth": 0,
             "ticks": ""
            },
            "colorscale": [
             [
              0,
              "#0d0887"
             ],
             [
              0.1111111111111111,
              "#46039f"
             ],
             [
              0.2222222222222222,
              "#7201a8"
             ],
             [
              0.3333333333333333,
              "#9c179e"
             ],
             [
              0.4444444444444444,
              "#bd3786"
             ],
             [
              0.5555555555555556,
              "#d8576b"
             ],
             [
              0.6666666666666666,
              "#ed7953"
             ],
             [
              0.7777777777777778,
              "#fb9f3a"
             ],
             [
              0.8888888888888888,
              "#fdca26"
             ],
             [
              1,
              "#f0f921"
             ]
            ],
            "type": "heatmapgl"
           }
          ],
          "histogram": [
           {
            "marker": {
             "colorbar": {
              "outlinewidth": 0,
              "ticks": ""
             }
            },
            "type": "histogram"
           }
          ],
          "histogram2d": [
           {
            "colorbar": {
             "outlinewidth": 0,
             "ticks": ""
            },
            "colorscale": [
             [
              0,
              "#0d0887"
             ],
             [
              0.1111111111111111,
              "#46039f"
             ],
             [
              0.2222222222222222,
              "#7201a8"
             ],
             [
              0.3333333333333333,
              "#9c179e"
             ],
             [
              0.4444444444444444,
              "#bd3786"
             ],
             [
              0.5555555555555556,
              "#d8576b"
             ],
             [
              0.6666666666666666,
              "#ed7953"
             ],
             [
              0.7777777777777778,
              "#fb9f3a"
             ],
             [
              0.8888888888888888,
              "#fdca26"
             ],
             [
              1,
              "#f0f921"
             ]
            ],
            "type": "histogram2d"
           }
          ],
          "histogram2dcontour": [
           {
            "colorbar": {
             "outlinewidth": 0,
             "ticks": ""
            },
            "colorscale": [
             [
              0,
              "#0d0887"
             ],
             [
              0.1111111111111111,
              "#46039f"
             ],
             [
              0.2222222222222222,
              "#7201a8"
             ],
             [
              0.3333333333333333,
              "#9c179e"
             ],
             [
              0.4444444444444444,
              "#bd3786"
             ],
             [
              0.5555555555555556,
              "#d8576b"
             ],
             [
              0.6666666666666666,
              "#ed7953"
             ],
             [
              0.7777777777777778,
              "#fb9f3a"
             ],
             [
              0.8888888888888888,
              "#fdca26"
             ],
             [
              1,
              "#f0f921"
             ]
            ],
            "type": "histogram2dcontour"
           }
          ],
          "mesh3d": [
           {
            "colorbar": {
             "outlinewidth": 0,
             "ticks": ""
            },
            "type": "mesh3d"
           }
          ],
          "parcoords": [
           {
            "line": {
             "colorbar": {
              "outlinewidth": 0,
              "ticks": ""
             }
            },
            "type": "parcoords"
           }
          ],
          "pie": [
           {
            "automargin": true,
            "type": "pie"
           }
          ],
          "scatter": [
           {
            "marker": {
             "colorbar": {
              "outlinewidth": 0,
              "ticks": ""
             }
            },
            "type": "scatter"
           }
          ],
          "scatter3d": [
           {
            "line": {
             "colorbar": {
              "outlinewidth": 0,
              "ticks": ""
             }
            },
            "marker": {
             "colorbar": {
              "outlinewidth": 0,
              "ticks": ""
             }
            },
            "type": "scatter3d"
           }
          ],
          "scattercarpet": [
           {
            "marker": {
             "colorbar": {
              "outlinewidth": 0,
              "ticks": ""
             }
            },
            "type": "scattercarpet"
           }
          ],
          "scattergeo": [
           {
            "marker": {
             "colorbar": {
              "outlinewidth": 0,
              "ticks": ""
             }
            },
            "type": "scattergeo"
           }
          ],
          "scattergl": [
           {
            "marker": {
             "colorbar": {
              "outlinewidth": 0,
              "ticks": ""
             }
            },
            "type": "scattergl"
           }
          ],
          "scattermapbox": [
           {
            "marker": {
             "colorbar": {
              "outlinewidth": 0,
              "ticks": ""
             }
            },
            "type": "scattermapbox"
           }
          ],
          "scatterpolar": [
           {
            "marker": {
             "colorbar": {
              "outlinewidth": 0,
              "ticks": ""
             }
            },
            "type": "scatterpolar"
           }
          ],
          "scatterpolargl": [
           {
            "marker": {
             "colorbar": {
              "outlinewidth": 0,
              "ticks": ""
             }
            },
            "type": "scatterpolargl"
           }
          ],
          "scatterternary": [
           {
            "marker": {
             "colorbar": {
              "outlinewidth": 0,
              "ticks": ""
             }
            },
            "type": "scatterternary"
           }
          ],
          "surface": [
           {
            "colorbar": {
             "outlinewidth": 0,
             "ticks": ""
            },
            "colorscale": [
             [
              0,
              "#0d0887"
             ],
             [
              0.1111111111111111,
              "#46039f"
             ],
             [
              0.2222222222222222,
              "#7201a8"
             ],
             [
              0.3333333333333333,
              "#9c179e"
             ],
             [
              0.4444444444444444,
              "#bd3786"
             ],
             [
              0.5555555555555556,
              "#d8576b"
             ],
             [
              0.6666666666666666,
              "#ed7953"
             ],
             [
              0.7777777777777778,
              "#fb9f3a"
             ],
             [
              0.8888888888888888,
              "#fdca26"
             ],
             [
              1,
              "#f0f921"
             ]
            ],
            "type": "surface"
           }
          ],
          "table": [
           {
            "cells": {
             "fill": {
              "color": "#EBF0F8"
             },
             "line": {
              "color": "white"
             }
            },
            "header": {
             "fill": {
              "color": "#C8D4E3"
             },
             "line": {
              "color": "white"
             }
            },
            "type": "table"
           }
          ]
         },
         "layout": {
          "annotationdefaults": {
           "arrowcolor": "#2a3f5f",
           "arrowhead": 0,
           "arrowwidth": 1
          },
          "coloraxis": {
           "colorbar": {
            "outlinewidth": 0,
            "ticks": ""
           }
          },
          "colorscale": {
           "diverging": [
            [
             0,
             "#8e0152"
            ],
            [
             0.1,
             "#c51b7d"
            ],
            [
             0.2,
             "#de77ae"
            ],
            [
             0.3,
             "#f1b6da"
            ],
            [
             0.4,
             "#fde0ef"
            ],
            [
             0.5,
             "#f7f7f7"
            ],
            [
             0.6,
             "#e6f5d0"
            ],
            [
             0.7,
             "#b8e186"
            ],
            [
             0.8,
             "#7fbc41"
            ],
            [
             0.9,
             "#4d9221"
            ],
            [
             1,
             "#276419"
            ]
           ],
           "sequential": [
            [
             0,
             "#0d0887"
            ],
            [
             0.1111111111111111,
             "#46039f"
            ],
            [
             0.2222222222222222,
             "#7201a8"
            ],
            [
             0.3333333333333333,
             "#9c179e"
            ],
            [
             0.4444444444444444,
             "#bd3786"
            ],
            [
             0.5555555555555556,
             "#d8576b"
            ],
            [
             0.6666666666666666,
             "#ed7953"
            ],
            [
             0.7777777777777778,
             "#fb9f3a"
            ],
            [
             0.8888888888888888,
             "#fdca26"
            ],
            [
             1,
             "#f0f921"
            ]
           ],
           "sequentialminus": [
            [
             0,
             "#0d0887"
            ],
            [
             0.1111111111111111,
             "#46039f"
            ],
            [
             0.2222222222222222,
             "#7201a8"
            ],
            [
             0.3333333333333333,
             "#9c179e"
            ],
            [
             0.4444444444444444,
             "#bd3786"
            ],
            [
             0.5555555555555556,
             "#d8576b"
            ],
            [
             0.6666666666666666,
             "#ed7953"
            ],
            [
             0.7777777777777778,
             "#fb9f3a"
            ],
            [
             0.8888888888888888,
             "#fdca26"
            ],
            [
             1,
             "#f0f921"
            ]
           ]
          },
          "colorway": [
           "#636efa",
           "#EF553B",
           "#00cc96",
           "#ab63fa",
           "#FFA15A",
           "#19d3f3",
           "#FF6692",
           "#B6E880",
           "#FF97FF",
           "#FECB52"
          ],
          "font": {
           "color": "#2a3f5f"
          },
          "geo": {
           "bgcolor": "white",
           "lakecolor": "white",
           "landcolor": "#E5ECF6",
           "showlakes": true,
           "showland": true,
           "subunitcolor": "white"
          },
          "hoverlabel": {
           "align": "left"
          },
          "hovermode": "closest",
          "mapbox": {
           "style": "light"
          },
          "paper_bgcolor": "white",
          "plot_bgcolor": "#E5ECF6",
          "polar": {
           "angularaxis": {
            "gridcolor": "white",
            "linecolor": "white",
            "ticks": ""
           },
           "bgcolor": "#E5ECF6",
           "radialaxis": {
            "gridcolor": "white",
            "linecolor": "white",
            "ticks": ""
           }
          },
          "scene": {
           "xaxis": {
            "backgroundcolor": "#E5ECF6",
            "gridcolor": "white",
            "gridwidth": 2,
            "linecolor": "white",
            "showbackground": true,
            "ticks": "",
            "zerolinecolor": "white"
           },
           "yaxis": {
            "backgroundcolor": "#E5ECF6",
            "gridcolor": "white",
            "gridwidth": 2,
            "linecolor": "white",
            "showbackground": true,
            "ticks": "",
            "zerolinecolor": "white"
           },
           "zaxis": {
            "backgroundcolor": "#E5ECF6",
            "gridcolor": "white",
            "gridwidth": 2,
            "linecolor": "white",
            "showbackground": true,
            "ticks": "",
            "zerolinecolor": "white"
           }
          },
          "shapedefaults": {
           "line": {
            "color": "#2a3f5f"
           }
          },
          "ternary": {
           "aaxis": {
            "gridcolor": "white",
            "linecolor": "white",
            "ticks": ""
           },
           "baxis": {
            "gridcolor": "white",
            "linecolor": "white",
            "ticks": ""
           },
           "bgcolor": "#E5ECF6",
           "caxis": {
            "gridcolor": "white",
            "linecolor": "white",
            "ticks": ""
           }
          },
          "title": {
           "x": 0.05
          },
          "xaxis": {
           "automargin": true,
           "gridcolor": "white",
           "linecolor": "white",
           "ticks": "",
           "title": {
            "standoff": 15
           },
           "zerolinecolor": "white",
           "zerolinewidth": 2
          },
          "yaxis": {
           "automargin": true,
           "gridcolor": "white",
           "linecolor": "white",
           "ticks": "",
           "title": {
            "standoff": 15
           },
           "zerolinecolor": "white",
           "zerolinewidth": 2
          }
         }
        },
        "xaxis": {
         "anchor": "y",
         "autorange": true,
         "domain": [
          0,
          1
         ],
         "range": [
          -5,
          4.9
         ],
         "title": {
          "text": "x"
         },
         "type": "linear"
        },
        "yaxis": {
         "anchor": "x",
         "autorange": true,
         "domain": [
          0,
          1
         ],
         "range": [
          -0.05555555555555555,
          1.0555555555555556
         ],
         "title": {
          "text": "y"
         },
         "type": "linear"
        }
       }
      },
      "image/png": "[encoded data removed]",
      "text/html": [
       "<div>\n",
       "        \n",
       "        \n",
       "            <div id=\"0b9a324c-1f45-48e8-a0f0-1cc95126d265\" class=\"plotly-graph-div\" style=\"height:525px; width:100%;\"></div>\n",
       "            <script type=\"text/javascript\">\n",
       "                require([\"plotly\"], function(Plotly) {\n",
       "                    window.PLOTLYENV=window.PLOTLYENV || {};\n",
       "                    \n",
       "                if (document.getElementById(\"0b9a324c-1f45-48e8-a0f0-1cc95126d265\")) {\n",
       "                    Plotly.newPlot(\n",
       "                        '0b9a324c-1f45-48e8-a0f0-1cc95126d265',\n",
       "                        [{\"hoverlabel\": {\"namelength\": 0}, \"hovertemplate\": \"x=%{x}<br>y=%{y}\", \"legendgroup\": \"\", \"line\": {\"color\": \"#636efa\", \"dash\": \"solid\"}, \"mode\": \"lines\", \"name\": \"\", \"showlegend\": false, \"type\": \"scatter\", \"x\": [-5.0, -4.9, -4.8, -4.7, -4.6, -4.5, -4.4, -4.3, -4.2, -4.1, -4.0, -3.9, -3.8, -3.7, -3.5999999999999996, -3.5, -3.4, -3.3, -3.2, -3.0999999999999996, -3.0, -2.9, -2.8, -2.6999999999999997, -2.5999999999999996, -2.5, -2.4, -2.3, -2.1999999999999997, -2.0999999999999996, -2.0, -1.9, -1.7999999999999998, -1.6999999999999997, -1.5999999999999996, -1.5, -1.4, -1.2999999999999998, -1.1999999999999997, -1.0999999999999996, -1.0, -0.8999999999999995, -0.7999999999999998, -0.7000000000000002, -0.5999999999999996, -0.5, -0.39999999999999947, -0.2999999999999998, -0.1999999999999993, -0.09999999999999964, 0.0, 0.10000000000000053, 0.20000000000000018, 0.3000000000000007, 0.40000000000000036, 0.5, 0.6000000000000005, 0.7000000000000002, 0.8000000000000007, 0.9000000000000004, 1.0, 1.1000000000000005, 1.2000000000000002, 1.3000000000000007, 1.4000000000000004, 1.5, 1.6000000000000005, 1.7000000000000002, 1.8000000000000007, 1.9000000000000004, 2.0, 2.1000000000000005, 2.2, 2.3000000000000007, 2.4000000000000004, 2.5, 2.6000000000000005, 2.7, 2.8000000000000007, 2.9000000000000004, 3.0, 3.0999999999999996, 3.200000000000001, 3.3000000000000007, 3.4000000000000004, 3.5, 3.5999999999999996, 3.700000000000001, 3.8000000000000007, 3.9000000000000004, 4.0, 4.1, 4.200000000000001, 4.300000000000001, 4.4, 4.5, 4.600000000000001, 4.700000000000001, 4.800000000000001, 4.9], \"xaxis\": \"x\", \"y\": [3.481624606904505e-79, 4.4537658219339555e-76, 4.9306734259730695e-73, 4.7240939383947323e-70, 3.9170961923162185e-67, 2.8108869157342945e-64, 1.7456450319213998e-61, 9.382140344656888e-59, 4.363965806752612e-56, 1.75668615526584e-53, 6.119845294343462e-51, 1.8451009573973106e-48, 4.8143011173085745e-46, 1.0871257734324585e-43, 2.124514792469738e-41, 3.593131835103865e-39, 5.259203436359551e-37, 6.661932291508016e-35, 7.30321160049113e-33, 6.928847118330293e-31, 5.689072908628263e-29, 4.042550423691149e-27, 2.486009691485382e-25, 1.3230724143213671e-23, 6.093935278475429e-22, 2.4291005133881467e-20, 8.379663125099409e-19, 2.501733586743055e-17, 6.463815984270594e-16, 1.4453410408698197e-14, 2.796952628743142e-13, 4.68417716485969e-12, 6.789142742013e-11, 8.515889012088041e-10, 9.244394510014596e-09, 8.684811063388343e-08, 7.061154341645379e-07, 4.968490449565517e-06, 3.0255660613717806e-05, 0.0001594491638129787, 0.0007272291484155627, 0.002870474776363264, 0.009805497148910441, 0.028988044950307327, 0.07416545406842262, 0.16421688863448014, 0.3146787413672169, 0.5218556802438921, 0.7489741885205579, 0.9302864873784223, 1.0, 0.9302864873784211, 0.748974188520556, 0.5218556802438901, 0.31467874136721535, 0.16421688863448014, 0.07416545406842205, 0.028988044950307327, 0.009805497148910346, 0.0028704747763632307, 0.0007272291484155627, 0.00015944916381297646, 3.025566061371759e-05, 4.968490449565428e-06, 7.061154341645317e-07, 8.684811063388343e-08, 9.2443945100144e-09, 8.51588901208798e-10, 6.789142742012855e-11, 4.68417716485964e-12, 2.796952628743142e-13, 1.4453410408697837e-14, 6.463815984270503e-16, 2.501733586742984e-17, 8.37966312509935e-19, 2.4291005133881467e-20, 6.093935278475255e-22, 1.3230724143213389e-23, 2.486009691485294e-25, 4.042550423691091e-27, 5.689072908628263e-29, 6.928847118330293e-31, 7.303211600490818e-33, 6.661932291507827e-35, 5.259203436359476e-37, 3.593131835103865e-39, 2.124514792469738e-41, 1.087125773432412e-43, 4.814301117308369e-46, 1.8451009573972845e-48, 6.119845294343462e-51, 1.75668615526584e-53, 4.363965806752425e-56, 9.382140344656355e-59, 1.7456450319213998e-61, 2.8108869157342945e-64, 3.917096192315773e-67, 4.7240939383944634e-70, 4.9306734259729294e-73, 4.4537658219339555e-76], \"yaxis\": \"y\"}],\n",
       "                        {\"legend\": {\"tracegroupgap\": 0}, \"margin\": {\"t\": 60}, \"template\": {\"data\": {\"bar\": [{\"error_x\": {\"color\": \"#2a3f5f\"}, \"error_y\": {\"color\": \"#2a3f5f\"}, \"marker\": {\"line\": {\"color\": \"#E5ECF6\", \"width\": 0.5}}, \"type\": \"bar\"}], \"barpolar\": [{\"marker\": {\"line\": {\"color\": \"#E5ECF6\", \"width\": 0.5}}, \"type\": \"barpolar\"}], \"carpet\": [{\"aaxis\": {\"endlinecolor\": \"#2a3f5f\", \"gridcolor\": \"white\", \"linecolor\": \"white\", \"minorgridcolor\": \"white\", \"startlinecolor\": \"#2a3f5f\"}, \"baxis\": {\"endlinecolor\": \"#2a3f5f\", \"gridcolor\": \"white\", \"linecolor\": \"white\", \"minorgridcolor\": \"white\", \"startlinecolor\": \"#2a3f5f\"}, \"type\": \"carpet\"}], \"choropleth\": [{\"colorbar\": {\"outlinewidth\": 0, \"ticks\": \"\"}, \"type\": \"choropleth\"}], \"contour\": [{\"colorbar\": {\"outlinewidth\": 0, \"ticks\": \"\"}, \"colorscale\": [[0.0, \"#0d0887\"], [0.1111111111111111, \"#46039f\"], [0.2222222222222222, \"#7201a8\"], [0.3333333333333333, \"#9c179e\"], [0.4444444444444444, \"#bd3786\"], [0.5555555555555556, \"#d8576b\"], [0.6666666666666666, \"#ed7953\"], [0.7777777777777778, \"#fb9f3a\"], [0.8888888888888888, \"#fdca26\"], [1.0, \"#f0f921\"]], \"type\": \"contour\"}], \"contourcarpet\": [{\"colorbar\": {\"outlinewidth\": 0, \"ticks\": \"\"}, \"type\": \"contourcarpet\"}], \"heatmap\": [{\"colorbar\": {\"outlinewidth\": 0, \"ticks\": \"\"}, \"colorscale\": [[0.0, \"#0d0887\"], [0.1111111111111111, \"#46039f\"], [0.2222222222222222, \"#7201a8\"], [0.3333333333333333, \"#9c179e\"], [0.4444444444444444, \"#bd3786\"], [0.5555555555555556, \"#d8576b\"], [0.6666666666666666, \"#ed7953\"], [0.7777777777777778, \"#fb9f3a\"], [0.8888888888888888, \"#fdca26\"], [1.0, \"#f0f921\"]], \"type\": \"heatmap\"}], \"heatmapgl\": [{\"colorbar\": {\"outlinewidth\": 0, \"ticks\": \"\"}, \"colorscale\": [[0.0, \"#0d0887\"], [0.1111111111111111, \"#46039f\"], [0.2222222222222222, \"#7201a8\"], [0.3333333333333333, \"#9c179e\"], [0.4444444444444444, \"#bd3786\"], [0.5555555555555556, \"#d8576b\"], [0.6666666666666666, \"#ed7953\"], [0.7777777777777778, \"#fb9f3a\"], [0.8888888888888888, \"#fdca26\"], [1.0, \"#f0f921\"]], \"type\": \"heatmapgl\"}], \"histogram\": [{\"marker\": {\"colorbar\": {\"outlinewidth\": 0, \"ticks\": \"\"}}, \"type\": \"histogram\"}], \"histogram2d\": [{\"colorbar\": {\"outlinewidth\": 0, \"ticks\": \"\"}, \"colorscale\": [[0.0, \"#0d0887\"], [0.1111111111111111, \"#46039f\"], [0.2222222222222222, \"#7201a8\"], [0.3333333333333333, \"#9c179e\"], [0.4444444444444444, \"#bd3786\"], [0.5555555555555556, \"#d8576b\"], [0.6666666666666666, \"#ed7953\"], [0.7777777777777778, \"#fb9f3a\"], [0.8888888888888888, \"#fdca26\"], [1.0, \"#f0f921\"]], \"type\": \"histogram2d\"}], \"histogram2dcontour\": [{\"colorbar\": {\"outlinewidth\": 0, \"ticks\": \"\"}, \"colorscale\": [[0.0, \"#0d0887\"], [0.1111111111111111, \"#46039f\"], [0.2222222222222222, \"#7201a8\"], [0.3333333333333333, \"#9c179e\"], [0.4444444444444444, \"#bd3786\"], [0.5555555555555556, \"#d8576b\"], [0.6666666666666666, \"#ed7953\"], [0.7777777777777778, \"#fb9f3a\"], [0.8888888888888888, \"#fdca26\"], [1.0, \"#f0f921\"]], \"type\": \"histogram2dcontour\"}], \"mesh3d\": [{\"colorbar\": {\"outlinewidth\": 0, \"ticks\": \"\"}, \"type\": \"mesh3d\"}], \"parcoords\": [{\"line\": {\"colorbar\": {\"outlinewidth\": 0, \"ticks\": \"\"}}, \"type\": \"parcoords\"}], \"pie\": [{\"automargin\": true, \"type\": \"pie\"}], \"scatter\": [{\"marker\": {\"colorbar\": {\"outlinewidth\": 0, \"ticks\": \"\"}}, \"type\": \"scatter\"}], \"scatter3d\": [{\"line\": {\"colorbar\": {\"outlinewidth\": 0, \"ticks\": \"\"}}, \"marker\": {\"colorbar\": {\"outlinewidth\": 0, \"ticks\": \"\"}}, \"type\": \"scatter3d\"}], \"scattercarpet\": [{\"marker\": {\"colorbar\": {\"outlinewidth\": 0, \"ticks\": \"\"}}, \"type\": \"scattercarpet\"}], \"scattergeo\": [{\"marker\": {\"colorbar\": {\"outlinewidth\": 0, \"ticks\": \"\"}}, \"type\": \"scattergeo\"}], \"scattergl\": [{\"marker\": {\"colorbar\": {\"outlinewidth\": 0, \"ticks\": \"\"}}, \"type\": \"scattergl\"}], \"scattermapbox\": [{\"marker\": {\"colorbar\": {\"outlinewidth\": 0, \"ticks\": \"\"}}, \"type\": \"scattermapbox\"}], \"scatterpolar\": [{\"marker\": {\"colorbar\": {\"outlinewidth\": 0, \"ticks\": \"\"}}, \"type\": \"scatterpolar\"}], \"scatterpolargl\": [{\"marker\": {\"colorbar\": {\"outlinewidth\": 0, \"ticks\": \"\"}}, \"type\": \"scatterpolargl\"}], \"scatterternary\": [{\"marker\": {\"colorbar\": {\"outlinewidth\": 0, \"ticks\": \"\"}}, \"type\": \"scatterternary\"}], \"surface\": [{\"colorbar\": {\"outlinewidth\": 0, \"ticks\": \"\"}, \"colorscale\": [[0.0, \"#0d0887\"], [0.1111111111111111, \"#46039f\"], [0.2222222222222222, \"#7201a8\"], [0.3333333333333333, \"#9c179e\"], [0.4444444444444444, \"#bd3786\"], [0.5555555555555556, \"#d8576b\"], [0.6666666666666666, \"#ed7953\"], [0.7777777777777778, \"#fb9f3a\"], [0.8888888888888888, \"#fdca26\"], [1.0, \"#f0f921\"]], \"type\": \"surface\"}], \"table\": [{\"cells\": {\"fill\": {\"color\": \"#EBF0F8\"}, \"line\": {\"color\": \"white\"}}, \"header\": {\"fill\": {\"color\": \"#C8D4E3\"}, \"line\": {\"color\": \"white\"}}, \"type\": \"table\"}]}, \"layout\": {\"annotationdefaults\": {\"arrowcolor\": \"#2a3f5f\", \"arrowhead\": 0, \"arrowwidth\": 1}, \"coloraxis\": {\"colorbar\": {\"outlinewidth\": 0, \"ticks\": \"\"}}, \"colorscale\": {\"diverging\": [[0, \"#8e0152\"], [0.1, \"#c51b7d\"], [0.2, \"#de77ae\"], [0.3, \"#f1b6da\"], [0.4, \"#fde0ef\"], [0.5, \"#f7f7f7\"], [0.6, \"#e6f5d0\"], [0.7, \"#b8e186\"], [0.8, \"#7fbc41\"], [0.9, \"#4d9221\"], [1, \"#276419\"]], \"sequential\": [[0.0, \"#0d0887\"], [0.1111111111111111, \"#46039f\"], [0.2222222222222222, \"#7201a8\"], [0.3333333333333333, \"#9c179e\"], [0.4444444444444444, \"#bd3786\"], [0.5555555555555556, \"#d8576b\"], [0.6666666666666666, \"#ed7953\"], [0.7777777777777778, \"#fb9f3a\"], [0.8888888888888888, \"#fdca26\"], [1.0, \"#f0f921\"]], \"sequentialminus\": [[0.0, \"#0d0887\"], [0.1111111111111111, \"#46039f\"], [0.2222222222222222, \"#7201a8\"], [0.3333333333333333, \"#9c179e\"], [0.4444444444444444, \"#bd3786\"], [0.5555555555555556, \"#d8576b\"], [0.6666666666666666, \"#ed7953\"], [0.7777777777777778, \"#fb9f3a\"], [0.8888888888888888, \"#fdca26\"], [1.0, \"#f0f921\"]]}, \"colorway\": [\"#636efa\", \"#EF553B\", \"#00cc96\", \"#ab63fa\", \"#FFA15A\", \"#19d3f3\", \"#FF6692\", \"#B6E880\", \"#FF97FF\", \"#FECB52\"], \"font\": {\"color\": \"#2a3f5f\"}, \"geo\": {\"bgcolor\": \"white\", \"lakecolor\": \"white\", \"landcolor\": \"#E5ECF6\", \"showlakes\": true, \"showland\": true, \"subunitcolor\": \"white\"}, \"hoverlabel\": {\"align\": \"left\"}, \"hovermode\": \"closest\", \"mapbox\": {\"style\": \"light\"}, \"paper_bgcolor\": \"white\", \"plot_bgcolor\": \"#E5ECF6\", \"polar\": {\"angularaxis\": {\"gridcolor\": \"white\", \"linecolor\": \"white\", \"ticks\": \"\"}, \"bgcolor\": \"#E5ECF6\", \"radialaxis\": {\"gridcolor\": \"white\", \"linecolor\": \"white\", \"ticks\": \"\"}}, \"scene\": {\"xaxis\": {\"backgroundcolor\": \"#E5ECF6\", \"gridcolor\": \"white\", \"gridwidth\": 2, \"linecolor\": \"white\", \"showbackground\": true, \"ticks\": \"\", \"zerolinecolor\": \"white\"}, \"yaxis\": {\"backgroundcolor\": \"#E5ECF6\", \"gridcolor\": \"white\", \"gridwidth\": 2, \"linecolor\": \"white\", \"showbackground\": true, \"ticks\": \"\", \"zerolinecolor\": \"white\"}, \"zaxis\": {\"backgroundcolor\": \"#E5ECF6\", \"gridcolor\": \"white\", \"gridwidth\": 2, \"linecolor\": \"white\", \"showbackground\": true, \"ticks\": \"\", \"zerolinecolor\": \"white\"}}, \"shapedefaults\": {\"line\": {\"color\": \"#2a3f5f\"}}, \"ternary\": {\"aaxis\": {\"gridcolor\": \"white\", \"linecolor\": \"white\", \"ticks\": \"\"}, \"baxis\": {\"gridcolor\": \"white\", \"linecolor\": \"white\", \"ticks\": \"\"}, \"bgcolor\": \"#E5ECF6\", \"caxis\": {\"gridcolor\": \"white\", \"linecolor\": \"white\", \"ticks\": \"\"}}, \"title\": {\"x\": 0.05}, \"xaxis\": {\"automargin\": true, \"gridcolor\": \"white\", \"linecolor\": \"white\", \"ticks\": \"\", \"title\": {\"standoff\": 15}, \"zerolinecolor\": \"white\", \"zerolinewidth\": 2}, \"yaxis\": {\"automargin\": true, \"gridcolor\": \"white\", \"linecolor\": \"white\", \"ticks\": \"\", \"title\": {\"standoff\": 15}, \"zerolinecolor\": \"white\", \"zerolinewidth\": 2}}}, \"xaxis\": {\"anchor\": \"y\", \"domain\": [0.0, 1.0], \"title\": {\"text\": \"x\"}}, \"yaxis\": {\"anchor\": \"x\", \"domain\": [0.0, 1.0], \"title\": {\"text\": \"y\"}}},\n",
       "                        {\"responsive\": true}\n",
       "                    ).then(function(){\n",
       "                            \n",
       "var gd = document.getElementById('0b9a324c-1f45-48e8-a0f0-1cc95126d265');\n",
       "var x = new MutationObserver(function (mutations, observer) {{\n",
       "        var display = window.getComputedStyle(gd).display;\n",
       "        if (!display || display === 'none') {{\n",
       "            console.log([gd, 'removed!']);\n",
       "            Plotly.purge(gd);\n",
       "            observer.disconnect();\n",
       "        }}\n",
       "}});\n",
       "\n",
       "// Listen for the removal of the full notebook cells\n",
       "var notebookContainer = gd.closest('#notebook-container');\n",
       "if (notebookContainer) {{\n",
       "    x.observe(notebookContainer, {childList: true});\n",
       "}}\n",
       "\n",
       "// Listen for the clearing of the current output cell\n",
       "var outputEl = gd.closest('.output');\n",
       "if (outputEl) {{\n",
       "    x.observe(outputEl, {childList: true});\n",
       "}}\n",
       "\n",
       "                        })\n",
       "                };\n",
       "                });\n",
       "            </script>\n",
       "        </div>"
      ]
     },
     "metadata": {},
     "output_type": "display_data"
    }
   ],
   "source": [
    "\n",
    "px.line(x=x,y=y2)"
   ]
  },
  {
   "cell_type": "code",
   "execution_count": null,
   "metadata": {},
   "outputs": [],
   "source": []
  },
  {
   "cell_type": "code",
   "execution_count": 37,
   "metadata": {},
   "outputs": [],
   "source": [
    "import tushare as ts"
   ]
  },
  {
   "cell_type": "code",
   "execution_count": 39,
   "metadata": {},
   "outputs": [],
   "source": [
    "pro = ts.pro_api()"
   ]
  },
  {
   "cell_type": "code",
   "execution_count": 40,
   "metadata": {},
   "outputs": [
    {
     "ename": "Exception",
     "evalue": "抱歉，您没有访问该接口的权限，权限的具体详情访问：https://tushare.pro/document/1?doc_id=108。",
     "output_type": "error",
     "traceback": [
      "\u001b[1;31m---------------------------------------------------------------------------\u001b[0m",
      "\u001b[1;31mException\u001b[0m                                 Traceback (most recent call last)",
      "\u001b[1;32m<ipython-input-40-7490c056d2b6>\u001b[0m in \u001b[0;36m<module>\u001b[1;34m\u001b[0m\n\u001b[1;32m----> 1\u001b[1;33m \u001b[0mdf\u001b[0m \u001b[1;33m=\u001b[0m \u001b[0mpro\u001b[0m\u001b[1;33m.\u001b[0m\u001b[0mindex_classify\u001b[0m\u001b[1;33m(\u001b[0m\u001b[0mlevel\u001b[0m\u001b[1;33m=\u001b[0m\u001b[1;34m'L2'\u001b[0m\u001b[1;33m,\u001b[0m \u001b[0msrc\u001b[0m\u001b[1;33m=\u001b[0m\u001b[1;34m'SW'\u001b[0m\u001b[1;33m)\u001b[0m\u001b[1;33m\u001b[0m\u001b[1;33m\u001b[0m\u001b[0m\n\u001b[0m",
      "\u001b[1;32mC:\\Anaconda3\\lib\\site-packages\\tushare\\pro\\client.py\u001b[0m in \u001b[0;36mquery\u001b[1;34m(self, api_name, fields, **kwargs)\u001b[0m\n\u001b[0;32m     41\u001b[0m         \u001b[0mresult\u001b[0m \u001b[1;33m=\u001b[0m \u001b[0mjson\u001b[0m\u001b[1;33m.\u001b[0m\u001b[0mloads\u001b[0m\u001b[1;33m(\u001b[0m\u001b[0mres\u001b[0m\u001b[1;33m.\u001b[0m\u001b[0mtext\u001b[0m\u001b[1;33m)\u001b[0m\u001b[1;33m\u001b[0m\u001b[1;33m\u001b[0m\u001b[0m\n\u001b[0;32m     42\u001b[0m         \u001b[1;32mif\u001b[0m \u001b[0mresult\u001b[0m\u001b[1;33m[\u001b[0m\u001b[1;34m'code'\u001b[0m\u001b[1;33m]\u001b[0m \u001b[1;33m!=\u001b[0m \u001b[1;36m0\u001b[0m\u001b[1;33m:\u001b[0m\u001b[1;33m\u001b[0m\u001b[1;33m\u001b[0m\u001b[0m\n\u001b[1;32m---> 43\u001b[1;33m             \u001b[1;32mraise\u001b[0m \u001b[0mException\u001b[0m\u001b[1;33m(\u001b[0m\u001b[0mresult\u001b[0m\u001b[1;33m[\u001b[0m\u001b[1;34m'msg'\u001b[0m\u001b[1;33m]\u001b[0m\u001b[1;33m)\u001b[0m\u001b[1;33m\u001b[0m\u001b[1;33m\u001b[0m\u001b[0m\n\u001b[0m\u001b[0;32m     44\u001b[0m         \u001b[0mdata\u001b[0m \u001b[1;33m=\u001b[0m \u001b[0mresult\u001b[0m\u001b[1;33m[\u001b[0m\u001b[1;34m'data'\u001b[0m\u001b[1;33m]\u001b[0m\u001b[1;33m\u001b[0m\u001b[1;33m\u001b[0m\u001b[0m\n\u001b[0;32m     45\u001b[0m         \u001b[0mcolumns\u001b[0m \u001b[1;33m=\u001b[0m \u001b[0mdata\u001b[0m\u001b[1;33m[\u001b[0m\u001b[1;34m'fields'\u001b[0m\u001b[1;33m]\u001b[0m\u001b[1;33m\u001b[0m\u001b[1;33m\u001b[0m\u001b[0m\n",
      "\u001b[1;31mException\u001b[0m: 抱歉，您没有访问该接口的权限，权限的具体详情访问：https://tushare.pro/document/1?doc_id=108。"
     ]
    }
   ],
   "source": [
    "df = pro.index_classify(level='L2', src='SW')"
   ]
  }
 ],
 "metadata": {
  "kernelspec": {
   "display_name": "Python 3",
   "language": "python",
   "name": "python3"
  },
  "language_info": {
   "codemirror_mode": {
    "name": "ipython",
    "version": 3
   },
   "file_extension": ".py",
   "mimetype": "text/x-python",
   "name": "python",
   "nbconvert_exporter": "python",
   "pygments_lexer": "ipython3",
   "version": "3.7.7"
  },
  "pycharm": {
   "stem_cell": {
    "cell_type": "raw",
    "metadata": {
     "collapsed": false
    },
    "source": []
   }
  }
 },
 "nbformat": 4,
 "nbformat_minor": 4
}
